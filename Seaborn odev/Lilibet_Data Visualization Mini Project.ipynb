{
 "cells": [
  {
   "cell_type": "markdown",
   "id": "0583a0c4",
   "metadata": {},
   "source": [
    "___\n",
    "\n",
    "<p style=\"text-align: center;\"><img src=\"https://techproeducation.com/wp-content/uploads/2022/01/Calisma-Yuzeyi-1-kopya-5-1-768x126.png\" class=\"img-fluid\" alt=\"TECHPRO\"></p>\n",
    "\n",
    "___"
   ]
  },
  {
   "cell_type": "markdown",
   "id": "33f88234",
   "metadata": {},
   "source": [
    "# Proje Adı: Film İncelemesi\n",
    "\n",
    "## Projenin amacı:\n",
    "\n",
    "Bu proje ile mini bir EDA (Exploratory Data Analysis) ve farklı veri görselleştirme kütüphanaleri kullanarak film verilerini incelemek ve farklı filmler arasındaki ilişkileri keşfet amaçlanmıştır.\n",
    "\n",
    "## Veri Seti:\n",
    "\n",
    "Araştırmada 2006-2016 yılları arasındaki yapılmış filmlerin yer aldığı \"IMDB-Movie-Data\"  veri seti kullanılacaktır. Veri seti kısaca yıllara göre IMDB'de en yüksek puan alan filmleri içermektedir. Data setinde her film için aşağıdaki değişkenler yer almaktadır:\n",
    "\n",
    "    Rank\n",
    "    Title\n",
    "    Genre\n",
    "    Description\n",
    "    Director\n",
    "    Actors\n",
    "    Year\n",
    "    Runtime (Minutes)\n",
    "    Rating\n",
    "    Votes\n",
    "    Revenue (Millions)\n",
    "    Metascore\n",
    "    \n",
    "Bu kapsamda aşağıdaki görevleri yapmanız gerekmektedir.\n",
    "    \n",
    "## Görevler :\n",
    "\n",
    "### 1. Veri setini pandas kütüphanesi kullanarak yükleyin ve index sütununu filmin başlığı yapın.\n",
    "\n",
    "### 2. Veri setini tanıyın.\n",
    "\n",
    "### 3. Veri setindeki sütun isimlerini kullanışlı hale getirin (Örn: Kısaltıp küçük harf yapmak gibi)\n",
    "\n",
    "### 4. Missing Value tespit edilsin ve bu kapsamda aşağıdaki şekilde mücadele edilsin.\n",
    "    a.Missing value kontrolü hem pandas hemde missingno kütüphanelerini kullanarak yapın  \n",
    "    b.Yüksek missing value olan değişken içindeki veriler o değişkenin ortalama skoru ile\n",
    "    doldurulsun.\n",
    "    c. Düşük missing value olan değişkendeki gözlemler kaldırılsın.\n",
    "    d. Missing value kontrolü tekrar hem pandas hemde missingno kütüphanelerini kullanarak kontrol edin ve bu data setini yeni bir değişkene atayın.\n",
    "\n",
    "### 5. Temizlenmiş veri seti içinden en yüksek rating e sahip 250 filmi seçerek \"top250\" isminde bir data seti oluşturun ve bunu lokalinize bu isimle kaydedin. Bu yeni data setini tekrar pandas kütüphanesini kullanarak okuyun.\n",
    "\n",
    "### 6. Veri setinin boyutunu ve özelliklerini inceleyin.\n",
    "    a. Veri setinin boyutunu inceleme\n",
    "    b. Veri setinin ilk 5 gözlemine göz atma\n",
    "    c. Random olarak 10 gözleme bakma\n",
    "    d. Veri setinin sütunlarına göz atma\n",
    "    e. Veri setinin özet istatistiklerini görüntüleme\n",
    "\n",
    "### 7. Verilerin doğruluğunun ve eksik değerlerinin olup olmadığını kontrol edin.\n",
    "    a. 4.madde ile benzer şelkilde eksik değerlerinin olup olmadığını kontrol\n",
    "\n",
    "### 8. Verileri görselleştirme:\n",
    "\n",
    "    a. Matplotlib kütüphanesi kullanarak, yıllara göre filmlerin sayısını gösteren bir çizgi grafik çizin.\n",
    "    b. Seaborn kütüphanesi kullanarak, en çok film yapılan 10 türü bar grafiğiyle gösterin.\n",
    "    c. Matplotlib ve Plotly kütüphanesi kullanarak, film türlerine göre filmlerin sayısını gösteren iki ayrı pasta grafik çizin.\n",
    "    \n",
    "\n",
    "### 9. İlişkileri görselleştirme:\n",
    "\n",
    "    a. Seaborn kütüphanesi kullanarak, veri setindeki nümerik değişkenlerin korelasyonunu \n",
    "    gösteren bir heatmap çizin.\n",
    "    b. Seaborn ile oyunculardan birden fazla filmde rol alan oyuncuların rol aldıkları film \n",
    "    sayılarına göre ilk 20 oyucuyu görselleştir. Not: Bu soru için kullanılacak data setimiz 936 \n",
    "    satırlık data seti olacak.\n",
    "    c. Plotly kütüphanesi kullanarak, Popüler 250 Filmin rating puanlarına göre hasılatını buble chart ile gösterin .\n",
    "    \n",
    "    \n",
    "\n",
    "### 10. Sonuçları sunma:\n",
    "\n",
    "    Çizilen tüm görsellerle ilgili elde ettiğiniz bulguları buraya yazınız. \n"
   ]
  },
  {
   "cell_type": "markdown",
   "id": "ac4e6773",
   "metadata": {},
   "source": [
    "## 1. Veri setini pandas kütüphanesi kullanarak yükleyin ve index sütununu filmin başlığı yapın"
   ]
  },
  {
   "cell_type": "markdown",
   "id": "16cadf71-9a6e-48b2-9787-b7b0ac3174ad",
   "metadata": {},
   "source": [
    "EDA SURECLERI\n",
    "1. kutuphanelerin cagrilmasi\n",
    "2. Datasetinin cagrilmasi\n",
    "3. verisetinin incelenmesi:\n",
    "\n",
    "#df.describe()\n",
    "#df.info()\n",
    "#df.columns\n",
    "#df.head()\n",
    "#df.sample(5)\n",
    "#df.corr()\n",
    "#len(df.columns) - columns sayisi\n",
    "len(df.index) -row sayisi\n",
    "#gibi methodlarla \n",
    "\n",
    "unique degerlere de bak\n"
   ]
  },
  {
   "cell_type": "code",
   "execution_count": 1,
   "id": "5e22ef0f-1286-458a-aae6-571d4cdffc30",
   "metadata": {},
   "outputs": [],
   "source": [
    "import seaborn as sns\n",
    "import matplotlib.pyplot as plt\n",
    "import pandas as pd\n",
    "import numpy as np"
   ]
  },
  {
   "cell_type": "code",
   "execution_count": 2,
   "id": "89f3bc1f-af51-4f6a-85e0-e5a990f24f0d",
   "metadata": {},
   "outputs": [],
   "source": [
    "# importing and reading the dataset\n",
    "\n",
    "df = pd.read_csv(\"IMDB-Movie-Data.csv\")"
   ]
  },
  {
   "cell_type": "markdown",
   "id": "b98832d1",
   "metadata": {},
   "source": [
    "## 2. Veri setini tanıyın"
   ]
  },
  {
   "cell_type": "code",
   "execution_count": 3,
   "id": "71d1ec63-a188-4b05-84b8-2b15938770a4",
   "metadata": {},
   "outputs": [
    {
     "data": {
      "text/html": [
       "<div>\n",
       "<style scoped>\n",
       "    .dataframe tbody tr th:only-of-type {\n",
       "        vertical-align: middle;\n",
       "    }\n",
       "\n",
       "    .dataframe tbody tr th {\n",
       "        vertical-align: top;\n",
       "    }\n",
       "\n",
       "    .dataframe thead th {\n",
       "        text-align: right;\n",
       "    }\n",
       "</style>\n",
       "<table border=\"1\" class=\"dataframe\">\n",
       "  <thead>\n",
       "    <tr style=\"text-align: right;\">\n",
       "      <th></th>\n",
       "      <th>Rank</th>\n",
       "      <th>Title</th>\n",
       "      <th>Genre</th>\n",
       "      <th>Description</th>\n",
       "      <th>Director</th>\n",
       "      <th>Actors</th>\n",
       "      <th>Year</th>\n",
       "      <th>Runtime (Minutes)</th>\n",
       "      <th>Rating</th>\n",
       "      <th>Votes</th>\n",
       "      <th>Revenue (Millions)</th>\n",
       "      <th>Metascore</th>\n",
       "    </tr>\n",
       "  </thead>\n",
       "  <tbody>\n",
       "    <tr>\n",
       "      <th>0</th>\n",
       "      <td>1</td>\n",
       "      <td>Guardians of the Galaxy</td>\n",
       "      <td>Action,Adventure,Sci-Fi</td>\n",
       "      <td>A group of intergalactic criminals are forced ...</td>\n",
       "      <td>James Gunn</td>\n",
       "      <td>Chris Pratt, Vin Diesel, Bradley Cooper, Zoe S...</td>\n",
       "      <td>2014</td>\n",
       "      <td>121</td>\n",
       "      <td>8.1</td>\n",
       "      <td>757074</td>\n",
       "      <td>333.13</td>\n",
       "      <td>76.0</td>\n",
       "    </tr>\n",
       "    <tr>\n",
       "      <th>1</th>\n",
       "      <td>2</td>\n",
       "      <td>Prometheus</td>\n",
       "      <td>Adventure,Mystery,Sci-Fi</td>\n",
       "      <td>Following clues to the origin of mankind, a te...</td>\n",
       "      <td>Ridley Scott</td>\n",
       "      <td>Noomi Rapace, Logan Marshall-Green, Michael Fa...</td>\n",
       "      <td>2012</td>\n",
       "      <td>124</td>\n",
       "      <td>7.0</td>\n",
       "      <td>485820</td>\n",
       "      <td>126.46</td>\n",
       "      <td>65.0</td>\n",
       "    </tr>\n",
       "    <tr>\n",
       "      <th>2</th>\n",
       "      <td>3</td>\n",
       "      <td>Split</td>\n",
       "      <td>Horror,Thriller</td>\n",
       "      <td>Three girls are kidnapped by a man with a diag...</td>\n",
       "      <td>M. Night Shyamalan</td>\n",
       "      <td>James McAvoy, Anya Taylor-Joy, Haley Lu Richar...</td>\n",
       "      <td>2016</td>\n",
       "      <td>117</td>\n",
       "      <td>7.3</td>\n",
       "      <td>157606</td>\n",
       "      <td>138.12</td>\n",
       "      <td>62.0</td>\n",
       "    </tr>\n",
       "    <tr>\n",
       "      <th>3</th>\n",
       "      <td>4</td>\n",
       "      <td>Sing</td>\n",
       "      <td>Animation,Comedy,Family</td>\n",
       "      <td>In a city of humanoid animals, a hustling thea...</td>\n",
       "      <td>Christophe Lourdelet</td>\n",
       "      <td>Matthew McConaughey,Reese Witherspoon, Seth Ma...</td>\n",
       "      <td>2016</td>\n",
       "      <td>108</td>\n",
       "      <td>7.2</td>\n",
       "      <td>60545</td>\n",
       "      <td>270.32</td>\n",
       "      <td>59.0</td>\n",
       "    </tr>\n",
       "    <tr>\n",
       "      <th>4</th>\n",
       "      <td>5</td>\n",
       "      <td>Suicide Squad</td>\n",
       "      <td>Action,Adventure,Fantasy</td>\n",
       "      <td>A secret government agency recruits some of th...</td>\n",
       "      <td>David Ayer</td>\n",
       "      <td>Will Smith, Jared Leto, Margot Robbie, Viola D...</td>\n",
       "      <td>2016</td>\n",
       "      <td>123</td>\n",
       "      <td>6.2</td>\n",
       "      <td>393727</td>\n",
       "      <td>325.02</td>\n",
       "      <td>40.0</td>\n",
       "    </tr>\n",
       "  </tbody>\n",
       "</table>\n",
       "</div>"
      ],
      "text/plain": [
       "   Rank                    Title                     Genre  \\\n",
       "0     1  Guardians of the Galaxy   Action,Adventure,Sci-Fi   \n",
       "1     2               Prometheus  Adventure,Mystery,Sci-Fi   \n",
       "2     3                    Split           Horror,Thriller   \n",
       "3     4                     Sing   Animation,Comedy,Family   \n",
       "4     5            Suicide Squad  Action,Adventure,Fantasy   \n",
       "\n",
       "                                         Description              Director  \\\n",
       "0  A group of intergalactic criminals are forced ...            James Gunn   \n",
       "1  Following clues to the origin of mankind, a te...          Ridley Scott   \n",
       "2  Three girls are kidnapped by a man with a diag...    M. Night Shyamalan   \n",
       "3  In a city of humanoid animals, a hustling thea...  Christophe Lourdelet   \n",
       "4  A secret government agency recruits some of th...            David Ayer   \n",
       "\n",
       "                                              Actors  Year  Runtime (Minutes)  \\\n",
       "0  Chris Pratt, Vin Diesel, Bradley Cooper, Zoe S...  2014                121   \n",
       "1  Noomi Rapace, Logan Marshall-Green, Michael Fa...  2012                124   \n",
       "2  James McAvoy, Anya Taylor-Joy, Haley Lu Richar...  2016                117   \n",
       "3  Matthew McConaughey,Reese Witherspoon, Seth Ma...  2016                108   \n",
       "4  Will Smith, Jared Leto, Margot Robbie, Viola D...  2016                123   \n",
       "\n",
       "   Rating   Votes  Revenue (Millions)  Metascore  \n",
       "0     8.1  757074              333.13       76.0  \n",
       "1     7.0  485820              126.46       65.0  \n",
       "2     7.3  157606              138.12       62.0  \n",
       "3     7.2   60545              270.32       59.0  \n",
       "4     6.2  393727              325.02       40.0  "
      ]
     },
     "execution_count": 3,
     "metadata": {},
     "output_type": "execute_result"
    }
   ],
   "source": [
    "#Familiarize the dataset\n",
    "df.head()"
   ]
  },
  {
   "cell_type": "code",
   "execution_count": 16,
   "id": "098ef01a-9e0c-4d79-a8a4-8871690b9dfa",
   "metadata": {},
   "outputs": [
    {
     "data": {
      "text/html": [
       "<div>\n",
       "<style scoped>\n",
       "    .dataframe tbody tr th:only-of-type {\n",
       "        vertical-align: middle;\n",
       "    }\n",
       "\n",
       "    .dataframe tbody tr th {\n",
       "        vertical-align: top;\n",
       "    }\n",
       "\n",
       "    .dataframe thead th {\n",
       "        text-align: right;\n",
       "    }\n",
       "</style>\n",
       "<table border=\"1\" class=\"dataframe\">\n",
       "  <thead>\n",
       "    <tr style=\"text-align: right;\">\n",
       "      <th></th>\n",
       "      <th>Rank</th>\n",
       "      <th>Year</th>\n",
       "      <th>Runtime (Minutes)</th>\n",
       "      <th>Rating</th>\n",
       "      <th>Votes</th>\n",
       "      <th>Revenue (Millions)</th>\n",
       "      <th>Metascore</th>\n",
       "    </tr>\n",
       "  </thead>\n",
       "  <tbody>\n",
       "    <tr>\n",
       "      <th>count</th>\n",
       "      <td>1000.000000</td>\n",
       "      <td>1000.000000</td>\n",
       "      <td>1000.000000</td>\n",
       "      <td>1000.000000</td>\n",
       "      <td>1.000000e+03</td>\n",
       "      <td>872.000000</td>\n",
       "      <td>936.000000</td>\n",
       "    </tr>\n",
       "    <tr>\n",
       "      <th>mean</th>\n",
       "      <td>500.500000</td>\n",
       "      <td>2012.783000</td>\n",
       "      <td>113.172000</td>\n",
       "      <td>6.723200</td>\n",
       "      <td>1.698083e+05</td>\n",
       "      <td>82.956376</td>\n",
       "      <td>58.985043</td>\n",
       "    </tr>\n",
       "    <tr>\n",
       "      <th>std</th>\n",
       "      <td>288.819436</td>\n",
       "      <td>3.205962</td>\n",
       "      <td>18.810908</td>\n",
       "      <td>0.945429</td>\n",
       "      <td>1.887626e+05</td>\n",
       "      <td>103.253540</td>\n",
       "      <td>17.194757</td>\n",
       "    </tr>\n",
       "    <tr>\n",
       "      <th>min</th>\n",
       "      <td>1.000000</td>\n",
       "      <td>2006.000000</td>\n",
       "      <td>66.000000</td>\n",
       "      <td>1.900000</td>\n",
       "      <td>6.100000e+01</td>\n",
       "      <td>0.000000</td>\n",
       "      <td>11.000000</td>\n",
       "    </tr>\n",
       "    <tr>\n",
       "      <th>25%</th>\n",
       "      <td>250.750000</td>\n",
       "      <td>2010.000000</td>\n",
       "      <td>100.000000</td>\n",
       "      <td>6.200000</td>\n",
       "      <td>3.630900e+04</td>\n",
       "      <td>13.270000</td>\n",
       "      <td>47.000000</td>\n",
       "    </tr>\n",
       "    <tr>\n",
       "      <th>50%</th>\n",
       "      <td>500.500000</td>\n",
       "      <td>2014.000000</td>\n",
       "      <td>111.000000</td>\n",
       "      <td>6.800000</td>\n",
       "      <td>1.107990e+05</td>\n",
       "      <td>47.985000</td>\n",
       "      <td>59.500000</td>\n",
       "    </tr>\n",
       "    <tr>\n",
       "      <th>75%</th>\n",
       "      <td>750.250000</td>\n",
       "      <td>2016.000000</td>\n",
       "      <td>123.000000</td>\n",
       "      <td>7.400000</td>\n",
       "      <td>2.399098e+05</td>\n",
       "      <td>113.715000</td>\n",
       "      <td>72.000000</td>\n",
       "    </tr>\n",
       "    <tr>\n",
       "      <th>max</th>\n",
       "      <td>1000.000000</td>\n",
       "      <td>2016.000000</td>\n",
       "      <td>191.000000</td>\n",
       "      <td>9.000000</td>\n",
       "      <td>1.791916e+06</td>\n",
       "      <td>936.630000</td>\n",
       "      <td>100.000000</td>\n",
       "    </tr>\n",
       "  </tbody>\n",
       "</table>\n",
       "</div>"
      ],
      "text/plain": [
       "              Rank         Year  Runtime (Minutes)       Rating         Votes  \\\n",
       "count  1000.000000  1000.000000        1000.000000  1000.000000  1.000000e+03   \n",
       "mean    500.500000  2012.783000         113.172000     6.723200  1.698083e+05   \n",
       "std     288.819436     3.205962          18.810908     0.945429  1.887626e+05   \n",
       "min       1.000000  2006.000000          66.000000     1.900000  6.100000e+01   \n",
       "25%     250.750000  2010.000000         100.000000     6.200000  3.630900e+04   \n",
       "50%     500.500000  2014.000000         111.000000     6.800000  1.107990e+05   \n",
       "75%     750.250000  2016.000000         123.000000     7.400000  2.399098e+05   \n",
       "max    1000.000000  2016.000000         191.000000     9.000000  1.791916e+06   \n",
       "\n",
       "       Revenue (Millions)   Metascore  \n",
       "count          872.000000  936.000000  \n",
       "mean            82.956376   58.985043  \n",
       "std            103.253540   17.194757  \n",
       "min              0.000000   11.000000  \n",
       "25%             13.270000   47.000000  \n",
       "50%             47.985000   59.500000  \n",
       "75%            113.715000   72.000000  \n",
       "max            936.630000  100.000000  "
      ]
     },
     "execution_count": 16,
     "metadata": {},
     "output_type": "execute_result"
    }
   ],
   "source": [
    "df.describe()\n",
    "#basic statistics of the dataset"
   ]
  },
  {
   "cell_type": "code",
   "execution_count": 5,
   "id": "56886ecb-e487-4521-be67-342d3d093663",
   "metadata": {},
   "outputs": [
    {
     "name": "stdout",
     "output_type": "stream",
     "text": [
      "<class 'pandas.core.frame.DataFrame'>\n",
      "RangeIndex: 1000 entries, 0 to 999\n",
      "Data columns (total 12 columns):\n",
      " #   Column              Non-Null Count  Dtype  \n",
      "---  ------              --------------  -----  \n",
      " 0   Rank                1000 non-null   int64  \n",
      " 1   Title               1000 non-null   object \n",
      " 2   Genre               1000 non-null   object \n",
      " 3   Description         1000 non-null   object \n",
      " 4   Director            1000 non-null   object \n",
      " 5   Actors              1000 non-null   object \n",
      " 6   Year                1000 non-null   int64  \n",
      " 7   Runtime (Minutes)   1000 non-null   int64  \n",
      " 8   Rating              1000 non-null   float64\n",
      " 9   Votes               1000 non-null   int64  \n",
      " 10  Revenue (Millions)  872 non-null    float64\n",
      " 11  Metascore           936 non-null    float64\n",
      "dtypes: float64(3), int64(4), object(5)\n",
      "memory usage: 93.9+ KB\n"
     ]
    }
   ],
   "source": [
    "df.info()\n"
   ]
  },
  {
   "cell_type": "code",
   "execution_count": 7,
   "id": "4760ac56-cf81-4be9-a50b-a344b58dbb3e",
   "metadata": {},
   "outputs": [
    {
     "data": {
      "text/plain": [
       "Index(['Rank', 'Title', 'Genre', 'Description', 'Director', 'Actors', 'Year',\n",
       "       'Runtime (Minutes)', 'Rating', 'Votes', 'Revenue (Millions)',\n",
       "       'Metascore'],\n",
       "      dtype='object')"
      ]
     },
     "execution_count": 7,
     "metadata": {},
     "output_type": "execute_result"
    }
   ],
   "source": [
    "df.columns #list of the columns names\n"
   ]
  },
  {
   "cell_type": "code",
   "execution_count": 10,
   "id": "8f177be6-7315-4e01-a58a-489b089b91b4",
   "metadata": {},
   "outputs": [
    {
     "data": {
      "text/html": [
       "<div>\n",
       "<style scoped>\n",
       "    .dataframe tbody tr th:only-of-type {\n",
       "        vertical-align: middle;\n",
       "    }\n",
       "\n",
       "    .dataframe tbody tr th {\n",
       "        vertical-align: top;\n",
       "    }\n",
       "\n",
       "    .dataframe thead th {\n",
       "        text-align: right;\n",
       "    }\n",
       "</style>\n",
       "<table border=\"1\" class=\"dataframe\">\n",
       "  <thead>\n",
       "    <tr style=\"text-align: right;\">\n",
       "      <th></th>\n",
       "      <th>Rank</th>\n",
       "      <th>Title</th>\n",
       "      <th>Genre</th>\n",
       "      <th>Description</th>\n",
       "      <th>Director</th>\n",
       "      <th>Actors</th>\n",
       "      <th>Year</th>\n",
       "      <th>Runtime (Minutes)</th>\n",
       "      <th>Rating</th>\n",
       "      <th>Votes</th>\n",
       "      <th>Revenue (Millions)</th>\n",
       "      <th>Metascore</th>\n",
       "    </tr>\n",
       "  </thead>\n",
       "  <tbody>\n",
       "    <tr>\n",
       "      <th>616</th>\n",
       "      <td>617</td>\n",
       "      <td>2307: Winter's Dream</td>\n",
       "      <td>Sci-Fi</td>\n",
       "      <td>In 2307, a future soldier is sent on a mission...</td>\n",
       "      <td>Joey Curtis</td>\n",
       "      <td>Paul Sidhu, Branden Coles, Arielle Holmes, Kel...</td>\n",
       "      <td>2016</td>\n",
       "      <td>101</td>\n",
       "      <td>4.0</td>\n",
       "      <td>277</td>\n",
       "      <td>20.76</td>\n",
       "      <td>53.0</td>\n",
       "    </tr>\n",
       "    <tr>\n",
       "      <th>902</th>\n",
       "      <td>903</td>\n",
       "      <td>What If</td>\n",
       "      <td>Comedy,Romance</td>\n",
       "      <td>Wallace, who is burned out from a string of fa...</td>\n",
       "      <td>Michael Dowse</td>\n",
       "      <td>Daniel Radcliffe, Zoe Kazan, Megan Park, Adam ...</td>\n",
       "      <td>2013</td>\n",
       "      <td>98</td>\n",
       "      <td>6.8</td>\n",
       "      <td>55243</td>\n",
       "      <td>3.45</td>\n",
       "      <td>59.0</td>\n",
       "    </tr>\n",
       "    <tr>\n",
       "      <th>174</th>\n",
       "      <td>175</td>\n",
       "      <td>Frozen</td>\n",
       "      <td>Animation,Adventure,Comedy</td>\n",
       "      <td>When the newly crowned Queen Elsa accidentally...</td>\n",
       "      <td>Chris Buck</td>\n",
       "      <td>Kristen Bell, Idina Menzel, Jonathan Groff, Jo...</td>\n",
       "      <td>2013</td>\n",
       "      <td>102</td>\n",
       "      <td>7.5</td>\n",
       "      <td>451894</td>\n",
       "      <td>400.74</td>\n",
       "      <td>74.0</td>\n",
       "    </tr>\n",
       "    <tr>\n",
       "      <th>476</th>\n",
       "      <td>477</td>\n",
       "      <td>The Lives of Others</td>\n",
       "      <td>Drama,Thriller</td>\n",
       "      <td>In 1984 East Berlin, an agent of the secret po...</td>\n",
       "      <td>Florian Henckel von Donnersmarck</td>\n",
       "      <td>Ulrich Mühe, Martina Gedeck,Sebastian Koch, Ul...</td>\n",
       "      <td>2006</td>\n",
       "      <td>137</td>\n",
       "      <td>8.5</td>\n",
       "      <td>278103</td>\n",
       "      <td>11.28</td>\n",
       "      <td>89.0</td>\n",
       "    </tr>\n",
       "    <tr>\n",
       "      <th>819</th>\n",
       "      <td>820</td>\n",
       "      <td>Wolves at the Door</td>\n",
       "      <td>Horror,Thriller</td>\n",
       "      <td>Four friends gather at an elegant home during ...</td>\n",
       "      <td>John R. Leonetti</td>\n",
       "      <td>Katie Cassidy, Elizabeth Henstridge, Adam Camp...</td>\n",
       "      <td>2016</td>\n",
       "      <td>73</td>\n",
       "      <td>4.6</td>\n",
       "      <td>564</td>\n",
       "      <td>NaN</td>\n",
       "      <td>63.0</td>\n",
       "    </tr>\n",
       "  </tbody>\n",
       "</table>\n",
       "</div>"
      ],
      "text/plain": [
       "     Rank                 Title                       Genre  \\\n",
       "616   617  2307: Winter's Dream                      Sci-Fi   \n",
       "902   903               What If              Comedy,Romance   \n",
       "174   175                Frozen  Animation,Adventure,Comedy   \n",
       "476   477   The Lives of Others              Drama,Thriller   \n",
       "819   820    Wolves at the Door             Horror,Thriller   \n",
       "\n",
       "                                           Description  \\\n",
       "616  In 2307, a future soldier is sent on a mission...   \n",
       "902  Wallace, who is burned out from a string of fa...   \n",
       "174  When the newly crowned Queen Elsa accidentally...   \n",
       "476  In 1984 East Berlin, an agent of the secret po...   \n",
       "819  Four friends gather at an elegant home during ...   \n",
       "\n",
       "                             Director  \\\n",
       "616                       Joey Curtis   \n",
       "902                     Michael Dowse   \n",
       "174                        Chris Buck   \n",
       "476  Florian Henckel von Donnersmarck   \n",
       "819                  John R. Leonetti   \n",
       "\n",
       "                                                Actors  Year  \\\n",
       "616  Paul Sidhu, Branden Coles, Arielle Holmes, Kel...  2016   \n",
       "902  Daniel Radcliffe, Zoe Kazan, Megan Park, Adam ...  2013   \n",
       "174  Kristen Bell, Idina Menzel, Jonathan Groff, Jo...  2013   \n",
       "476  Ulrich Mühe, Martina Gedeck,Sebastian Koch, Ul...  2006   \n",
       "819  Katie Cassidy, Elizabeth Henstridge, Adam Camp...  2016   \n",
       "\n",
       "     Runtime (Minutes)  Rating   Votes  Revenue (Millions)  Metascore  \n",
       "616                101     4.0     277               20.76       53.0  \n",
       "902                 98     6.8   55243                3.45       59.0  \n",
       "174                102     7.5  451894              400.74       74.0  \n",
       "476                137     8.5  278103               11.28       89.0  \n",
       "819                 73     4.6     564                 NaN       63.0  "
      ]
     },
     "execution_count": 10,
     "metadata": {},
     "output_type": "execute_result"
    }
   ],
   "source": [
    "df.sample(5) #randomly selected 5 rows\n"
   ]
  },
  {
   "cell_type": "code",
   "execution_count": 12,
   "id": "2fa9d7e5-5eed-44c2-bafa-e752acd58a52",
   "metadata": {},
   "outputs": [
    {
     "data": {
      "text/plain": [
       "12"
      ]
     },
     "execution_count": 12,
     "metadata": {},
     "output_type": "execute_result"
    }
   ],
   "source": [
    "len(df.columns) # number of columns\n"
   ]
  },
  {
   "cell_type": "code",
   "execution_count": 13,
   "id": "19a3466e-b7a3-46ba-a432-783512393200",
   "metadata": {},
   "outputs": [
    {
     "data": {
      "text/plain": [
       "1000"
      ]
     },
     "execution_count": 13,
     "metadata": {},
     "output_type": "execute_result"
    }
   ],
   "source": [
    "len(df.index) #number of index"
   ]
  },
  {
   "cell_type": "code",
   "execution_count": 15,
   "id": "68305e15-3977-49fe-b246-791247233e31",
   "metadata": {},
   "outputs": [
    {
     "data": {
      "text/html": [
       "<div>\n",
       "<style scoped>\n",
       "    .dataframe tbody tr th:only-of-type {\n",
       "        vertical-align: middle;\n",
       "    }\n",
       "\n",
       "    .dataframe tbody tr th {\n",
       "        vertical-align: top;\n",
       "    }\n",
       "\n",
       "    .dataframe thead th {\n",
       "        text-align: right;\n",
       "    }\n",
       "</style>\n",
       "<table border=\"1\" class=\"dataframe\">\n",
       "  <thead>\n",
       "    <tr style=\"text-align: right;\">\n",
       "      <th></th>\n",
       "      <th>Rank</th>\n",
       "      <th>Year</th>\n",
       "      <th>Runtime (Minutes)</th>\n",
       "      <th>Rating</th>\n",
       "      <th>Votes</th>\n",
       "      <th>Revenue (Millions)</th>\n",
       "      <th>Metascore</th>\n",
       "    </tr>\n",
       "  </thead>\n",
       "  <tbody>\n",
       "    <tr>\n",
       "      <th>Rank</th>\n",
       "      <td>1.000000</td>\n",
       "      <td>-0.261605</td>\n",
       "      <td>-0.221739</td>\n",
       "      <td>-0.219555</td>\n",
       "      <td>-0.283876</td>\n",
       "      <td>-0.271592</td>\n",
       "      <td>-0.191869</td>\n",
       "    </tr>\n",
       "    <tr>\n",
       "      <th>Year</th>\n",
       "      <td>-0.261605</td>\n",
       "      <td>1.000000</td>\n",
       "      <td>-0.164900</td>\n",
       "      <td>-0.211219</td>\n",
       "      <td>-0.411904</td>\n",
       "      <td>-0.126790</td>\n",
       "      <td>-0.079305</td>\n",
       "    </tr>\n",
       "    <tr>\n",
       "      <th>Runtime (Minutes)</th>\n",
       "      <td>-0.221739</td>\n",
       "      <td>-0.164900</td>\n",
       "      <td>1.000000</td>\n",
       "      <td>0.392214</td>\n",
       "      <td>0.407062</td>\n",
       "      <td>0.267953</td>\n",
       "      <td>0.211978</td>\n",
       "    </tr>\n",
       "    <tr>\n",
       "      <th>Rating</th>\n",
       "      <td>-0.219555</td>\n",
       "      <td>-0.211219</td>\n",
       "      <td>0.392214</td>\n",
       "      <td>1.000000</td>\n",
       "      <td>0.511537</td>\n",
       "      <td>0.217654</td>\n",
       "      <td>0.631897</td>\n",
       "    </tr>\n",
       "    <tr>\n",
       "      <th>Votes</th>\n",
       "      <td>-0.283876</td>\n",
       "      <td>-0.411904</td>\n",
       "      <td>0.407062</td>\n",
       "      <td>0.511537</td>\n",
       "      <td>1.000000</td>\n",
       "      <td>0.639661</td>\n",
       "      <td>0.325684</td>\n",
       "    </tr>\n",
       "    <tr>\n",
       "      <th>Revenue (Millions)</th>\n",
       "      <td>-0.271592</td>\n",
       "      <td>-0.126790</td>\n",
       "      <td>0.267953</td>\n",
       "      <td>0.217654</td>\n",
       "      <td>0.639661</td>\n",
       "      <td>1.000000</td>\n",
       "      <td>0.142397</td>\n",
       "    </tr>\n",
       "    <tr>\n",
       "      <th>Metascore</th>\n",
       "      <td>-0.191869</td>\n",
       "      <td>-0.079305</td>\n",
       "      <td>0.211978</td>\n",
       "      <td>0.631897</td>\n",
       "      <td>0.325684</td>\n",
       "      <td>0.142397</td>\n",
       "      <td>1.000000</td>\n",
       "    </tr>\n",
       "  </tbody>\n",
       "</table>\n",
       "</div>"
      ],
      "text/plain": [
       "                        Rank      Year  Runtime (Minutes)    Rating     Votes  \\\n",
       "Rank                1.000000 -0.261605          -0.221739 -0.219555 -0.283876   \n",
       "Year               -0.261605  1.000000          -0.164900 -0.211219 -0.411904   \n",
       "Runtime (Minutes)  -0.221739 -0.164900           1.000000  0.392214  0.407062   \n",
       "Rating             -0.219555 -0.211219           0.392214  1.000000  0.511537   \n",
       "Votes              -0.283876 -0.411904           0.407062  0.511537  1.000000   \n",
       "Revenue (Millions) -0.271592 -0.126790           0.267953  0.217654  0.639661   \n",
       "Metascore          -0.191869 -0.079305           0.211978  0.631897  0.325684   \n",
       "\n",
       "                    Revenue (Millions)  Metascore  \n",
       "Rank                         -0.271592  -0.191869  \n",
       "Year                         -0.126790  -0.079305  \n",
       "Runtime (Minutes)             0.267953   0.211978  \n",
       "Rating                        0.217654   0.631897  \n",
       "Votes                         0.639661   0.325684  \n",
       "Revenue (Millions)            1.000000   0.142397  \n",
       "Metascore                     0.142397   1.000000  "
      ]
     },
     "execution_count": 15,
     "metadata": {},
     "output_type": "execute_result"
    }
   ],
   "source": [
    "df.corr() #correlation between the columns for numerical values"
   ]
  },
  {
   "cell_type": "code",
   "execution_count": null,
   "id": "0143ee06-d78e-403a-b556-f5c02db94fbf",
   "metadata": {},
   "outputs": [],
   "source": []
  },
  {
   "cell_type": "markdown",
   "id": "fc7b9a43",
   "metadata": {},
   "source": [
    "## 3. Veri setindeki sütun isimlerini kullanışlı hale getirin"
   ]
  },
  {
   "cell_type": "code",
   "execution_count": 14,
   "id": "a4d4248b-441c-481f-921b-0cc9647087e8",
   "metadata": {
    "tags": []
   },
   "outputs": [
    {
     "data": {
      "text/html": [
       "<div>\n",
       "<style scoped>\n",
       "    .dataframe tbody tr th:only-of-type {\n",
       "        vertical-align: middle;\n",
       "    }\n",
       "\n",
       "    .dataframe tbody tr th {\n",
       "        vertical-align: top;\n",
       "    }\n",
       "\n",
       "    .dataframe thead th {\n",
       "        text-align: right;\n",
       "    }\n",
       "</style>\n",
       "<table border=\"1\" class=\"dataframe\">\n",
       "  <thead>\n",
       "    <tr style=\"text-align: right;\">\n",
       "      <th></th>\n",
       "      <th>Rank</th>\n",
       "      <th>Genre</th>\n",
       "      <th>Description</th>\n",
       "      <th>Director</th>\n",
       "      <th>Actors</th>\n",
       "      <th>Year</th>\n",
       "      <th>Runtime (Minutes)</th>\n",
       "      <th>Rating</th>\n",
       "      <th>Votes</th>\n",
       "      <th>Revenue (Millions)</th>\n",
       "      <th>Metascore</th>\n",
       "    </tr>\n",
       "    <tr>\n",
       "      <th>Title</th>\n",
       "      <th></th>\n",
       "      <th></th>\n",
       "      <th></th>\n",
       "      <th></th>\n",
       "      <th></th>\n",
       "      <th></th>\n",
       "      <th></th>\n",
       "      <th></th>\n",
       "      <th></th>\n",
       "      <th></th>\n",
       "      <th></th>\n",
       "    </tr>\n",
       "  </thead>\n",
       "  <tbody>\n",
       "    <tr>\n",
       "      <th>Guardians of the Galaxy</th>\n",
       "      <td>1</td>\n",
       "      <td>Action,Adventure,Sci-Fi</td>\n",
       "      <td>A group of intergalactic criminals are forced ...</td>\n",
       "      <td>James Gunn</td>\n",
       "      <td>Chris Pratt, Vin Diesel, Bradley Cooper, Zoe S...</td>\n",
       "      <td>2014</td>\n",
       "      <td>121</td>\n",
       "      <td>8.1</td>\n",
       "      <td>757074</td>\n",
       "      <td>333.13</td>\n",
       "      <td>76.0</td>\n",
       "    </tr>\n",
       "    <tr>\n",
       "      <th>Prometheus</th>\n",
       "      <td>2</td>\n",
       "      <td>Adventure,Mystery,Sci-Fi</td>\n",
       "      <td>Following clues to the origin of mankind, a te...</td>\n",
       "      <td>Ridley Scott</td>\n",
       "      <td>Noomi Rapace, Logan Marshall-Green, Michael Fa...</td>\n",
       "      <td>2012</td>\n",
       "      <td>124</td>\n",
       "      <td>7.0</td>\n",
       "      <td>485820</td>\n",
       "      <td>126.46</td>\n",
       "      <td>65.0</td>\n",
       "    </tr>\n",
       "    <tr>\n",
       "      <th>Split</th>\n",
       "      <td>3</td>\n",
       "      <td>Horror,Thriller</td>\n",
       "      <td>Three girls are kidnapped by a man with a diag...</td>\n",
       "      <td>M. Night Shyamalan</td>\n",
       "      <td>James McAvoy, Anya Taylor-Joy, Haley Lu Richar...</td>\n",
       "      <td>2016</td>\n",
       "      <td>117</td>\n",
       "      <td>7.3</td>\n",
       "      <td>157606</td>\n",
       "      <td>138.12</td>\n",
       "      <td>62.0</td>\n",
       "    </tr>\n",
       "    <tr>\n",
       "      <th>Sing</th>\n",
       "      <td>4</td>\n",
       "      <td>Animation,Comedy,Family</td>\n",
       "      <td>In a city of humanoid animals, a hustling thea...</td>\n",
       "      <td>Christophe Lourdelet</td>\n",
       "      <td>Matthew McConaughey,Reese Witherspoon, Seth Ma...</td>\n",
       "      <td>2016</td>\n",
       "      <td>108</td>\n",
       "      <td>7.2</td>\n",
       "      <td>60545</td>\n",
       "      <td>270.32</td>\n",
       "      <td>59.0</td>\n",
       "    </tr>\n",
       "    <tr>\n",
       "      <th>Suicide Squad</th>\n",
       "      <td>5</td>\n",
       "      <td>Action,Adventure,Fantasy</td>\n",
       "      <td>A secret government agency recruits some of th...</td>\n",
       "      <td>David Ayer</td>\n",
       "      <td>Will Smith, Jared Leto, Margot Robbie, Viola D...</td>\n",
       "      <td>2016</td>\n",
       "      <td>123</td>\n",
       "      <td>6.2</td>\n",
       "      <td>393727</td>\n",
       "      <td>325.02</td>\n",
       "      <td>40.0</td>\n",
       "    </tr>\n",
       "  </tbody>\n",
       "</table>\n",
       "</div>"
      ],
      "text/plain": [
       "                         Rank                     Genre  \\\n",
       "Title                                                     \n",
       "Guardians of the Galaxy     1   Action,Adventure,Sci-Fi   \n",
       "Prometheus                  2  Adventure,Mystery,Sci-Fi   \n",
       "Split                       3           Horror,Thriller   \n",
       "Sing                        4   Animation,Comedy,Family   \n",
       "Suicide Squad               5  Action,Adventure,Fantasy   \n",
       "\n",
       "                                                               Description  \\\n",
       "Title                                                                        \n",
       "Guardians of the Galaxy  A group of intergalactic criminals are forced ...   \n",
       "Prometheus               Following clues to the origin of mankind, a te...   \n",
       "Split                    Three girls are kidnapped by a man with a diag...   \n",
       "Sing                     In a city of humanoid animals, a hustling thea...   \n",
       "Suicide Squad            A secret government agency recruits some of th...   \n",
       "\n",
       "                                     Director  \\\n",
       "Title                                           \n",
       "Guardians of the Galaxy            James Gunn   \n",
       "Prometheus                       Ridley Scott   \n",
       "Split                      M. Night Shyamalan   \n",
       "Sing                     Christophe Lourdelet   \n",
       "Suicide Squad                      David Ayer   \n",
       "\n",
       "                                                                    Actors  \\\n",
       "Title                                                                        \n",
       "Guardians of the Galaxy  Chris Pratt, Vin Diesel, Bradley Cooper, Zoe S...   \n",
       "Prometheus               Noomi Rapace, Logan Marshall-Green, Michael Fa...   \n",
       "Split                    James McAvoy, Anya Taylor-Joy, Haley Lu Richar...   \n",
       "Sing                     Matthew McConaughey,Reese Witherspoon, Seth Ma...   \n",
       "Suicide Squad            Will Smith, Jared Leto, Margot Robbie, Viola D...   \n",
       "\n",
       "                         Year  Runtime (Minutes)  Rating   Votes  \\\n",
       "Title                                                              \n",
       "Guardians of the Galaxy  2014                121     8.1  757074   \n",
       "Prometheus               2012                124     7.0  485820   \n",
       "Split                    2016                117     7.3  157606   \n",
       "Sing                     2016                108     7.2   60545   \n",
       "Suicide Squad            2016                123     6.2  393727   \n",
       "\n",
       "                         Revenue (Millions)  Metascore  \n",
       "Title                                                   \n",
       "Guardians of the Galaxy              333.13       76.0  \n",
       "Prometheus                           126.46       65.0  \n",
       "Split                                138.12       62.0  \n",
       "Sing                                 270.32       59.0  \n",
       "Suicide Squad                        325.02       40.0  "
      ]
     },
     "execution_count": 14,
     "metadata": {},
     "output_type": "execute_result"
    }
   ],
   "source": [
    "\n",
    "# replace the index column with the title of the movie- #set_index\n",
    "df.set_index('Title', inplace=True)\n",
    "df.head(5)\n"
   ]
  },
  {
   "cell_type": "code",
   "execution_count": 27,
   "id": "fea216b5-f9f1-44fc-b883-f00c3a21fd57",
   "metadata": {},
   "outputs": [],
   "source": [
    "#delete the spaces in the column names- #rename\n",
    "\n",
    "df.rename(columns={\"Runtime (Minutes)\":\"Runtime_Minutes\",\n",
    "                   \"Revenue (Millions)\": \"Revenue_Millions\"}, inplace=True)"
   ]
  },
  {
   "cell_type": "markdown",
   "id": "750332aa",
   "metadata": {},
   "source": [
    "## 4. Missing Value tespit edilsin ve bu kapsamda aşağıdaki şekilde mücadele edilsin."
   ]
  },
  {
   "cell_type": "markdown",
   "id": "7be46d91",
   "metadata": {},
   "source": [
    "#### a.Missing value kontrolü hem pandas hemde missingno kütüphanelerini kullanarak yapın"
   ]
  },
  {
   "cell_type": "code",
   "execution_count": 28,
   "id": "7fa4caaa-79f1-4c80-9e14-34aca4764c6f",
   "metadata": {},
   "outputs": [
    {
     "data": {
      "text/plain": [
       "Rank                  0\n",
       "Genre                 0\n",
       "Description           0\n",
       "Director              0\n",
       "Actors                0\n",
       "Year                  0\n",
       "Runtime_Minutes       0\n",
       "Rating                0\n",
       "Votes                 0\n",
       "Revenue_Millions    128\n",
       "Metascore            64\n",
       "dtype: int64"
      ]
     },
     "execution_count": 28,
     "metadata": {},
     "output_type": "execute_result"
    }
   ],
   "source": [
    "# identifying the missing data\n",
    "\n",
    "df.isnull().sum()"
   ]
  },
  {
   "cell_type": "code",
   "execution_count": null,
   "id": "b4c35820-6860-4181-82b1-2c4dd31a8e00",
   "metadata": {},
   "outputs": [],
   "source": [
    "df.Revenue_Millions.isna().count()\n",
    "df.Metascore.isna().count()"
   ]
  },
  {
   "cell_type": "code",
   "execution_count": 30,
   "id": "9702f3b8-2b6c-4a47-8455-ae01b8a91250",
   "metadata": {},
   "outputs": [
    {
     "data": {
      "image/png": "[encoded data removed]",
      "text/plain": [
       "<Figure size 640x480 with 1 Axes>"
      ]
     },
     "metadata": {},
     "output_type": "display_data"
    }
   ],
   "source": [
    "# heatmap of missing values\n",
    "\n",
    "sns.heatmap(df.isnull(),\n",
    "            yticklabels=False,\n",
    "            cbar=False,\n",
    "            cmap='magma');\n",
    "#in two columns, Revenue_Millions and Metascore, there are considerable level of missing values.\n",
    "#Revenue_Millions has more missing value"
   ]
  },
  {
   "cell_type": "code",
   "execution_count": 136,
   "id": "07d24f20-d5a1-4ad3-a5c6-44c06a31c36c",
   "metadata": {
    "collapsed": true,
    "jupyter": {
     "outputs_hidden": true
    },
    "tags": []
   },
   "outputs": [
    {
     "ename": "ModuleNotFoundError",
     "evalue": "No module named 'missingno'",
     "output_type": "error",
     "traceback": [
      "\u001b[0;31m---------------------------------------------------------------------------\u001b[0m",
      "\u001b[0;31mModuleNotFoundError\u001b[0m                       Traceback (most recent call last)",
      "\u001b[0;32m/var/folders/5z/xb_33d255mq_trf2qys6_r540000gn/T/ipykernel_13692/1097529135.py\u001b[0m in \u001b[0;36m<module>\u001b[0;34m\u001b[0m\n\u001b[1;32m      1\u001b[0m \u001b[0;31m# Missing value graph by missingno\u001b[0m\u001b[0;34m\u001b[0m\u001b[0;34m\u001b[0m\u001b[0m\n\u001b[1;32m      2\u001b[0m \u001b[0;34m\u001b[0m\u001b[0m\n\u001b[0;32m----> 3\u001b[0;31m \u001b[0;32mimport\u001b[0m \u001b[0mmissingno\u001b[0m \u001b[0;32mas\u001b[0m \u001b[0mmsno\u001b[0m\u001b[0;34m\u001b[0m\u001b[0;34m\u001b[0m\u001b[0m\n\u001b[0m\u001b[1;32m      4\u001b[0m \u001b[0;34m\u001b[0m\u001b[0m\n",
      "\u001b[0;31mModuleNotFoundError\u001b[0m: No module named 'missingno'"
     ]
    }
   ],
   "source": [
    "# Missing value graph by missingno\n",
    "\n",
    "import missingno as msno \n",
    "\n"
   ]
  },
  {
   "cell_type": "code",
   "execution_count": 135,
   "id": "aaf123ad-2bf8-42d1-84df-c10ba9e3dd9c",
   "metadata": {
    "collapsed": true,
    "jupyter": {
     "outputs_hidden": true
    },
    "tags": []
   },
   "outputs": [
    {
     "ename": "NameError",
     "evalue": "name 'msno' is not defined",
     "output_type": "error",
     "traceback": [
      "\u001b[0;31m---------------------------------------------------------------------------\u001b[0m",
      "\u001b[0;31mNameError\u001b[0m                                 Traceback (most recent call last)",
      "\u001b[0;32m/var/folders/5z/xb_33d255mq_trf2qys6_r540000gn/T/ipykernel_13692/4173001230.py\u001b[0m in \u001b[0;36m<module>\u001b[0;34m\u001b[0m\n\u001b[0;32m----> 1\u001b[0;31m \u001b[0mmsno\u001b[0m\u001b[0;34m.\u001b[0m\u001b[0mbar\u001b[0m\u001b[0;34m(\u001b[0m\u001b[0mdf\u001b[0m\u001b[0;34m)\u001b[0m\u001b[0;34m;\u001b[0m\u001b[0;34m\u001b[0m\u001b[0;34m\u001b[0m\u001b[0m\n\u001b[0m",
      "\u001b[0;31mNameError\u001b[0m: name 'msno' is not defined"
     ]
    }
   ],
   "source": [
    "msno.bar(df);"
   ]
  },
  {
   "cell_type": "markdown",
   "id": "55528295",
   "metadata": {},
   "source": [
    "#### b.Yüksek missing value olan değişken içindeki veriler o değişkenin ortalama skoru ile doldurulsun."
   ]
  },
  {
   "cell_type": "code",
   "execution_count": 74,
   "id": "51e3afa6-f1c0-474a-a662-54e51219ca71",
   "metadata": {},
   "outputs": [],
   "source": [
    "df[\"Revenue_Millions\"] = df[\"Revenue_Millions\"].fillna(df[\"Revenue_Millions\"].mean())\n",
    "\n",
    "#df[column]=df[column].fillna(df[column].mean())\n",
    "#the code enables us filling the missing values of that column with the mean of the column."
   ]
  },
  {
   "cell_type": "code",
   "execution_count": null,
   "id": "a51ce53d-29e7-488a-bf91-cfa7a70e20aa",
   "metadata": {},
   "outputs": [],
   "source": []
  },
  {
   "cell_type": "markdown",
   "id": "3bf08e59",
   "metadata": {},
   "source": [
    "#### c. Düşük missing value olan değişkendeki gözlemler kaldırılsın."
   ]
  },
  {
   "cell_type": "code",
   "execution_count": 75,
   "id": "0749ad34-7410-47cb-b60e-ab3e6aff5a1c",
   "metadata": {},
   "outputs": [],
   "source": [
    "df.dropna(inplace = True)\n",
    "#since we fill the missing values of the Revenue_Columns, we can simply drop the rest."
   ]
  },
  {
   "cell_type": "markdown",
   "id": "8a663eb6",
   "metadata": {},
   "source": [
    "#### d. Missing value kontrolü tekrar hem pandas hemde missingno kütüphanelerini kullanarak kontrol edin ve bu data setini yeni bir değişkene atayın."
   ]
  },
  {
   "cell_type": "code",
   "execution_count": 76,
   "id": "cc7fcae4-322d-4f72-b5c5-94407aaea4df",
   "metadata": {},
   "outputs": [
    {
     "data": {
      "text/plain": [
       "Rank                0\n",
       "Genre               0\n",
       "Description         0\n",
       "Director            0\n",
       "Actors              0\n",
       "Year                0\n",
       "Runtime_Minutes     0\n",
       "Rating              0\n",
       "Votes               0\n",
       "Revenue_Millions    0\n",
       "Metascore           0\n",
       "dtype: int64"
      ]
     },
     "execution_count": 76,
     "metadata": {},
     "output_type": "execute_result"
    }
   ],
   "source": [
    "df.isnull().sum()\n",
    "#no missing value is left"
   ]
  },
  {
   "cell_type": "code",
   "execution_count": 36,
   "id": "5ed2bde2-0d8b-4a8f-9e51-2101bdf64291",
   "metadata": {
    "collapsed": true,
    "jupyter": {
     "outputs_hidden": true
    },
    "tags": []
   },
   "outputs": [
    {
     "ename": "NameError",
     "evalue": "name 'msno' is not defined",
     "output_type": "error",
     "traceback": [
      "\u001b[0;31m---------------------------------------------------------------------------\u001b[0m",
      "\u001b[0;31mNameError\u001b[0m                                 Traceback (most recent call last)",
      "\u001b[0;32m/var/folders/5z/xb_33d255mq_trf2qys6_r540000gn/T/ipykernel_13692/4173001230.py\u001b[0m in \u001b[0;36m<module>\u001b[0;34m\u001b[0m\n\u001b[0;32m----> 1\u001b[0;31m \u001b[0mmsno\u001b[0m\u001b[0;34m.\u001b[0m\u001b[0mbar\u001b[0m\u001b[0;34m(\u001b[0m\u001b[0mdf\u001b[0m\u001b[0;34m)\u001b[0m\u001b[0;34m;\u001b[0m\u001b[0;34m\u001b[0m\u001b[0;34m\u001b[0m\u001b[0m\n\u001b[0m",
      "\u001b[0;31mNameError\u001b[0m: name 'msno' is not defined"
     ]
    }
   ],
   "source": [
    "msno.bar(df);"
   ]
  },
  {
   "cell_type": "code",
   "execution_count": 77,
   "id": "69bfab22-bd92-4947-afb9-efa1f1759cde",
   "metadata": {},
   "outputs": [
    {
     "data": {
      "text/html": [
       "<div>\n",
       "<style scoped>\n",
       "    .dataframe tbody tr th:only-of-type {\n",
       "        vertical-align: middle;\n",
       "    }\n",
       "\n",
       "    .dataframe tbody tr th {\n",
       "        vertical-align: top;\n",
       "    }\n",
       "\n",
       "    .dataframe thead th {\n",
       "        text-align: right;\n",
       "    }\n",
       "</style>\n",
       "<table border=\"1\" class=\"dataframe\">\n",
       "  <thead>\n",
       "    <tr style=\"text-align: right;\">\n",
       "      <th></th>\n",
       "      <th>Rank</th>\n",
       "      <th>Genre</th>\n",
       "      <th>Description</th>\n",
       "      <th>Director</th>\n",
       "      <th>Actors</th>\n",
       "      <th>Year</th>\n",
       "      <th>Runtime_Minutes</th>\n",
       "      <th>Rating</th>\n",
       "      <th>Votes</th>\n",
       "      <th>Revenue_Millions</th>\n",
       "      <th>Metascore</th>\n",
       "    </tr>\n",
       "    <tr>\n",
       "      <th>Title</th>\n",
       "      <th></th>\n",
       "      <th></th>\n",
       "      <th></th>\n",
       "      <th></th>\n",
       "      <th></th>\n",
       "      <th></th>\n",
       "      <th></th>\n",
       "      <th></th>\n",
       "      <th></th>\n",
       "      <th></th>\n",
       "      <th></th>\n",
       "    </tr>\n",
       "  </thead>\n",
       "  <tbody>\n",
       "    <tr>\n",
       "      <th>Guardians of the Galaxy</th>\n",
       "      <td>1</td>\n",
       "      <td>Action,Adventure,Sci-Fi</td>\n",
       "      <td>A group of intergalactic criminals are forced ...</td>\n",
       "      <td>James Gunn</td>\n",
       "      <td>Chris Pratt, Vin Diesel, Bradley Cooper, Zoe S...</td>\n",
       "      <td>2014</td>\n",
       "      <td>121</td>\n",
       "      <td>8.1</td>\n",
       "      <td>757074</td>\n",
       "      <td>333.13</td>\n",
       "      <td>76.0</td>\n",
       "    </tr>\n",
       "    <tr>\n",
       "      <th>Prometheus</th>\n",
       "      <td>2</td>\n",
       "      <td>Adventure,Mystery,Sci-Fi</td>\n",
       "      <td>Following clues to the origin of mankind, a te...</td>\n",
       "      <td>Ridley Scott</td>\n",
       "      <td>Noomi Rapace, Logan Marshall-Green, Michael Fa...</td>\n",
       "      <td>2012</td>\n",
       "      <td>124</td>\n",
       "      <td>7.0</td>\n",
       "      <td>485820</td>\n",
       "      <td>126.46</td>\n",
       "      <td>65.0</td>\n",
       "    </tr>\n",
       "    <tr>\n",
       "      <th>Split</th>\n",
       "      <td>3</td>\n",
       "      <td>Horror,Thriller</td>\n",
       "      <td>Three girls are kidnapped by a man with a diag...</td>\n",
       "      <td>M. Night Shyamalan</td>\n",
       "      <td>James McAvoy, Anya Taylor-Joy, Haley Lu Richar...</td>\n",
       "      <td>2016</td>\n",
       "      <td>117</td>\n",
       "      <td>7.3</td>\n",
       "      <td>157606</td>\n",
       "      <td>138.12</td>\n",
       "      <td>62.0</td>\n",
       "    </tr>\n",
       "    <tr>\n",
       "      <th>Sing</th>\n",
       "      <td>4</td>\n",
       "      <td>Animation,Comedy,Family</td>\n",
       "      <td>In a city of humanoid animals, a hustling thea...</td>\n",
       "      <td>Christophe Lourdelet</td>\n",
       "      <td>Matthew McConaughey,Reese Witherspoon, Seth Ma...</td>\n",
       "      <td>2016</td>\n",
       "      <td>108</td>\n",
       "      <td>7.2</td>\n",
       "      <td>60545</td>\n",
       "      <td>270.32</td>\n",
       "      <td>59.0</td>\n",
       "    </tr>\n",
       "    <tr>\n",
       "      <th>Suicide Squad</th>\n",
       "      <td>5</td>\n",
       "      <td>Action,Adventure,Fantasy</td>\n",
       "      <td>A secret government agency recruits some of th...</td>\n",
       "      <td>David Ayer</td>\n",
       "      <td>Will Smith, Jared Leto, Margot Robbie, Viola D...</td>\n",
       "      <td>2016</td>\n",
       "      <td>123</td>\n",
       "      <td>6.2</td>\n",
       "      <td>393727</td>\n",
       "      <td>325.02</td>\n",
       "      <td>40.0</td>\n",
       "    </tr>\n",
       "  </tbody>\n",
       "</table>\n",
       "</div>"
      ],
      "text/plain": [
       "                         Rank                     Genre  \\\n",
       "Title                                                     \n",
       "Guardians of the Galaxy     1   Action,Adventure,Sci-Fi   \n",
       "Prometheus                  2  Adventure,Mystery,Sci-Fi   \n",
       "Split                       3           Horror,Thriller   \n",
       "Sing                        4   Animation,Comedy,Family   \n",
       "Suicide Squad               5  Action,Adventure,Fantasy   \n",
       "\n",
       "                                                               Description  \\\n",
       "Title                                                                        \n",
       "Guardians of the Galaxy  A group of intergalactic criminals are forced ...   \n",
       "Prometheus               Following clues to the origin of mankind, a te...   \n",
       "Split                    Three girls are kidnapped by a man with a diag...   \n",
       "Sing                     In a city of humanoid animals, a hustling thea...   \n",
       "Suicide Squad            A secret government agency recruits some of th...   \n",
       "\n",
       "                                     Director  \\\n",
       "Title                                           \n",
       "Guardians of the Galaxy            James Gunn   \n",
       "Prometheus                       Ridley Scott   \n",
       "Split                      M. Night Shyamalan   \n",
       "Sing                     Christophe Lourdelet   \n",
       "Suicide Squad                      David Ayer   \n",
       "\n",
       "                                                                    Actors  \\\n",
       "Title                                                                        \n",
       "Guardians of the Galaxy  Chris Pratt, Vin Diesel, Bradley Cooper, Zoe S...   \n",
       "Prometheus               Noomi Rapace, Logan Marshall-Green, Michael Fa...   \n",
       "Split                    James McAvoy, Anya Taylor-Joy, Haley Lu Richar...   \n",
       "Sing                     Matthew McConaughey,Reese Witherspoon, Seth Ma...   \n",
       "Suicide Squad            Will Smith, Jared Leto, Margot Robbie, Viola D...   \n",
       "\n",
       "                         Year  Runtime_Minutes  Rating   Votes  \\\n",
       "Title                                                            \n",
       "Guardians of the Galaxy  2014              121     8.1  757074   \n",
       "Prometheus               2012              124     7.0  485820   \n",
       "Split                    2016              117     7.3  157606   \n",
       "Sing                     2016              108     7.2   60545   \n",
       "Suicide Squad            2016              123     6.2  393727   \n",
       "\n",
       "                         Revenue_Millions  Metascore  \n",
       "Title                                                 \n",
       "Guardians of the Galaxy            333.13       76.0  \n",
       "Prometheus                         126.46       65.0  \n",
       "Split                              138.12       62.0  \n",
       "Sing                               270.32       59.0  \n",
       "Suicide Squad                      325.02       40.0  "
      ]
     },
     "execution_count": 77,
     "metadata": {},
     "output_type": "execute_result"
    }
   ],
   "source": [
    "# assigning the data set to a new variable\n",
    "\n",
    "df2 = df.copy()\n",
    "df2.head(5)"
   ]
  },
  {
   "cell_type": "markdown",
   "id": "2ef11f6d",
   "metadata": {},
   "source": [
    "## 5. Temizlenmiş veri seti içinden en yüksek rating e sahip 250 filmi seçerek \"top250\" isminde bir data seti oluşturun ve bunu lokalinize bu isimle kaydedin. Ardından bu yeni data setini tekrar pandas kütüphanesini kullanarak okuyun."
   ]
  },
  {
   "cell_type": "code",
   "execution_count": 78,
   "id": "d76d907d-7bf0-4051-97af-6ba1c87b8308",
   "metadata": {},
   "outputs": [],
   "source": [
    "#Filter the 250 movies with highest rating #sort_values and head(250)\n",
    "\n",
    "top250 = df2.sort_values(by=\"Rating\", ascending=False).head(250)\n",
    "\n"
   ]
  },
  {
   "cell_type": "code",
   "execution_count": 79,
   "id": "649223fe-ef92-4a90-843d-4b4f1e12778b",
   "metadata": {},
   "outputs": [],
   "source": [
    "#save this top250 df to local as csv.\n",
    "\n",
    "top250.to_csv('top250.csv')"
   ]
  },
  {
   "cell_type": "code",
   "execution_count": 80,
   "id": "34341bc5-b06e-45b5-81e3-40be4d872900",
   "metadata": {},
   "outputs": [
    {
     "data": {
      "text/plain": [
       "(250, 11)"
      ]
     },
     "execution_count": 80,
     "metadata": {},
     "output_type": "execute_result"
    }
   ],
   "source": [
    "top250.shape"
   ]
  },
  {
   "cell_type": "markdown",
   "id": "a4759dca",
   "metadata": {},
   "source": [
    "## 6. Veri setinin boyutunu ve özelliklerini inceleyin"
   ]
  },
  {
   "cell_type": "code",
   "execution_count": 81,
   "id": "13289d88-4188-4d8d-bb59-40298af7577d",
   "metadata": {},
   "outputs": [],
   "source": [
    "# first we should read the new data set(top250)\n",
    "\n",
    "df_new = pd.read_csv(\"top250.csv\")\n",
    "df_new.set_index('Title', inplace=True)\n",
    "\n",
    "#again replace the index with \"Title\"\n",
    "\n"
   ]
  },
  {
   "cell_type": "markdown",
   "id": "55bedeff",
   "metadata": {},
   "source": [
    "#### a. Veri setinin boyutunu inceleme"
   ]
  },
  {
   "cell_type": "code",
   "execution_count": 82,
   "id": "b5ba4993-3848-41dc-80cb-865feac3be0f",
   "metadata": {},
   "outputs": [
    {
     "data": {
      "text/plain": [
       "(250, 11)"
      ]
     },
     "execution_count": 82,
     "metadata": {},
     "output_type": "execute_result"
    }
   ],
   "source": [
    "df_new.shape"
   ]
  },
  {
   "cell_type": "code",
   "execution_count": 83,
   "id": "4de7983d-eef4-4842-aa06-214f7cfc48f8",
   "metadata": {},
   "outputs": [
    {
     "name": "stdout",
     "output_type": "stream",
     "text": [
      "<class 'pandas.core.frame.DataFrame'>\n",
      "Index: 838 entries, Guardians of the Galaxy to Nine Lives\n",
      "Data columns (total 11 columns):\n",
      " #   Column            Non-Null Count  Dtype  \n",
      "---  ------            --------------  -----  \n",
      " 0   Rank              838 non-null    int64  \n",
      " 1   Genre             838 non-null    object \n",
      " 2   Description       838 non-null    object \n",
      " 3   Director          838 non-null    object \n",
      " 4   Actors            838 non-null    object \n",
      " 5   Year              838 non-null    int64  \n",
      " 6   Runtime_Minutes   838 non-null    int64  \n",
      " 7   Rating            838 non-null    float64\n",
      " 8   Votes             838 non-null    int64  \n",
      " 9   Revenue_Millions  838 non-null    float64\n",
      " 10  Metascore         838 non-null    float64\n",
      "dtypes: float64(3), int64(4), object(4)\n",
      "memory usage: 78.6+ KB\n"
     ]
    }
   ],
   "source": [
    "df.info()"
   ]
  },
  {
   "cell_type": "code",
   "execution_count": 84,
   "id": "a11ce4e9-9ead-4c83-a6a2-363c0967b7ce",
   "metadata": {},
   "outputs": [
    {
     "data": {
      "text/plain": [
       "Index(['Rank', 'Genre', 'Description', 'Director', 'Actors', 'Year',\n",
       "       'Runtime_Minutes', 'Rating', 'Votes', 'Revenue_Millions', 'Metascore'],\n",
       "      dtype='object')"
      ]
     },
     "execution_count": 84,
     "metadata": {},
     "output_type": "execute_result"
    }
   ],
   "source": [
    "df_new.columns"
   ]
  },
  {
   "cell_type": "code",
   "execution_count": 120,
   "id": "b4c5232f-2f33-4eb2-900e-f0062c292f5d",
   "metadata": {},
   "outputs": [
    {
     "data": {
      "text/plain": [
       "array(['Action,Crime,Drama', 'Action,Adventure,Sci-Fi',\n",
       "       'Adventure,Drama,Sci-Fi', 'Biography,Comedy,Drama',\n",
       "       'Animation,Drama,Fantasy', 'Action,Thriller', 'Drama,Family,Music',\n",
       "       'Drama,Music', 'Crime,Drama,Thriller', 'Drama,Thriller',\n",
       "       'Drama,Mystery,Sci-Fi', 'Drama,Western', 'Comedy,Drama', 'Drama',\n",
       "       'Animation,Adventure,Comedy', 'Adventure,Drama,War',\n",
       "       'Comedy,Drama,Music', 'Comedy,Drama,Romance',\n",
       "       'Drama,Mystery,Romance', 'Drama,Fantasy,War', 'Action,Drama,Sport',\n",
       "       'Drama,Mystery,War', 'Biography,Comedy,Crime',\n",
       "       'Biography,Drama,History', 'Adventure,Drama,Fantasy',\n",
       "       'Crime,Drama,History', 'Animation,Action,Adventure',\n",
       "       'Crime,Drama,Mystery', 'Action,Sci-Fi', 'Comedy,Drama,Thriller',\n",
       "       'Biography,Drama,Thriller', 'Action,Mystery,Thriller',\n",
       "       'Adventure,Biography,Drama', 'Action,Adventure,Fantasy',\n",
       "       'Biography,Drama', 'Drama,History', 'Action,Biography,Drama',\n",
       "       'Adventure,Comedy,Drama', 'Mystery,Thriller',\n",
       "       'Animation,Comedy,Family', 'Action,Sci-Fi,Thriller',\n",
       "       'Drama,Romance', 'Drama,Romance,Sci-Fi',\n",
       "       'Action,Adventure,Thriller', 'Adventure,Drama,Thriller',\n",
       "       'Action,Adventure,Comedy', 'Adventure,Fantasy',\n",
       "       'Action,Comedy,Mystery', 'Drama,Sci-Fi,Thriller',\n",
       "       'Animation,Adventure,Family', 'Comedy,Crime,Drama', 'Drama,War',\n",
       "       'Drama,Fantasy,Romance', 'Comedy', 'Action,Adventure,Drama',\n",
       "       'Comedy,Drama,Fantasy', 'Biography,Crime,Drama', 'Crime,Drama',\n",
       "       'Animation,Comedy,Drama', 'Biography,Drama,Mystery',\n",
       "       'Drama,Mystery,Thriller', 'Animation,Family,Fantasy',\n",
       "       'Adventure,Comedy,Horror', 'Biography,Drama,Romance',\n",
       "       'Comedy,Fantasy,Romance', 'Adventure,Family,Fantasy',\n",
       "       'Action,Comedy', 'Action,Fantasy,War', 'Biography,Drama,Sport',\n",
       "       'Drama,Musical,Romance', 'Drama,Sport', 'Drama,History,Thriller',\n",
       "       'Comedy,Fantasy,Horror', 'Action,Adventure,Crime',\n",
       "       'Action,Drama,War', 'Action,Drama,Sci-Fi',\n",
       "       'Adventure,Drama,Western', 'Animation,Fantasy',\n",
       "       'Action,Drama,Mystery', 'Action,Adventure,Mystery',\n",
       "       'Horror,Mystery,Thriller', 'Drama,Sci-Fi',\n",
       "       'Adventure,Drama,Family', 'Drama,Fantasy,Horror',\n",
       "       'Crime,Drama,Fantasy', 'Action,Drama,Horror', 'Drama,History,War',\n",
       "       'Mystery,Romance,Sci-Fi', 'Drama,Fantasy', 'Drama,Horror',\n",
       "       'Action,Comedy,Fantasy', 'Drama,Fantasy,Musical',\n",
       "       'Mystery,Sci-Fi,Thriller', 'Drama,Horror,Musical',\n",
       "       'Action,Comedy,Crime', 'Adventure,Drama,History'], dtype=object)"
      ]
     },
     "execution_count": 120,
     "metadata": {},
     "output_type": "execute_result"
    }
   ],
   "source": [
    "df_new[\"Genre\"].unique()"
   ]
  },
  {
   "cell_type": "markdown",
   "id": "016024fd",
   "metadata": {},
   "source": [
    "#### b. Veri setinin ilk 5 gözlemine göz atma"
   ]
  },
  {
   "cell_type": "code",
   "execution_count": null,
   "id": "ef0003bf-b62d-4d60-af9f-98f4b67e0b37",
   "metadata": {},
   "outputs": [],
   "source": []
  },
  {
   "cell_type": "code",
   "execution_count": 85,
   "id": "c6e7ab54-502a-468e-b826-9b9d1414bd10",
   "metadata": {},
   "outputs": [
    {
     "data": {
      "text/html": [
       "<div>\n",
       "<style scoped>\n",
       "    .dataframe tbody tr th:only-of-type {\n",
       "        vertical-align: middle;\n",
       "    }\n",
       "\n",
       "    .dataframe tbody tr th {\n",
       "        vertical-align: top;\n",
       "    }\n",
       "\n",
       "    .dataframe thead th {\n",
       "        text-align: right;\n",
       "    }\n",
       "</style>\n",
       "<table border=\"1\" class=\"dataframe\">\n",
       "  <thead>\n",
       "    <tr style=\"text-align: right;\">\n",
       "      <th></th>\n",
       "      <th>Rank</th>\n",
       "      <th>Genre</th>\n",
       "      <th>Description</th>\n",
       "      <th>Director</th>\n",
       "      <th>Actors</th>\n",
       "      <th>Year</th>\n",
       "      <th>Runtime_Minutes</th>\n",
       "      <th>Rating</th>\n",
       "      <th>Votes</th>\n",
       "      <th>Revenue_Millions</th>\n",
       "      <th>Metascore</th>\n",
       "    </tr>\n",
       "    <tr>\n",
       "      <th>Title</th>\n",
       "      <th></th>\n",
       "      <th></th>\n",
       "      <th></th>\n",
       "      <th></th>\n",
       "      <th></th>\n",
       "      <th></th>\n",
       "      <th></th>\n",
       "      <th></th>\n",
       "      <th></th>\n",
       "      <th></th>\n",
       "      <th></th>\n",
       "    </tr>\n",
       "  </thead>\n",
       "  <tbody>\n",
       "    <tr>\n",
       "      <th>The Dark Knight</th>\n",
       "      <td>55</td>\n",
       "      <td>Action,Crime,Drama</td>\n",
       "      <td>When the menace known as the Joker wreaks havo...</td>\n",
       "      <td>Christopher Nolan</td>\n",
       "      <td>Christian Bale, Heath Ledger, Aaron Eckhart,Mi...</td>\n",
       "      <td>2008</td>\n",
       "      <td>152</td>\n",
       "      <td>9.0</td>\n",
       "      <td>1791916</td>\n",
       "      <td>533.32</td>\n",
       "      <td>82.0</td>\n",
       "    </tr>\n",
       "    <tr>\n",
       "      <th>Inception</th>\n",
       "      <td>81</td>\n",
       "      <td>Action,Adventure,Sci-Fi</td>\n",
       "      <td>A thief, who steals corporate secrets through ...</td>\n",
       "      <td>Christopher Nolan</td>\n",
       "      <td>Leonardo DiCaprio, Joseph Gordon-Levitt, Ellen...</td>\n",
       "      <td>2010</td>\n",
       "      <td>148</td>\n",
       "      <td>8.8</td>\n",
       "      <td>1583625</td>\n",
       "      <td>292.57</td>\n",
       "      <td>74.0</td>\n",
       "    </tr>\n",
       "    <tr>\n",
       "      <th>Interstellar</th>\n",
       "      <td>37</td>\n",
       "      <td>Adventure,Drama,Sci-Fi</td>\n",
       "      <td>A team of explorers travel through a wormhole ...</td>\n",
       "      <td>Christopher Nolan</td>\n",
       "      <td>Matthew McConaughey, Anne Hathaway, Jessica Ch...</td>\n",
       "      <td>2014</td>\n",
       "      <td>169</td>\n",
       "      <td>8.6</td>\n",
       "      <td>1047747</td>\n",
       "      <td>187.99</td>\n",
       "      <td>74.0</td>\n",
       "    </tr>\n",
       "    <tr>\n",
       "      <th>The Intouchables</th>\n",
       "      <td>250</td>\n",
       "      <td>Biography,Comedy,Drama</td>\n",
       "      <td>After he becomes a quadriplegic from a paragli...</td>\n",
       "      <td>Olivier Nakache</td>\n",
       "      <td>François Cluzet, Omar Sy, Anne Le Ny, Audrey F...</td>\n",
       "      <td>2011</td>\n",
       "      <td>112</td>\n",
       "      <td>8.6</td>\n",
       "      <td>557965</td>\n",
       "      <td>13.18</td>\n",
       "      <td>57.0</td>\n",
       "    </tr>\n",
       "    <tr>\n",
       "      <th>Kimi no na wa</th>\n",
       "      <td>97</td>\n",
       "      <td>Animation,Drama,Fantasy</td>\n",
       "      <td>Two strangers find themselves linked in a biza...</td>\n",
       "      <td>Makoto Shinkai</td>\n",
       "      <td>Ryûnosuke Kamiki, Mone Kamishiraishi, Ryô Nari...</td>\n",
       "      <td>2016</td>\n",
       "      <td>106</td>\n",
       "      <td>8.6</td>\n",
       "      <td>34110</td>\n",
       "      <td>4.68</td>\n",
       "      <td>79.0</td>\n",
       "    </tr>\n",
       "  </tbody>\n",
       "</table>\n",
       "</div>"
      ],
      "text/plain": [
       "                  Rank                    Genre  \\\n",
       "Title                                             \n",
       "The Dark Knight     55       Action,Crime,Drama   \n",
       "Inception           81  Action,Adventure,Sci-Fi   \n",
       "Interstellar        37   Adventure,Drama,Sci-Fi   \n",
       "The Intouchables   250   Biography,Comedy,Drama   \n",
       "Kimi no na wa       97  Animation,Drama,Fantasy   \n",
       "\n",
       "                                                        Description  \\\n",
       "Title                                                                 \n",
       "The Dark Knight   When the menace known as the Joker wreaks havo...   \n",
       "Inception         A thief, who steals corporate secrets through ...   \n",
       "Interstellar      A team of explorers travel through a wormhole ...   \n",
       "The Intouchables  After he becomes a quadriplegic from a paragli...   \n",
       "Kimi no na wa     Two strangers find themselves linked in a biza...   \n",
       "\n",
       "                           Director  \\\n",
       "Title                                 \n",
       "The Dark Knight   Christopher Nolan   \n",
       "Inception         Christopher Nolan   \n",
       "Interstellar      Christopher Nolan   \n",
       "The Intouchables    Olivier Nakache   \n",
       "Kimi no na wa        Makoto Shinkai   \n",
       "\n",
       "                                                             Actors  Year  \\\n",
       "Title                                                                       \n",
       "The Dark Knight   Christian Bale, Heath Ledger, Aaron Eckhart,Mi...  2008   \n",
       "Inception         Leonardo DiCaprio, Joseph Gordon-Levitt, Ellen...  2010   \n",
       "Interstellar      Matthew McConaughey, Anne Hathaway, Jessica Ch...  2014   \n",
       "The Intouchables  François Cluzet, Omar Sy, Anne Le Ny, Audrey F...  2011   \n",
       "Kimi no na wa     Ryûnosuke Kamiki, Mone Kamishiraishi, Ryô Nari...  2016   \n",
       "\n",
       "                  Runtime_Minutes  Rating    Votes  Revenue_Millions  \\\n",
       "Title                                                                  \n",
       "The Dark Knight               152     9.0  1791916            533.32   \n",
       "Inception                     148     8.8  1583625            292.57   \n",
       "Interstellar                  169     8.6  1047747            187.99   \n",
       "The Intouchables              112     8.6   557965             13.18   \n",
       "Kimi no na wa                 106     8.6    34110              4.68   \n",
       "\n",
       "                  Metascore  \n",
       "Title                        \n",
       "The Dark Knight        82.0  \n",
       "Inception              74.0  \n",
       "Interstellar           74.0  \n",
       "The Intouchables       57.0  \n",
       "Kimi no na wa          79.0  "
      ]
     },
     "execution_count": 85,
     "metadata": {},
     "output_type": "execute_result"
    }
   ],
   "source": [
    "df_new.head(5)"
   ]
  },
  {
   "cell_type": "markdown",
   "id": "9b86e4f3",
   "metadata": {},
   "source": [
    "#### c. Random olarak 10 gözleme bakma"
   ]
  },
  {
   "cell_type": "code",
   "execution_count": 86,
   "id": "98b59b4f-2f4b-4f1d-93f1-5537dc87f35c",
   "metadata": {},
   "outputs": [
    {
     "data": {
      "text/html": [
       "<div>\n",
       "<style scoped>\n",
       "    .dataframe tbody tr th:only-of-type {\n",
       "        vertical-align: middle;\n",
       "    }\n",
       "\n",
       "    .dataframe tbody tr th {\n",
       "        vertical-align: top;\n",
       "    }\n",
       "\n",
       "    .dataframe thead th {\n",
       "        text-align: right;\n",
       "    }\n",
       "</style>\n",
       "<table border=\"1\" class=\"dataframe\">\n",
       "  <thead>\n",
       "    <tr style=\"text-align: right;\">\n",
       "      <th></th>\n",
       "      <th>Rank</th>\n",
       "      <th>Genre</th>\n",
       "      <th>Description</th>\n",
       "      <th>Director</th>\n",
       "      <th>Actors</th>\n",
       "      <th>Year</th>\n",
       "      <th>Runtime_Minutes</th>\n",
       "      <th>Rating</th>\n",
       "      <th>Votes</th>\n",
       "      <th>Revenue_Millions</th>\n",
       "      <th>Metascore</th>\n",
       "    </tr>\n",
       "    <tr>\n",
       "      <th>Title</th>\n",
       "      <th></th>\n",
       "      <th></th>\n",
       "      <th></th>\n",
       "      <th></th>\n",
       "      <th></th>\n",
       "      <th></th>\n",
       "      <th></th>\n",
       "      <th></th>\n",
       "      <th></th>\n",
       "      <th></th>\n",
       "      <th></th>\n",
       "    </tr>\n",
       "  </thead>\n",
       "  <tbody>\n",
       "    <tr>\n",
       "      <th>Rise of the Planet of the Apes</th>\n",
       "      <td>258</td>\n",
       "      <td>Action,Drama,Sci-Fi</td>\n",
       "      <td>A substance, designed to help the brain repair...</td>\n",
       "      <td>Rupert Wyatt</td>\n",
       "      <td>James Franco, Andy Serkis, Freida Pinto, Karin...</td>\n",
       "      <td>2011</td>\n",
       "      <td>105</td>\n",
       "      <td>7.6</td>\n",
       "      <td>422290</td>\n",
       "      <td>176.74</td>\n",
       "      <td>68.0</td>\n",
       "    </tr>\n",
       "    <tr>\n",
       "      <th>Southpaw</th>\n",
       "      <td>382</td>\n",
       "      <td>Drama,Sport</td>\n",
       "      <td>Boxer Billy Hope turns to trainer Tick Wills t...</td>\n",
       "      <td>Antoine Fuqua</td>\n",
       "      <td>Jake Gyllenhaal, Rachel McAdams, Oona Laurence...</td>\n",
       "      <td>2015</td>\n",
       "      <td>124</td>\n",
       "      <td>7.4</td>\n",
       "      <td>169083</td>\n",
       "      <td>52.42</td>\n",
       "      <td>57.0</td>\n",
       "    </tr>\n",
       "    <tr>\n",
       "      <th>Tangled</th>\n",
       "      <td>408</td>\n",
       "      <td>Animation,Adventure,Comedy</td>\n",
       "      <td>The magically long-haired Rapunzel has spent h...</td>\n",
       "      <td>Nathan Greno</td>\n",
       "      <td>Mandy Moore, Zachary Levi, Donna Murphy, Ron P...</td>\n",
       "      <td>2010</td>\n",
       "      <td>100</td>\n",
       "      <td>7.8</td>\n",
       "      <td>316459</td>\n",
       "      <td>200.81</td>\n",
       "      <td>71.0</td>\n",
       "    </tr>\n",
       "    <tr>\n",
       "      <th>Moana</th>\n",
       "      <td>14</td>\n",
       "      <td>Animation,Adventure,Comedy</td>\n",
       "      <td>In Ancient Polynesia, when a terrible curse in...</td>\n",
       "      <td>Ron Clements</td>\n",
       "      <td>Auli'i Cravalho, Dwayne Johnson, Rachel House,...</td>\n",
       "      <td>2016</td>\n",
       "      <td>107</td>\n",
       "      <td>7.7</td>\n",
       "      <td>118151</td>\n",
       "      <td>248.75</td>\n",
       "      <td>81.0</td>\n",
       "    </tr>\n",
       "    <tr>\n",
       "      <th>The Avengers</th>\n",
       "      <td>77</td>\n",
       "      <td>Action,Sci-Fi</td>\n",
       "      <td>Earth's mightiest heroes must come together an...</td>\n",
       "      <td>Joss Whedon</td>\n",
       "      <td>Robert Downey Jr., Chris Evans, Scarlett Johan...</td>\n",
       "      <td>2012</td>\n",
       "      <td>143</td>\n",
       "      <td>8.1</td>\n",
       "      <td>1045588</td>\n",
       "      <td>623.28</td>\n",
       "      <td>69.0</td>\n",
       "    </tr>\n",
       "    <tr>\n",
       "      <th>3 Idiots</th>\n",
       "      <td>431</td>\n",
       "      <td>Comedy,Drama</td>\n",
       "      <td>Two friends are searching for their long lost ...</td>\n",
       "      <td>Rajkumar Hirani</td>\n",
       "      <td>Aamir Khan, Madhavan, Mona Singh, Sharman Joshi</td>\n",
       "      <td>2009</td>\n",
       "      <td>170</td>\n",
       "      <td>8.4</td>\n",
       "      <td>238789</td>\n",
       "      <td>6.52</td>\n",
       "      <td>67.0</td>\n",
       "    </tr>\n",
       "    <tr>\n",
       "      <th>Precious</th>\n",
       "      <td>927</td>\n",
       "      <td>Drama</td>\n",
       "      <td>In New York City's Harlem circa 1987, an overw...</td>\n",
       "      <td>Lee Daniels</td>\n",
       "      <td>Gabourey Sidibe, Mo'Nique, Paula Patton, Maria...</td>\n",
       "      <td>2009</td>\n",
       "      <td>110</td>\n",
       "      <td>7.3</td>\n",
       "      <td>91623</td>\n",
       "      <td>47.54</td>\n",
       "      <td>79.0</td>\n",
       "    </tr>\n",
       "    <tr>\n",
       "      <th>The Conjuring</th>\n",
       "      <td>255</td>\n",
       "      <td>Horror,Mystery,Thriller</td>\n",
       "      <td>Paranormal investigators Ed and Lorraine Warre...</td>\n",
       "      <td>James Wan</td>\n",
       "      <td>Patrick Wilson, Vera Farmiga, Ron Livingston, ...</td>\n",
       "      <td>2013</td>\n",
       "      <td>112</td>\n",
       "      <td>7.5</td>\n",
       "      <td>330305</td>\n",
       "      <td>137.39</td>\n",
       "      <td>68.0</td>\n",
       "    </tr>\n",
       "    <tr>\n",
       "      <th>Gone Baby Gone</th>\n",
       "      <td>663</td>\n",
       "      <td>Crime,Drama,Mystery</td>\n",
       "      <td>Two Boston area detectives investigate a littl...</td>\n",
       "      <td>Ben Affleck</td>\n",
       "      <td>Morgan Freeman, Ed Harris, Casey Affleck, Mich...</td>\n",
       "      <td>2007</td>\n",
       "      <td>114</td>\n",
       "      <td>7.7</td>\n",
       "      <td>206707</td>\n",
       "      <td>20.30</td>\n",
       "      <td>72.0</td>\n",
       "    </tr>\n",
       "    <tr>\n",
       "      <th>Me and Earl and the Dying Girl</th>\n",
       "      <td>951</td>\n",
       "      <td>Comedy,Drama</td>\n",
       "      <td>High schooler Greg, who spends most of his tim...</td>\n",
       "      <td>Alfonso Gomez-Rejon</td>\n",
       "      <td>Thomas Mann, RJ Cyler, Olivia Cooke, Nick Offe...</td>\n",
       "      <td>2015</td>\n",
       "      <td>105</td>\n",
       "      <td>7.8</td>\n",
       "      <td>92076</td>\n",
       "      <td>6.74</td>\n",
       "      <td>74.0</td>\n",
       "    </tr>\n",
       "  </tbody>\n",
       "</table>\n",
       "</div>"
      ],
      "text/plain": [
       "                                Rank                       Genre  \\\n",
       "Title                                                              \n",
       "Rise of the Planet of the Apes   258         Action,Drama,Sci-Fi   \n",
       "Southpaw                         382                 Drama,Sport   \n",
       "Tangled                          408  Animation,Adventure,Comedy   \n",
       "Moana                             14  Animation,Adventure,Comedy   \n",
       "The Avengers                      77               Action,Sci-Fi   \n",
       "3 Idiots                         431                Comedy,Drama   \n",
       "Precious                         927                       Drama   \n",
       "The Conjuring                    255     Horror,Mystery,Thriller   \n",
       "Gone Baby Gone                   663         Crime,Drama,Mystery   \n",
       "Me and Earl and the Dying Girl   951                Comedy,Drama   \n",
       "\n",
       "                                                                      Description  \\\n",
       "Title                                                                               \n",
       "Rise of the Planet of the Apes  A substance, designed to help the brain repair...   \n",
       "Southpaw                        Boxer Billy Hope turns to trainer Tick Wills t...   \n",
       "Tangled                         The magically long-haired Rapunzel has spent h...   \n",
       "Moana                           In Ancient Polynesia, when a terrible curse in...   \n",
       "The Avengers                    Earth's mightiest heroes must come together an...   \n",
       "3 Idiots                        Two friends are searching for their long lost ...   \n",
       "Precious                        In New York City's Harlem circa 1987, an overw...   \n",
       "The Conjuring                   Paranormal investigators Ed and Lorraine Warre...   \n",
       "Gone Baby Gone                  Two Boston area detectives investigate a littl...   \n",
       "Me and Earl and the Dying Girl  High schooler Greg, who spends most of his tim...   \n",
       "\n",
       "                                           Director  \\\n",
       "Title                                                 \n",
       "Rise of the Planet of the Apes         Rupert Wyatt   \n",
       "Southpaw                              Antoine Fuqua   \n",
       "Tangled                                Nathan Greno   \n",
       "Moana                                  Ron Clements   \n",
       "The Avengers                            Joss Whedon   \n",
       "3 Idiots                            Rajkumar Hirani   \n",
       "Precious                                Lee Daniels   \n",
       "The Conjuring                             James Wan   \n",
       "Gone Baby Gone                          Ben Affleck   \n",
       "Me and Earl and the Dying Girl  Alfonso Gomez-Rejon   \n",
       "\n",
       "                                                                           Actors  \\\n",
       "Title                                                                               \n",
       "Rise of the Planet of the Apes  James Franco, Andy Serkis, Freida Pinto, Karin...   \n",
       "Southpaw                        Jake Gyllenhaal, Rachel McAdams, Oona Laurence...   \n",
       "Tangled                         Mandy Moore, Zachary Levi, Donna Murphy, Ron P...   \n",
       "Moana                           Auli'i Cravalho, Dwayne Johnson, Rachel House,...   \n",
       "The Avengers                    Robert Downey Jr., Chris Evans, Scarlett Johan...   \n",
       "3 Idiots                          Aamir Khan, Madhavan, Mona Singh, Sharman Joshi   \n",
       "Precious                        Gabourey Sidibe, Mo'Nique, Paula Patton, Maria...   \n",
       "The Conjuring                   Patrick Wilson, Vera Farmiga, Ron Livingston, ...   \n",
       "Gone Baby Gone                  Morgan Freeman, Ed Harris, Casey Affleck, Mich...   \n",
       "Me and Earl and the Dying Girl  Thomas Mann, RJ Cyler, Olivia Cooke, Nick Offe...   \n",
       "\n",
       "                                Year  Runtime_Minutes  Rating    Votes  \\\n",
       "Title                                                                    \n",
       "Rise of the Planet of the Apes  2011              105     7.6   422290   \n",
       "Southpaw                        2015              124     7.4   169083   \n",
       "Tangled                         2010              100     7.8   316459   \n",
       "Moana                           2016              107     7.7   118151   \n",
       "The Avengers                    2012              143     8.1  1045588   \n",
       "3 Idiots                        2009              170     8.4   238789   \n",
       "Precious                        2009              110     7.3    91623   \n",
       "The Conjuring                   2013              112     7.5   330305   \n",
       "Gone Baby Gone                  2007              114     7.7   206707   \n",
       "Me and Earl and the Dying Girl  2015              105     7.8    92076   \n",
       "\n",
       "                                Revenue_Millions  Metascore  \n",
       "Title                                                        \n",
       "Rise of the Planet of the Apes            176.74       68.0  \n",
       "Southpaw                                   52.42       57.0  \n",
       "Tangled                                   200.81       71.0  \n",
       "Moana                                     248.75       81.0  \n",
       "The Avengers                              623.28       69.0  \n",
       "3 Idiots                                    6.52       67.0  \n",
       "Precious                                   47.54       79.0  \n",
       "The Conjuring                             137.39       68.0  \n",
       "Gone Baby Gone                             20.30       72.0  \n",
       "Me and Earl and the Dying Girl              6.74       74.0  "
      ]
     },
     "execution_count": 86,
     "metadata": {},
     "output_type": "execute_result"
    }
   ],
   "source": [
    "df_new.sample(10)"
   ]
  },
  {
   "cell_type": "markdown",
   "id": "8a9060ae",
   "metadata": {},
   "source": [
    "#### d. Veri setinin sütunlarına göz atma"
   ]
  },
  {
   "cell_type": "code",
   "execution_count": 70,
   "id": "f5d49430-9c7a-4c8d-9943-063b9e33be76",
   "metadata": {},
   "outputs": [
    {
     "data": {
      "text/plain": [
       "Index(['Rank', 'Genre', 'Description', 'Director', 'Actors', 'Year',\n",
       "       'Runtime_Minutes', 'Rating', 'Votes', 'Revenue_Millions', 'Metascore'],\n",
       "      dtype='object')"
      ]
     },
     "execution_count": 70,
     "metadata": {},
     "output_type": "execute_result"
    }
   ],
   "source": [
    "df_new.columns"
   ]
  },
  {
   "cell_type": "markdown",
   "id": "7fe4107f",
   "metadata": {},
   "source": [
    "#### e. Veri setinin özet istatistiklerini görüntüleme"
   ]
  },
  {
   "cell_type": "code",
   "execution_count": 87,
   "id": "92ef59e1-3f9c-4c2c-b0d8-86f5a91a421e",
   "metadata": {},
   "outputs": [
    {
     "data": {
      "text/html": [
       "<div>\n",
       "<style scoped>\n",
       "    .dataframe tbody tr th:only-of-type {\n",
       "        vertical-align: middle;\n",
       "    }\n",
       "\n",
       "    .dataframe tbody tr th {\n",
       "        vertical-align: top;\n",
       "    }\n",
       "\n",
       "    .dataframe thead th {\n",
       "        text-align: right;\n",
       "    }\n",
       "</style>\n",
       "<table border=\"1\" class=\"dataframe\">\n",
       "  <thead>\n",
       "    <tr style=\"text-align: right;\">\n",
       "      <th></th>\n",
       "      <th>count</th>\n",
       "      <th>mean</th>\n",
       "      <th>std</th>\n",
       "      <th>min</th>\n",
       "      <th>25%</th>\n",
       "      <th>50%</th>\n",
       "      <th>75%</th>\n",
       "      <th>max</th>\n",
       "    </tr>\n",
       "  </thead>\n",
       "  <tbody>\n",
       "    <tr>\n",
       "      <th>Rank</th>\n",
       "      <td>250.0</td>\n",
       "      <td>388.79600</td>\n",
       "      <td>279.156263</td>\n",
       "      <td>1.00</td>\n",
       "      <td>146.2500</td>\n",
       "      <td>333.500</td>\n",
       "      <td>631.2500</td>\n",
       "      <td>992.00</td>\n",
       "    </tr>\n",
       "    <tr>\n",
       "      <th>Year</th>\n",
       "      <td>250.0</td>\n",
       "      <td>2011.81600</td>\n",
       "      <td>3.338672</td>\n",
       "      <td>2006.00</td>\n",
       "      <td>2009.0000</td>\n",
       "      <td>2012.000</td>\n",
       "      <td>2015.0000</td>\n",
       "      <td>2016.00</td>\n",
       "    </tr>\n",
       "    <tr>\n",
       "      <th>Runtime_Minutes</th>\n",
       "      <td>250.0</td>\n",
       "      <td>124.20400</td>\n",
       "      <td>21.320710</td>\n",
       "      <td>66.00</td>\n",
       "      <td>108.0000</td>\n",
       "      <td>121.000</td>\n",
       "      <td>138.0000</td>\n",
       "      <td>187.00</td>\n",
       "    </tr>\n",
       "    <tr>\n",
       "      <th>Rating</th>\n",
       "      <td>250.0</td>\n",
       "      <td>7.78160</td>\n",
       "      <td>0.316198</td>\n",
       "      <td>7.30</td>\n",
       "      <td>7.5000</td>\n",
       "      <td>7.800</td>\n",
       "      <td>8.0000</td>\n",
       "      <td>9.00</td>\n",
       "    </tr>\n",
       "    <tr>\n",
       "      <th>Votes</th>\n",
       "      <td>250.0</td>\n",
       "      <td>328423.20800</td>\n",
       "      <td>256513.616266</td>\n",
       "      <td>291.00</td>\n",
       "      <td>138163.7500</td>\n",
       "      <td>294281.500</td>\n",
       "      <td>450024.7500</td>\n",
       "      <td>1791916.00</td>\n",
       "    </tr>\n",
       "    <tr>\n",
       "      <th>Revenue_Millions</th>\n",
       "      <td>250.0</td>\n",
       "      <td>115.82924</td>\n",
       "      <td>137.567086</td>\n",
       "      <td>0.01</td>\n",
       "      <td>17.8875</td>\n",
       "      <td>63.715</td>\n",
       "      <td>168.8875</td>\n",
       "      <td>936.63</td>\n",
       "    </tr>\n",
       "    <tr>\n",
       "      <th>Metascore</th>\n",
       "      <td>250.0</td>\n",
       "      <td>73.60800</td>\n",
       "      <td>12.308874</td>\n",
       "      <td>34.00</td>\n",
       "      <td>67.0000</td>\n",
       "      <td>74.000</td>\n",
       "      <td>81.0000</td>\n",
       "      <td>100.00</td>\n",
       "    </tr>\n",
       "  </tbody>\n",
       "</table>\n",
       "</div>"
      ],
      "text/plain": [
       "                  count          mean            std      min          25%  \\\n",
       "Rank              250.0     388.79600     279.156263     1.00     146.2500   \n",
       "Year              250.0    2011.81600       3.338672  2006.00    2009.0000   \n",
       "Runtime_Minutes   250.0     124.20400      21.320710    66.00     108.0000   \n",
       "Rating            250.0       7.78160       0.316198     7.30       7.5000   \n",
       "Votes             250.0  328423.20800  256513.616266   291.00  138163.7500   \n",
       "Revenue_Millions  250.0     115.82924     137.567086     0.01      17.8875   \n",
       "Metascore         250.0      73.60800      12.308874    34.00      67.0000   \n",
       "\n",
       "                         50%          75%         max  \n",
       "Rank                 333.500     631.2500      992.00  \n",
       "Year                2012.000    2015.0000     2016.00  \n",
       "Runtime_Minutes      121.000     138.0000      187.00  \n",
       "Rating                 7.800       8.0000        9.00  \n",
       "Votes             294281.500  450024.7500  1791916.00  \n",
       "Revenue_Millions      63.715     168.8875      936.63  \n",
       "Metascore             74.000      81.0000      100.00  "
      ]
     },
     "execution_count": 87,
     "metadata": {},
     "output_type": "execute_result"
    }
   ],
   "source": [
    "df_new.describe().T\n"
   ]
  },
  {
   "cell_type": "markdown",
   "id": "38b0a770",
   "metadata": {},
   "source": [
    "## 7. Verilerin doğruluğunun ve eksik değerlerinin olup olmadığını kontrol edin.¶\n",
    "\n",
    "Not: 4.madde ile benzer şelkilde kontrol edebilirsiniz."
   ]
  },
  {
   "cell_type": "code",
   "execution_count": 88,
   "id": "f1ef2d7c-a424-42eb-a623-21cff00dd259",
   "metadata": {},
   "outputs": [
    {
     "data": {
      "text/plain": [
       "Rank                0\n",
       "Genre               0\n",
       "Description         0\n",
       "Director            0\n",
       "Actors              0\n",
       "Year                0\n",
       "Runtime_Minutes     0\n",
       "Rating              0\n",
       "Votes               0\n",
       "Revenue_Millions    0\n",
       "Metascore           0\n",
       "dtype: int64"
      ]
     },
     "execution_count": 88,
     "metadata": {},
     "output_type": "execute_result"
    }
   ],
   "source": [
    "df_new.isnull().sum()\n",
    "#there are no missing values since we dealt with them."
   ]
  },
  {
   "cell_type": "code",
   "execution_count": 89,
   "id": "ddeed493-bbb1-4b5a-9f49-4dbf2e58ec84",
   "metadata": {},
   "outputs": [
    {
     "data": {
      "image/png": "[encoded data removed]",
      "text/plain": [
       "<Figure size 640x480 with 1 Axes>"
      ]
     },
     "metadata": {},
     "output_type": "display_data"
    }
   ],
   "source": [
    "sns.heatmap(df_new.isnull(),\n",
    "            yticklabels=False,\n",
    "            cbar=False,\n",
    "            cmap='magma')       \n",
    "plt.title(\"missing value\", fontsize = 16);"
   ]
  },
  {
   "cell_type": "markdown",
   "id": "30fffe1a",
   "metadata": {},
   "source": [
    "## 8. Verileri görselleştirme:"
   ]
  },
  {
   "cell_type": "markdown",
   "id": "4a3296fd",
   "metadata": {},
   "source": [
    "#### a. Matplotlib kütüphanesi kullanarak, yıllara göre filmlerin sayısını gösteren bir çizgi grafik çizin."
   ]
  },
  {
   "cell_type": "code",
   "execution_count": 90,
   "id": "e9b8e4f7-36b6-4bc0-bd49-2b78b4549d34",
   "metadata": {},
   "outputs": [
    {
     "data": {
      "text/plain": [
       "2006    19\n",
       "2007    21\n",
       "2008    12\n",
       "2009    20\n",
       "2010    18\n",
       "2011    20\n",
       "2012    20\n",
       "2013    23\n",
       "2014    27\n",
       "2015    20\n",
       "2016    50\n",
       "Name: Year, dtype: int64"
      ]
     },
     "execution_count": 90,
     "metadata": {},
     "output_type": "execute_result"
    }
   ],
   "source": [
    "df_new.Year.value_counts().sort_index()\n",
    "\n",
    "#sort the number of movies according to year"
   ]
  },
  {
   "cell_type": "code",
   "execution_count": 91,
   "id": "0cc47b64-eec1-4a39-a468-1ddc3b30b692",
   "metadata": {},
   "outputs": [],
   "source": [
    "#assign this sorted df to a new df\n",
    "years = df_new['Year'].value_counts().sort_index()\n"
   ]
  },
  {
   "cell_type": "code",
   "execution_count": 92,
   "id": "8411cff2-f71b-400a-8265-339b75a2258c",
   "metadata": {},
   "outputs": [
    {
     "data": {
      "image/png": "[encoded data removed]",
      "text/plain": [
       "<Figure size 800x500 with 1 Axes>"
      ]
     },
     "metadata": {},
     "output_type": "display_data"
    }
   ],
   "source": [
    "# visualization of the number of movies according to years\n",
    "\n",
    "plt.figure(facecolor = \"blue\",figsize = (8,5))\n",
    "plt.plot(years.index, \n",
    "         years.values,\n",
    "         marker = \"o\", \n",
    "         color = \"green\", \n",
    "         linestyle = \"dashed\",\n",
    "         markerfacecolor = \"yellow\")\n",
    "plt.title(\"Number of Top250 Movies by Year\", fontsize = 15)\n",
    "plt.show()\n",
    "\n",
    "#insight1: Except 2008 and 2015, it can be argued that the number of  movies that rank in top250 \n",
    "#gradually increased between 2006 and 2016. there is a clear jump between 2015 and 2016.\n",
    "#After 2015 when the number of top250 movies decreased, \n",
    "#the film sector sector seems to find the way of making high ranking movies. "
   ]
  },
  {
   "cell_type": "markdown",
   "id": "296b0b5f",
   "metadata": {},
   "source": [
    "#### b. Seaborn kütüphanesi kullanarak, en çok film yapılan 10 türü bar grafiğiyle gösterin."
   ]
  },
  {
   "cell_type": "code",
   "execution_count": 94,
   "id": "1614e1b2-2d6d-430b-96d6-f3bcc2f1b25f",
   "metadata": {},
   "outputs": [
    {
     "data": {
      "text/html": [
       "<div>\n",
       "<style scoped>\n",
       "    .dataframe tbody tr th:only-of-type {\n",
       "        vertical-align: middle;\n",
       "    }\n",
       "\n",
       "    .dataframe tbody tr th {\n",
       "        vertical-align: top;\n",
       "    }\n",
       "\n",
       "    .dataframe thead th {\n",
       "        text-align: right;\n",
       "    }\n",
       "</style>\n",
       "<table border=\"1\" class=\"dataframe\">\n",
       "  <thead>\n",
       "    <tr style=\"text-align: right;\">\n",
       "      <th></th>\n",
       "      <th>Rank</th>\n",
       "      <th>Genre</th>\n",
       "      <th>Description</th>\n",
       "      <th>Director</th>\n",
       "      <th>Actors</th>\n",
       "      <th>Year</th>\n",
       "      <th>Runtime_Minutes</th>\n",
       "      <th>Rating</th>\n",
       "      <th>Votes</th>\n",
       "      <th>Revenue_Millions</th>\n",
       "      <th>Metascore</th>\n",
       "    </tr>\n",
       "    <tr>\n",
       "      <th>Title</th>\n",
       "      <th></th>\n",
       "      <th></th>\n",
       "      <th></th>\n",
       "      <th></th>\n",
       "      <th></th>\n",
       "      <th></th>\n",
       "      <th></th>\n",
       "      <th></th>\n",
       "      <th></th>\n",
       "      <th></th>\n",
       "      <th></th>\n",
       "    </tr>\n",
       "  </thead>\n",
       "  <tbody>\n",
       "    <tr>\n",
       "      <th>Guardians of the Galaxy</th>\n",
       "      <td>1</td>\n",
       "      <td>Action,Adventure,Sci-Fi</td>\n",
       "      <td>A group of intergalactic criminals are forced ...</td>\n",
       "      <td>James Gunn</td>\n",
       "      <td>Chris Pratt, Vin Diesel, Bradley Cooper, Zoe S...</td>\n",
       "      <td>2014</td>\n",
       "      <td>121</td>\n",
       "      <td>8.1</td>\n",
       "      <td>757074</td>\n",
       "      <td>333.13</td>\n",
       "      <td>76.0</td>\n",
       "    </tr>\n",
       "    <tr>\n",
       "      <th>Prometheus</th>\n",
       "      <td>2</td>\n",
       "      <td>Adventure,Mystery,Sci-Fi</td>\n",
       "      <td>Following clues to the origin of mankind, a te...</td>\n",
       "      <td>Ridley Scott</td>\n",
       "      <td>Noomi Rapace, Logan Marshall-Green, Michael Fa...</td>\n",
       "      <td>2012</td>\n",
       "      <td>124</td>\n",
       "      <td>7.0</td>\n",
       "      <td>485820</td>\n",
       "      <td>126.46</td>\n",
       "      <td>65.0</td>\n",
       "    </tr>\n",
       "    <tr>\n",
       "      <th>Split</th>\n",
       "      <td>3</td>\n",
       "      <td>Horror,Thriller</td>\n",
       "      <td>Three girls are kidnapped by a man with a diag...</td>\n",
       "      <td>M. Night Shyamalan</td>\n",
       "      <td>James McAvoy, Anya Taylor-Joy, Haley Lu Richar...</td>\n",
       "      <td>2016</td>\n",
       "      <td>117</td>\n",
       "      <td>7.3</td>\n",
       "      <td>157606</td>\n",
       "      <td>138.12</td>\n",
       "      <td>62.0</td>\n",
       "    </tr>\n",
       "  </tbody>\n",
       "</table>\n",
       "</div>"
      ],
      "text/plain": [
       "                         Rank                     Genre  \\\n",
       "Title                                                     \n",
       "Guardians of the Galaxy     1   Action,Adventure,Sci-Fi   \n",
       "Prometheus                  2  Adventure,Mystery,Sci-Fi   \n",
       "Split                       3           Horror,Thriller   \n",
       "\n",
       "                                                               Description  \\\n",
       "Title                                                                        \n",
       "Guardians of the Galaxy  A group of intergalactic criminals are forced ...   \n",
       "Prometheus               Following clues to the origin of mankind, a te...   \n",
       "Split                    Three girls are kidnapped by a man with a diag...   \n",
       "\n",
       "                                   Director  \\\n",
       "Title                                         \n",
       "Guardians of the Galaxy          James Gunn   \n",
       "Prometheus                     Ridley Scott   \n",
       "Split                    M. Night Shyamalan   \n",
       "\n",
       "                                                                    Actors  \\\n",
       "Title                                                                        \n",
       "Guardians of the Galaxy  Chris Pratt, Vin Diesel, Bradley Cooper, Zoe S...   \n",
       "Prometheus               Noomi Rapace, Logan Marshall-Green, Michael Fa...   \n",
       "Split                    James McAvoy, Anya Taylor-Joy, Haley Lu Richar...   \n",
       "\n",
       "                         Year  Runtime_Minutes  Rating   Votes  \\\n",
       "Title                                                            \n",
       "Guardians of the Galaxy  2014              121     8.1  757074   \n",
       "Prometheus               2012              124     7.0  485820   \n",
       "Split                    2016              117     7.3  157606   \n",
       "\n",
       "                         Revenue_Millions  Metascore  \n",
       "Title                                                 \n",
       "Guardians of the Galaxy            333.13       76.0  \n",
       "Prometheus                         126.46       65.0  \n",
       "Split                              138.12       62.0  "
      ]
     },
     "execution_count": 94,
     "metadata": {},
     "output_type": "execute_result"
    }
   ],
   "source": [
    "df.head(3)"
   ]
  },
  {
   "cell_type": "code",
   "execution_count": 95,
   "id": "4c688ddd-411b-4ffa-b3e9-c7858dbb7cb4",
   "metadata": {},
   "outputs": [],
   "source": [
    "# separates movie genres by comma\n",
    "genres = df_new['Genre'].str.split(',')"
   ]
  },
  {
   "cell_type": "code",
   "execution_count": 96,
   "id": "d7347828-24e2-4d69-8850-acf2d8da73ae",
   "metadata": {},
   "outputs": [],
   "source": [
    "# explode method puts each genres on separate rows  #explode\n",
    "genres = genres.explode()"
   ]
  },
  {
   "cell_type": "code",
   "execution_count": 98,
   "id": "1aa7b287-728d-459b-8169-db697fd70796",
   "metadata": {},
   "outputs": [
    {
     "data": {
      "text/plain": [
       "Title\n",
       "The Dark Knight       Action\n",
       "The Dark Knight        Crime\n",
       "The Dark Knight        Drama\n",
       "Inception             Action\n",
       "Inception          Adventure\n",
       "                     ...    \n",
       "Silence            Adventure\n",
       "Silence                Drama\n",
       "Silence              History\n",
       "The Fountain           Drama\n",
       "The Fountain          Sci-Fi\n",
       "Name: Genre, Length: 666, dtype: object"
      ]
     },
     "execution_count": 98,
     "metadata": {},
     "output_type": "execute_result"
    }
   ],
   "source": [
    "genres\n",
    "# if a movie has 3 categories for example, there will 3 rows for that movie"
   ]
  },
  {
   "cell_type": "code",
   "execution_count": 100,
   "id": "e6911571-5ff7-4bb5-989a-357757a1f78d",
   "metadata": {},
   "outputs": [
    {
     "data": {
      "text/plain": [
       "(666,)"
      ]
     },
     "execution_count": 100,
     "metadata": {},
     "output_type": "execute_result"
    }
   ],
   "source": [
    "genres.shape \n",
    "#new df exploded with the movie categories has 666 rows"
   ]
  },
  {
   "cell_type": "code",
   "execution_count": 101,
   "id": "6f4b362e-599d-4573-a005-d0c60f53f11d",
   "metadata": {},
   "outputs": [
    {
     "data": {
      "text/plain": [
       "Drama        175\n",
       "Adventure     72\n",
       "Comedy        58\n",
       "Action        54\n",
       "Thriller      40\n",
       "Crime         37\n",
       "Biography     36\n",
       "Sci-Fi        29\n",
       "Mystery       29\n",
       "Fantasy       27\n",
       "Name: Genre, dtype: int64"
      ]
     },
     "execution_count": 101,
     "metadata": {},
     "output_type": "execute_result"
    }
   ],
   "source": [
    "# top 10 most movie genres\n",
    "genres.value_counts().head(10)"
   ]
  },
  {
   "cell_type": "code",
   "execution_count": 107,
   "id": "99493fac-ca51-462b-90f6-20b2f2a70b06",
   "metadata": {},
   "outputs": [
    {
     "data": {
      "image/png": "[encoded data removed]",
      "text/plain": [
       "<Figure size 1400x800 with 1 Axes>"
      ]
     },
     "metadata": {},
     "output_type": "display_data"
    }
   ],
   "source": [
    "plt.figure(facecolor = \"blue\",figsize = (14, 8))\n",
    "ax= sns.barplot(y = genres.value_counts().head(10).index, x = genres.value_counts().head(10).values)\n",
    "#first we should set the figure and barplot part.\n",
    "\n",
    "ax.set(xlabel='Number of Movies',ylabel='Genre', title='Top 10 Movie Genres')\n",
    "ax.set_facecolor(\"xkcd:light green\")\n",
    "ax.bar_label(ax.containers[0])\n",
    "#second we can arange the labels, titles, colors)\n",
    "\n",
    "plt.tick_params(axis = 'y',labelsize = 8)\n",
    "plt.tick_params(axis = 'x',labelsize = 8)\n",
    "\n",
    "\n",
    "plt.show()\n",
    "\n",
    "# Insight2: Based on the analysis of the top 10 movie genres, \n",
    "#it can be inferred that Drama genres exhibit the highest level of attraction among viewers.\n",
    "#Because it has the highest number of movies.\n",
    "#Following behind Drama genres is the Adventure genre. \n",
    "#However, the number of movies categorized under Drama is more than double \n",
    "#the number of movies in the Adventure genre. \n",
    "#Interestingly, my personal favorite genre, Crime, \n",
    "#is ranked at the 6th position in terms of the number of movies produced within this genre."
   ]
  },
  {
   "cell_type": "markdown",
   "id": "6521c319",
   "metadata": {},
   "source": [
    "#### c. Matplotlib ve Plotly kütüphanesi kullanarak, film türlerine göre filmlerin sayısını gösteren iki ayrı pasta grafik çizin."
   ]
  },
  {
   "cell_type": "code",
   "execution_count": 106,
   "id": "bdab60a5-dda8-4089-a039-fad5553133e2",
   "metadata": {},
   "outputs": [
    {
     "data": {
      "text/plain": [
       "Drama        175\n",
       "Adventure     72\n",
       "Comedy        58\n",
       "Action        54\n",
       "Thriller      40\n",
       "Crime         37\n",
       "Biography     36\n",
       "Sci-Fi        29\n",
       "Mystery       29\n",
       "Fantasy       27\n",
       "Romance       26\n",
       "Animation     23\n",
       "History       15\n",
       "Family        11\n",
       "Horror         8\n",
       "War            7\n",
       "Sport          7\n",
       "Music          7\n",
       "Musical        3\n",
       "Western        2\n",
       "Name: Genre, dtype: int64"
      ]
     },
     "execution_count": 106,
     "metadata": {},
     "output_type": "execute_result"
    }
   ],
   "source": [
    "genres.value_counts()"
   ]
  },
  {
   "cell_type": "code",
   "execution_count": 116,
   "id": "29ae7f00-771b-4e81-bb76-6eab8870e9b6",
   "metadata": {},
   "outputs": [
    {
     "data": {
      "image/png": "[encoded data removed]",
      "text/plain": [
       "<Figure size 1000x1000 with 1 Axes>"
      ]
     },
     "metadata": {},
     "output_type": "display_data"
    }
   ],
   "source": [
    "# matplotlib\n",
    "\n",
    "plt.figure(figsize=(10,10))\n",
    "\n",
    "plt.pie(x=genres.value_counts().values, labels=genres.value_counts().index, autopct='%1.3f%%')\n",
    "\n",
    "sns.set_style(\"ticks\")\n",
    "sns.color_palette(\"bright\")\n",
    "\n",
    "plt.title(\"Share of Movies by Movie Genre\")\n",
    "plt.show()"
   ]
  },
  {
   "cell_type": "code",
   "execution_count": 112,
   "id": "8d14df96-eb3d-421c-beac-1a1d52571929",
   "metadata": {},
   "outputs": [],
   "source": [
    "import plotly.express as px"
   ]
  },
  {
   "cell_type": "code",
   "execution_count": 117,
   "id": "e8c877c5-94af-474a-aaee-fc782b12716e",
   "metadata": {},
   "outputs": [
    {
     "data": {
      "application/vnd.plotly.v1+json": {
       "config": {
        "plotlyServerURL": "https://plot.ly"
       },
       "data": [
        {
         "domain": {
          "x": [
           0,
           1
          ],
          "y": [
           0,
           1
          ]
         },
         "hovertemplate": "label=%{label}<br>value=%{value}<extra></extra>",
         "labels": [
          "Drama",
          "Adventure",
          "Comedy",
          "Action",
          "Thriller",
          "Crime",
          "Biography",
          "Sci-Fi",
          "Mystery",
          "Fantasy",
          "Romance",
          "Animation",
          "History",
          "Family",
          "Horror",
          "War",
          "Sport",
          "Music",
          "Musical",
          "Western"
         ],
         "legendgroup": "",
         "name": "",
         "showlegend": true,
         "type": "pie",
         "values": [
          175,
          72,
          58,
          54,
          40,
          37,
          36,
          29,
          29,
          27,
          26,
          23,
          15,
          11,
          8,
          7,
          7,
          7,
          3,
          2
         ]
        }
       ],
       "layout": {
        "height": 800,
        "legend": {
         "tracegroupgap": 0,
         "x": 1.3,
         "y": 0.7
        },
        "template": {
         "data": {
          "bar": [
           {
            "error_x": {
             "color": "#2a3f5f"
            },
            "error_y": {
             "color": "#2a3f5f"
            },
            "marker": {
             "line": {
              "color": "#E5ECF6",
              "width": 0.5
             },
             "pattern": {
              "fillmode": "overlay",
              "size": 10,
              "solidity": 0.2
             }
            },
            "type": "bar"
           }
          ],
          "barpolar": [
           {
            "marker": {
             "line": {
              "color": "#E5ECF6",
              "width": 0.5
             },
             "pattern": {
              "fillmode": "overlay",
              "size": 10,
              "solidity": 0.2
             }
            },
            "type": "barpolar"
           }
          ],
          "carpet": [
           {
            "aaxis": {
             "endlinecolor": "#2a3f5f",
             "gridcolor": "white",
             "linecolor": "white",
             "minorgridcolor": "white",
             "startlinecolor": "#2a3f5f"
            },
            "baxis": {
             "endlinecolor": "#2a3f5f",
             "gridcolor": "white",
             "linecolor": "white",
             "minorgridcolor": "white",
             "startlinecolor": "#2a3f5f"
            },
            "type": "carpet"
           }
          ],
          "choropleth": [
           {
            "colorbar": {
             "outlinewidth": 0,
             "ticks": ""
            },
            "type": "choropleth"
           }
          ],
          "contour": [
           {
            "colorbar": {
             "outlinewidth": 0,
             "ticks": ""
            },
            "colorscale": [
             [
              0,
              "#0d0887"
             ],
             [
              0.1111111111111111,
              "#46039f"
             ],
             [
              0.2222222222222222,
              "#7201a8"
             ],
             [
              0.3333333333333333,
              "#9c179e"
             ],
             [
              0.4444444444444444,
              "#bd3786"
             ],
             [
              0.5555555555555556,
              "#d8576b"
             ],
             [
              0.6666666666666666,
              "#ed7953"
             ],
             [
              0.7777777777777778,
              "#fb9f3a"
             ],
             [
              0.8888888888888888,
              "#fdca26"
             ],
             [
              1,
              "#f0f921"
             ]
            ],
            "type": "contour"
           }
          ],
          "contourcarpet": [
           {
            "colorbar": {
             "outlinewidth": 0,
             "ticks": ""
            },
            "type": "contourcarpet"
           }
          ],
          "heatmap": [
           {
            "colorbar": {
             "outlinewidth": 0,
             "ticks": ""
            },
            "colorscale": [
             [
              0,
              "#0d0887"
             ],
             [
              0.1111111111111111,
              "#46039f"
             ],
             [
              0.2222222222222222,
              "#7201a8"
             ],
             [
              0.3333333333333333,
              "#9c179e"
             ],
             [
              0.4444444444444444,
              "#bd3786"
             ],
             [
              0.5555555555555556,
              "#d8576b"
             ],
             [
              0.6666666666666666,
              "#ed7953"
             ],
             [
              0.7777777777777778,
              "#fb9f3a"
             ],
             [
              0.8888888888888888,
              "#fdca26"
             ],
             [
              1,
              "#f0f921"
             ]
            ],
            "type": "heatmap"
           }
          ],
          "heatmapgl": [
           {
            "colorbar": {
             "outlinewidth": 0,
             "ticks": ""
            },
            "colorscale": [
             [
              0,
              "#0d0887"
             ],
             [
              0.1111111111111111,
              "#46039f"
             ],
             [
              0.2222222222222222,
              "#7201a8"
             ],
             [
              0.3333333333333333,
              "#9c179e"
             ],
             [
              0.4444444444444444,
              "#bd3786"
             ],
             [
              0.5555555555555556,
              "#d8576b"
             ],
             [
              0.6666666666666666,
              "#ed7953"
             ],
             [
              0.7777777777777778,
              "#fb9f3a"
             ],
             [
              0.8888888888888888,
              "#fdca26"
             ],
             [
              1,
              "#f0f921"
             ]
            ],
            "type": "heatmapgl"
           }
          ],
          "histogram": [
           {
            "marker": {
             "pattern": {
              "fillmode": "overlay",
              "size": 10,
              "solidity": 0.2
             }
            },
            "type": "histogram"
           }
          ],
          "histogram2d": [
           {
            "colorbar": {
             "outlinewidth": 0,
             "ticks": ""
            },
            "colorscale": [
             [
              0,
              "#0d0887"
             ],
             [
              0.1111111111111111,
              "#46039f"
             ],
             [
              0.2222222222222222,
              "#7201a8"
             ],
             [
              0.3333333333333333,
              "#9c179e"
             ],
             [
              0.4444444444444444,
              "#bd3786"
             ],
             [
              0.5555555555555556,
              "#d8576b"
             ],
             [
              0.6666666666666666,
              "#ed7953"
             ],
             [
              0.7777777777777778,
              "#fb9f3a"
             ],
             [
              0.8888888888888888,
              "#fdca26"
             ],
             [
              1,
              "#f0f921"
             ]
            ],
            "type": "histogram2d"
           }
          ],
          "histogram2dcontour": [
           {
            "colorbar": {
             "outlinewidth": 0,
             "ticks": ""
            },
            "colorscale": [
             [
              0,
              "#0d0887"
             ],
             [
              0.1111111111111111,
              "#46039f"
             ],
             [
              0.2222222222222222,
              "#7201a8"
             ],
             [
              0.3333333333333333,
              "#9c179e"
             ],
             [
              0.4444444444444444,
              "#bd3786"
             ],
             [
              0.5555555555555556,
              "#d8576b"
             ],
             [
              0.6666666666666666,
              "#ed7953"
             ],
             [
              0.7777777777777778,
              "#fb9f3a"
             ],
             [
              0.8888888888888888,
              "#fdca26"
             ],
             [
              1,
              "#f0f921"
             ]
            ],
            "type": "histogram2dcontour"
           }
          ],
          "mesh3d": [
           {
            "colorbar": {
             "outlinewidth": 0,
             "ticks": ""
            },
            "type": "mesh3d"
           }
          ],
          "parcoords": [
           {
            "line": {
             "colorbar": {
              "outlinewidth": 0,
              "ticks": ""
             }
            },
            "type": "parcoords"
           }
          ],
          "pie": [
           {
            "automargin": true,
            "type": "pie"
           }
          ],
          "scatter": [
           {
            "fillpattern": {
             "fillmode": "overlay",
             "size": 10,
             "solidity": 0.2
            },
            "type": "scatter"
           }
          ],
          "scatter3d": [
           {
            "line": {
             "colorbar": {
              "outlinewidth": 0,
              "ticks": ""
             }
            },
            "marker": {
             "colorbar": {
              "outlinewidth": 0,
              "ticks": ""
             }
            },
            "type": "scatter3d"
           }
          ],
          "scattercarpet": [
           {
            "marker": {
             "colorbar": {
              "outlinewidth": 0,
              "ticks": ""
             }
            },
            "type": "scattercarpet"
           }
          ],
          "scattergeo": [
           {
            "marker": {
             "colorbar": {
              "outlinewidth": 0,
              "ticks": ""
             }
            },
            "type": "scattergeo"
           }
          ],
          "scattergl": [
           {
            "marker": {
             "colorbar": {
              "outlinewidth": 0,
              "ticks": ""
             }
            },
            "type": "scattergl"
           }
          ],
          "scattermapbox": [
           {
            "marker": {
             "colorbar": {
              "outlinewidth": 0,
              "ticks": ""
             }
            },
            "type": "scattermapbox"
           }
          ],
          "scatterpolar": [
           {
            "marker": {
             "colorbar": {
              "outlinewidth": 0,
              "ticks": ""
             }
            },
            "type": "scatterpolar"
           }
          ],
          "scatterpolargl": [
           {
            "marker": {
             "colorbar": {
              "outlinewidth": 0,
              "ticks": ""
             }
            },
            "type": "scatterpolargl"
           }
          ],
          "scatterternary": [
           {
            "marker": {
             "colorbar": {
              "outlinewidth": 0,
              "ticks": ""
             }
            },
            "type": "scatterternary"
           }
          ],
          "surface": [
           {
            "colorbar": {
             "outlinewidth": 0,
             "ticks": ""
            },
            "colorscale": [
             [
              0,
              "#0d0887"
             ],
             [
              0.1111111111111111,
              "#46039f"
             ],
             [
              0.2222222222222222,
              "#7201a8"
             ],
             [
              0.3333333333333333,
              "#9c179e"
             ],
             [
              0.4444444444444444,
              "#bd3786"
             ],
             [
              0.5555555555555556,
              "#d8576b"
             ],
             [
              0.6666666666666666,
              "#ed7953"
             ],
             [
              0.7777777777777778,
              "#fb9f3a"
             ],
             [
              0.8888888888888888,
              "#fdca26"
             ],
             [
              1,
              "#f0f921"
             ]
            ],
            "type": "surface"
           }
          ],
          "table": [
           {
            "cells": {
             "fill": {
              "color": "#EBF0F8"
             },
             "line": {
              "color": "white"
             }
            },
            "header": {
             "fill": {
              "color": "#C8D4E3"
             },
             "line": {
              "color": "white"
             }
            },
            "type": "table"
           }
          ]
         },
         "layout": {
          "annotationdefaults": {
           "arrowcolor": "#2a3f5f",
           "arrowhead": 0,
           "arrowwidth": 1
          },
          "autotypenumbers": "strict",
          "coloraxis": {
           "colorbar": {
            "outlinewidth": 0,
            "ticks": ""
           }
          },
          "colorscale": {
           "diverging": [
            [
             0,
             "#8e0152"
            ],
            [
             0.1,
             "#c51b7d"
            ],
            [
             0.2,
             "#de77ae"
            ],
            [
             0.3,
             "#f1b6da"
            ],
            [
             0.4,
             "#fde0ef"
            ],
            [
             0.5,
             "#f7f7f7"
            ],
            [
             0.6,
             "#e6f5d0"
            ],
            [
             0.7,
             "#b8e186"
            ],
            [
             0.8,
             "#7fbc41"
            ],
            [
             0.9,
             "#4d9221"
            ],
            [
             1,
             "#276419"
            ]
           ],
           "sequential": [
            [
             0,
             "#0d0887"
            ],
            [
             0.1111111111111111,
             "#46039f"
            ],
            [
             0.2222222222222222,
             "#7201a8"
            ],
            [
             0.3333333333333333,
             "#9c179e"
            ],
            [
             0.4444444444444444,
             "#bd3786"
            ],
            [
             0.5555555555555556,
             "#d8576b"
            ],
            [
             0.6666666666666666,
             "#ed7953"
            ],
            [
             0.7777777777777778,
             "#fb9f3a"
            ],
            [
             0.8888888888888888,
             "#fdca26"
            ],
            [
             1,
             "#f0f921"
            ]
           ],
           "sequentialminus": [
            [
             0,
             "#0d0887"
            ],
            [
             0.1111111111111111,
             "#46039f"
            ],
            [
             0.2222222222222222,
             "#7201a8"
            ],
            [
             0.3333333333333333,
             "#9c179e"
            ],
            [
             0.4444444444444444,
             "#bd3786"
            ],
            [
             0.5555555555555556,
             "#d8576b"
            ],
            [
             0.6666666666666666,
             "#ed7953"
            ],
            [
             0.7777777777777778,
             "#fb9f3a"
            ],
            [
             0.8888888888888888,
             "#fdca26"
            ],
            [
             1,
             "#f0f921"
            ]
           ]
          },
          "colorway": [
           "#636efa",
           "#EF553B",
           "#00cc96",
           "#ab63fa",
           "#FFA15A",
           "#19d3f3",
           "#FF6692",
           "#B6E880",
           "#FF97FF",
           "#FECB52"
          ],
          "font": {
           "color": "#2a3f5f"
          },
          "geo": {
           "bgcolor": "white",
           "lakecolor": "white",
           "landcolor": "#E5ECF6",
           "showlakes": true,
           "showland": true,
           "subunitcolor": "white"
          },
          "hoverlabel": {
           "align": "left"
          },
          "hovermode": "closest",
          "mapbox": {
           "style": "light"
          },
          "paper_bgcolor": "white",
          "plot_bgcolor": "#E5ECF6",
          "polar": {
           "angularaxis": {
            "gridcolor": "white",
            "linecolor": "white",
            "ticks": ""
           },
           "bgcolor": "#E5ECF6",
           "radialaxis": {
            "gridcolor": "white",
            "linecolor": "white",
            "ticks": ""
           }
          },
          "scene": {
           "xaxis": {
            "backgroundcolor": "#E5ECF6",
            "gridcolor": "white",
            "gridwidth": 2,
            "linecolor": "white",
            "showbackground": true,
            "ticks": "",
            "zerolinecolor": "white"
           },
           "yaxis": {
            "backgroundcolor": "#E5ECF6",
            "gridcolor": "white",
            "gridwidth": 2,
            "linecolor": "white",
            "showbackground": true,
            "ticks": "",
            "zerolinecolor": "white"
           },
           "zaxis": {
            "backgroundcolor": "#E5ECF6",
            "gridcolor": "white",
            "gridwidth": 2,
            "linecolor": "white",
            "showbackground": true,
            "ticks": "",
            "zerolinecolor": "white"
           }
          },
          "shapedefaults": {
           "line": {
            "color": "#2a3f5f"
           }
          },
          "ternary": {
           "aaxis": {
            "gridcolor": "white",
            "linecolor": "white",
            "ticks": ""
           },
           "baxis": {
            "gridcolor": "white",
            "linecolor": "white",
            "ticks": ""
           },
           "bgcolor": "#E5ECF6",
           "caxis": {
            "gridcolor": "white",
            "linecolor": "white",
            "ticks": ""
           }
          },
          "title": {
           "x": 0.05
          },
          "xaxis": {
           "automargin": true,
           "gridcolor": "white",
           "linecolor": "white",
           "ticks": "",
           "title": {
            "standoff": 15
           },
           "zerolinecolor": "white",
           "zerolinewidth": 2
          },
          "yaxis": {
           "automargin": true,
           "gridcolor": "white",
           "linecolor": "white",
           "ticks": "",
           "title": {
            "standoff": 15
           },
           "zerolinecolor": "white",
           "zerolinewidth": 2
          }
         }
        },
        "title": {
         "text": "Share of Movies by Movie Genre"
        },
        "width": 800
       }
      },
      "image/png": "[encoded data removed]",
      "text/html": [
       "<div>                            <div id=\"fff7c12a-e508-4222-8714-f3eed0302a01\" class=\"plotly-graph-div\" style=\"height:800px; width:800px;\"></div>            <script type=\"text/javascript\">                require([\"plotly\"], function(Plotly) {                    window.PLOTLYENV=window.PLOTLYENV || {};                                    if (document.getElementById(\"fff7c12a-e508-4222-8714-f3eed0302a01\")) {                    Plotly.newPlot(                        \"fff7c12a-e508-4222-8714-f3eed0302a01\",                        [{\"domain\":{\"x\":[0.0,1.0],\"y\":[0.0,1.0]},\"hovertemplate\":\"label=%{label}<br>value=%{value}<extra></extra>\",\"labels\":[\"Drama\",\"Adventure\",\"Comedy\",\"Action\",\"Thriller\",\"Crime\",\"Biography\",\"Sci-Fi\",\"Mystery\",\"Fantasy\",\"Romance\",\"Animation\",\"History\",\"Family\",\"Horror\",\"War\",\"Sport\",\"Music\",\"Musical\",\"Western\"],\"legendgroup\":\"\",\"name\":\"\",\"showlegend\":true,\"values\":[175,72,58,54,40,37,36,29,29,27,26,23,15,11,8,7,7,7,3,2],\"type\":\"pie\"}],                        {\"template\":{\"data\":{\"histogram2dcontour\":[{\"type\":\"histogram2dcontour\",\"colorbar\":{\"outlinewidth\":0,\"ticks\":\"\"},\"colorscale\":[[0.0,\"#0d0887\"],[0.1111111111111111,\"#46039f\"],[0.2222222222222222,\"#7201a8\"],[0.3333333333333333,\"#9c179e\"],[0.4444444444444444,\"#bd3786\"],[0.5555555555555556,\"#d8576b\"],[0.6666666666666666,\"#ed7953\"],[0.7777777777777778,\"#fb9f3a\"],[0.8888888888888888,\"#fdca26\"],[1.0,\"#f0f921\"]]}],\"choropleth\":[{\"type\":\"choropleth\",\"colorbar\":{\"outlinewidth\":0,\"ticks\":\"\"}}],\"histogram2d\":[{\"type\":\"histogram2d\",\"colorbar\":{\"outlinewidth\":0,\"ticks\":\"\"},\"colorscale\":[[0.0,\"#0d0887\"],[0.1111111111111111,\"#46039f\"],[0.2222222222222222,\"#7201a8\"],[0.3333333333333333,\"#9c179e\"],[0.4444444444444444,\"#bd3786\"],[0.5555555555555556,\"#d8576b\"],[0.6666666666666666,\"#ed7953\"],[0.7777777777777778,\"#fb9f3a\"],[0.8888888888888888,\"#fdca26\"],[1.0,\"#f0f921\"]]}],\"heatmap\":[{\"type\":\"heatmap\",\"colorbar\":{\"outlinewidth\":0,\"ticks\":\"\"},\"colorscale\":[[0.0,\"#0d0887\"],[0.1111111111111111,\"#46039f\"],[0.2222222222222222,\"#7201a8\"],[0.3333333333333333,\"#9c179e\"],[0.4444444444444444,\"#bd3786\"],[0.5555555555555556,\"#d8576b\"],[0.6666666666666666,\"#ed7953\"],[0.7777777777777778,\"#fb9f3a\"],[0.8888888888888888,\"#fdca26\"],[1.0,\"#f0f921\"]]}],\"heatmapgl\":[{\"type\":\"heatmapgl\",\"colorbar\":{\"outlinewidth\":0,\"ticks\":\"\"},\"colorscale\":[[0.0,\"#0d0887\"],[0.1111111111111111,\"#46039f\"],[0.2222222222222222,\"#7201a8\"],[0.3333333333333333,\"#9c179e\"],[0.4444444444444444,\"#bd3786\"],[0.5555555555555556,\"#d8576b\"],[0.6666666666666666,\"#ed7953\"],[0.7777777777777778,\"#fb9f3a\"],[0.8888888888888888,\"#fdca26\"],[1.0,\"#f0f921\"]]}],\"contourcarpet\":[{\"type\":\"contourcarpet\",\"colorbar\":{\"outlinewidth\":0,\"ticks\":\"\"}}],\"contour\":[{\"type\":\"contour\",\"colorbar\":{\"outlinewidth\":0,\"ticks\":\"\"},\"colorscale\":[[0.0,\"#0d0887\"],[0.1111111111111111,\"#46039f\"],[0.2222222222222222,\"#7201a8\"],[0.3333333333333333,\"#9c179e\"],[0.4444444444444444,\"#bd3786\"],[0.5555555555555556,\"#d8576b\"],[0.6666666666666666,\"#ed7953\"],[0.7777777777777778,\"#fb9f3a\"],[0.8888888888888888,\"#fdca26\"],[1.0,\"#f0f921\"]]}],\"surface\":[{\"type\":\"surface\",\"colorbar\":{\"outlinewidth\":0,\"ticks\":\"\"},\"colorscale\":[[0.0,\"#0d0887\"],[0.1111111111111111,\"#46039f\"],[0.2222222222222222,\"#7201a8\"],[0.3333333333333333,\"#9c179e\"],[0.4444444444444444,\"#bd3786\"],[0.5555555555555556,\"#d8576b\"],[0.6666666666666666,\"#ed7953\"],[0.7777777777777778,\"#fb9f3a\"],[0.8888888888888888,\"#fdca26\"],[1.0,\"#f0f921\"]]}],\"mesh3d\":[{\"type\":\"mesh3d\",\"colorbar\":{\"outlinewidth\":0,\"ticks\":\"\"}}],\"scatter\":[{\"fillpattern\":{\"fillmode\":\"overlay\",\"size\":10,\"solidity\":0.2},\"type\":\"scatter\"}],\"parcoords\":[{\"type\":\"parcoords\",\"line\":{\"colorbar\":{\"outlinewidth\":0,\"ticks\":\"\"}}}],\"scatterpolargl\":[{\"type\":\"scatterpolargl\",\"marker\":{\"colorbar\":{\"outlinewidth\":0,\"ticks\":\"\"}}}],\"bar\":[{\"error_x\":{\"color\":\"#2a3f5f\"},\"error_y\":{\"color\":\"#2a3f5f\"},\"marker\":{\"line\":{\"color\":\"#E5ECF6\",\"width\":0.5},\"pattern\":{\"fillmode\":\"overlay\",\"size\":10,\"solidity\":0.2}},\"type\":\"bar\"}],\"scattergeo\":[{\"type\":\"scattergeo\",\"marker\":{\"colorbar\":{\"outlinewidth\":0,\"ticks\":\"\"}}}],\"scatterpolar\":[{\"type\":\"scatterpolar\",\"marker\":{\"colorbar\":{\"outlinewidth\":0,\"ticks\":\"\"}}}],\"histogram\":[{\"marker\":{\"pattern\":{\"fillmode\":\"overlay\",\"size\":10,\"solidity\":0.2}},\"type\":\"histogram\"}],\"scattergl\":[{\"type\":\"scattergl\",\"marker\":{\"colorbar\":{\"outlinewidth\":0,\"ticks\":\"\"}}}],\"scatter3d\":[{\"type\":\"scatter3d\",\"line\":{\"colorbar\":{\"outlinewidth\":0,\"ticks\":\"\"}},\"marker\":{\"colorbar\":{\"outlinewidth\":0,\"ticks\":\"\"}}}],\"scattermapbox\":[{\"type\":\"scattermapbox\",\"marker\":{\"colorbar\":{\"outlinewidth\":0,\"ticks\":\"\"}}}],\"scatterternary\":[{\"type\":\"scatterternary\",\"marker\":{\"colorbar\":{\"outlinewidth\":0,\"ticks\":\"\"}}}],\"scattercarpet\":[{\"type\":\"scattercarpet\",\"marker\":{\"colorbar\":{\"outlinewidth\":0,\"ticks\":\"\"}}}],\"carpet\":[{\"aaxis\":{\"endlinecolor\":\"#2a3f5f\",\"gridcolor\":\"white\",\"linecolor\":\"white\",\"minorgridcolor\":\"white\",\"startlinecolor\":\"#2a3f5f\"},\"baxis\":{\"endlinecolor\":\"#2a3f5f\",\"gridcolor\":\"white\",\"linecolor\":\"white\",\"minorgridcolor\":\"white\",\"startlinecolor\":\"#2a3f5f\"},\"type\":\"carpet\"}],\"table\":[{\"cells\":{\"fill\":{\"color\":\"#EBF0F8\"},\"line\":{\"color\":\"white\"}},\"header\":{\"fill\":{\"color\":\"#C8D4E3\"},\"line\":{\"color\":\"white\"}},\"type\":\"table\"}],\"barpolar\":[{\"marker\":{\"line\":{\"color\":\"#E5ECF6\",\"width\":0.5},\"pattern\":{\"fillmode\":\"overlay\",\"size\":10,\"solidity\":0.2}},\"type\":\"barpolar\"}],\"pie\":[{\"automargin\":true,\"type\":\"pie\"}]},\"layout\":{\"autotypenumbers\":\"strict\",\"colorway\":[\"#636efa\",\"#EF553B\",\"#00cc96\",\"#ab63fa\",\"#FFA15A\",\"#19d3f3\",\"#FF6692\",\"#B6E880\",\"#FF97FF\",\"#FECB52\"],\"font\":{\"color\":\"#2a3f5f\"},\"hovermode\":\"closest\",\"hoverlabel\":{\"align\":\"left\"},\"paper_bgcolor\":\"white\",\"plot_bgcolor\":\"#E5ECF6\",\"polar\":{\"bgcolor\":\"#E5ECF6\",\"angularaxis\":{\"gridcolor\":\"white\",\"linecolor\":\"white\",\"ticks\":\"\"},\"radialaxis\":{\"gridcolor\":\"white\",\"linecolor\":\"white\",\"ticks\":\"\"}},\"ternary\":{\"bgcolor\":\"#E5ECF6\",\"aaxis\":{\"gridcolor\":\"white\",\"linecolor\":\"white\",\"ticks\":\"\"},\"baxis\":{\"gridcolor\":\"white\",\"linecolor\":\"white\",\"ticks\":\"\"},\"caxis\":{\"gridcolor\":\"white\",\"linecolor\":\"white\",\"ticks\":\"\"}},\"coloraxis\":{\"colorbar\":{\"outlinewidth\":0,\"ticks\":\"\"}},\"colorscale\":{\"sequential\":[[0.0,\"#0d0887\"],[0.1111111111111111,\"#46039f\"],[0.2222222222222222,\"#7201a8\"],[0.3333333333333333,\"#9c179e\"],[0.4444444444444444,\"#bd3786\"],[0.5555555555555556,\"#d8576b\"],[0.6666666666666666,\"#ed7953\"],[0.7777777777777778,\"#fb9f3a\"],[0.8888888888888888,\"#fdca26\"],[1.0,\"#f0f921\"]],\"sequentialminus\":[[0.0,\"#0d0887\"],[0.1111111111111111,\"#46039f\"],[0.2222222222222222,\"#7201a8\"],[0.3333333333333333,\"#9c179e\"],[0.4444444444444444,\"#bd3786\"],[0.5555555555555556,\"#d8576b\"],[0.6666666666666666,\"#ed7953\"],[0.7777777777777778,\"#fb9f3a\"],[0.8888888888888888,\"#fdca26\"],[1.0,\"#f0f921\"]],\"diverging\":[[0,\"#8e0152\"],[0.1,\"#c51b7d\"],[0.2,\"#de77ae\"],[0.3,\"#f1b6da\"],[0.4,\"#fde0ef\"],[0.5,\"#f7f7f7\"],[0.6,\"#e6f5d0\"],[0.7,\"#b8e186\"],[0.8,\"#7fbc41\"],[0.9,\"#4d9221\"],[1,\"#276419\"]]},\"xaxis\":{\"gridcolor\":\"white\",\"linecolor\":\"white\",\"ticks\":\"\",\"title\":{\"standoff\":15},\"zerolinecolor\":\"white\",\"automargin\":true,\"zerolinewidth\":2},\"yaxis\":{\"gridcolor\":\"white\",\"linecolor\":\"white\",\"ticks\":\"\",\"title\":{\"standoff\":15},\"zerolinecolor\":\"white\",\"automargin\":true,\"zerolinewidth\":2},\"scene\":{\"xaxis\":{\"backgroundcolor\":\"#E5ECF6\",\"gridcolor\":\"white\",\"linecolor\":\"white\",\"showbackground\":true,\"ticks\":\"\",\"zerolinecolor\":\"white\",\"gridwidth\":2},\"yaxis\":{\"backgroundcolor\":\"#E5ECF6\",\"gridcolor\":\"white\",\"linecolor\":\"white\",\"showbackground\":true,\"ticks\":\"\",\"zerolinecolor\":\"white\",\"gridwidth\":2},\"zaxis\":{\"backgroundcolor\":\"#E5ECF6\",\"gridcolor\":\"white\",\"linecolor\":\"white\",\"showbackground\":true,\"ticks\":\"\",\"zerolinecolor\":\"white\",\"gridwidth\":2}},\"shapedefaults\":{\"line\":{\"color\":\"#2a3f5f\"}},\"annotationdefaults\":{\"arrowcolor\":\"#2a3f5f\",\"arrowhead\":0,\"arrowwidth\":1},\"geo\":{\"bgcolor\":\"white\",\"landcolor\":\"#E5ECF6\",\"subunitcolor\":\"white\",\"showland\":true,\"showlakes\":true,\"lakecolor\":\"white\"},\"title\":{\"x\":0.05},\"mapbox\":{\"style\":\"light\"}}},\"legend\":{\"tracegroupgap\":0,\"x\":1.3,\"y\":0.7},\"title\":{\"text\":\"Share of Movies by Movie Genre\"},\"height\":800,\"width\":800},                        {\"responsive\": true}                    ).then(function(){\n",
       "                            \n",
       "var gd = document.getElementById('fff7c12a-e508-4222-8714-f3eed0302a01');\n",
       "var x = new MutationObserver(function (mutations, observer) {{\n",
       "        var display = window.getComputedStyle(gd).display;\n",
       "        if (!display || display === 'none') {{\n",
       "            console.log([gd, 'removed!']);\n",
       "            Plotly.purge(gd);\n",
       "            observer.disconnect();\n",
       "        }}\n",
       "}});\n",
       "\n",
       "// Listen for the removal of the full notebook cells\n",
       "var notebookContainer = gd.closest('#notebook-container');\n",
       "if (notebookContainer) {{\n",
       "    x.observe(notebookContainer, {childList: true});\n",
       "}}\n",
       "\n",
       "// Listen for the clearing of the current output cell\n",
       "var outputEl = gd.closest('.output');\n",
       "if (outputEl) {{\n",
       "    x.observe(outputEl, {childList: true});\n",
       "}}\n",
       "\n",
       "                        })                };                });            </script>        </div>"
      ]
     },
     "metadata": {},
     "output_type": "display_data"
    }
   ],
   "source": [
    "# plotly\n",
    "\n",
    "fig = px.pie(names=genres.value_counts().index, values=genres.value_counts().values, title=\"Share of Movies by Movie Genre\")\n",
    "fig.update_layout(height=800, width=800, legend=dict(x = 1.3, y = 0.7))\n",
    "fig.show()"
   ]
  },
  {
   "cell_type": "markdown",
   "id": "99fa29fc",
   "metadata": {},
   "source": [
    "## 9. İlişkileri görselleştirme"
   ]
  },
  {
   "cell_type": "markdown",
   "id": "999d70b6",
   "metadata": {},
   "source": [
    "#### a. Seaborn kütüphanesi kullanarak, veri setindeki nümerik değişkenlerin korelasyonunu gösteren bir heatmap çizin."
   ]
  },
  {
   "cell_type": "code",
   "execution_count": 118,
   "id": "c417b608-5543-4e65-b76a-34e45945dc56",
   "metadata": {},
   "outputs": [
    {
     "data": {
      "text/html": [
       "<div>\n",
       "<style scoped>\n",
       "    .dataframe tbody tr th:only-of-type {\n",
       "        vertical-align: middle;\n",
       "    }\n",
       "\n",
       "    .dataframe tbody tr th {\n",
       "        vertical-align: top;\n",
       "    }\n",
       "\n",
       "    .dataframe thead th {\n",
       "        text-align: right;\n",
       "    }\n",
       "</style>\n",
       "<table border=\"1\" class=\"dataframe\">\n",
       "  <thead>\n",
       "    <tr style=\"text-align: right;\">\n",
       "      <th></th>\n",
       "      <th>Rank</th>\n",
       "      <th>Year</th>\n",
       "      <th>Runtime_Minutes</th>\n",
       "      <th>Rating</th>\n",
       "      <th>Votes</th>\n",
       "      <th>Revenue_Millions</th>\n",
       "      <th>Metascore</th>\n",
       "    </tr>\n",
       "  </thead>\n",
       "  <tbody>\n",
       "    <tr>\n",
       "      <th>Rank</th>\n",
       "      <td>1.000000</td>\n",
       "      <td>-0.360917</td>\n",
       "      <td>-0.189417</td>\n",
       "      <td>-0.252198</td>\n",
       "      <td>-0.365428</td>\n",
       "      <td>-0.320136</td>\n",
       "      <td>-0.180105</td>\n",
       "    </tr>\n",
       "    <tr>\n",
       "      <th>Year</th>\n",
       "      <td>-0.360917</td>\n",
       "      <td>1.000000</td>\n",
       "      <td>-0.037553</td>\n",
       "      <td>-0.108597</td>\n",
       "      <td>-0.294022</td>\n",
       "      <td>0.037926</td>\n",
       "      <td>0.115215</td>\n",
       "    </tr>\n",
       "    <tr>\n",
       "      <th>Runtime_Minutes</th>\n",
       "      <td>-0.189417</td>\n",
       "      <td>-0.037553</td>\n",
       "      <td>1.000000</td>\n",
       "      <td>0.194048</td>\n",
       "      <td>0.256681</td>\n",
       "      <td>0.133451</td>\n",
       "      <td>-0.059438</td>\n",
       "    </tr>\n",
       "    <tr>\n",
       "      <th>Rating</th>\n",
       "      <td>-0.252198</td>\n",
       "      <td>-0.108597</td>\n",
       "      <td>0.194048</td>\n",
       "      <td>1.000000</td>\n",
       "      <td>0.559282</td>\n",
       "      <td>0.174487</td>\n",
       "      <td>0.248263</td>\n",
       "    </tr>\n",
       "    <tr>\n",
       "      <th>Votes</th>\n",
       "      <td>-0.365428</td>\n",
       "      <td>-0.294022</td>\n",
       "      <td>0.256681</td>\n",
       "      <td>0.559282</td>\n",
       "      <td>1.000000</td>\n",
       "      <td>0.575264</td>\n",
       "      <td>0.143299</td>\n",
       "    </tr>\n",
       "    <tr>\n",
       "      <th>Revenue_Millions</th>\n",
       "      <td>-0.320136</td>\n",
       "      <td>0.037926</td>\n",
       "      <td>0.133451</td>\n",
       "      <td>0.174487</td>\n",
       "      <td>0.575264</td>\n",
       "      <td>1.000000</td>\n",
       "      <td>0.072083</td>\n",
       "    </tr>\n",
       "    <tr>\n",
       "      <th>Metascore</th>\n",
       "      <td>-0.180105</td>\n",
       "      <td>0.115215</td>\n",
       "      <td>-0.059438</td>\n",
       "      <td>0.248263</td>\n",
       "      <td>0.143299</td>\n",
       "      <td>0.072083</td>\n",
       "      <td>1.000000</td>\n",
       "    </tr>\n",
       "  </tbody>\n",
       "</table>\n",
       "</div>"
      ],
      "text/plain": [
       "                      Rank      Year  Runtime_Minutes    Rating     Votes  \\\n",
       "Rank              1.000000 -0.360917        -0.189417 -0.252198 -0.365428   \n",
       "Year             -0.360917  1.000000        -0.037553 -0.108597 -0.294022   \n",
       "Runtime_Minutes  -0.189417 -0.037553         1.000000  0.194048  0.256681   \n",
       "Rating           -0.252198 -0.108597         0.194048  1.000000  0.559282   \n",
       "Votes            -0.365428 -0.294022         0.256681  0.559282  1.000000   \n",
       "Revenue_Millions -0.320136  0.037926         0.133451  0.174487  0.575264   \n",
       "Metascore        -0.180105  0.115215        -0.059438  0.248263  0.143299   \n",
       "\n",
       "                  Revenue_Millions  Metascore  \n",
       "Rank                     -0.320136  -0.180105  \n",
       "Year                      0.037926   0.115215  \n",
       "Runtime_Minutes           0.133451  -0.059438  \n",
       "Rating                    0.174487   0.248263  \n",
       "Votes                     0.575264   0.143299  \n",
       "Revenue_Millions          1.000000   0.072083  \n",
       "Metascore                 0.072083   1.000000  "
      ]
     },
     "execution_count": 118,
     "metadata": {},
     "output_type": "execute_result"
    }
   ],
   "source": [
    "df_new.corr()"
   ]
  },
  {
   "cell_type": "code",
   "execution_count": 119,
   "id": "7717a544-62c2-49e3-ba95-a2dc08c74dc1",
   "metadata": {},
   "outputs": [
    {
     "data": {
      "text/plain": [
       "<AxesSubplot:>"
      ]
     },
     "execution_count": 119,
     "metadata": {},
     "output_type": "execute_result"
    },
    {
     "data": {
      "image/png": "[encoded data removed]",
      "text/plain": [
       "<Figure size 640x480 with 2 Axes>"
      ]
     },
     "metadata": {},
     "output_type": "display_data"
    }
   ],
   "source": [
    "sns.heatmap(df_new.corr(), annot = True, cmap=\"magma\")\n",
    "\n",
    "#Insight3: \n",
    "#Based on the analysis, there is a relatively strong and positive correlation \n",
    "#observed between movie ratings and the number of votes they receive. \n",
    "#However, it is important to note that correlation does not provide information\n",
    "#about the direction of causality.\n",
    "#Nevertheless, based on the results, it can be inferred that highly ranked movies \n",
    "#tend to receive more votes, \n",
    "#indicating that they are likely watched by a larger audience.\n",
    "#relatively high relation between the ranking and the votes supports this argument"
   ]
  },
  {
   "cell_type": "markdown",
   "id": "5b40f399",
   "metadata": {},
   "source": [
    "#### b. Seaborn ile oyunculardan birden fazla filmde rol alan oyuncuların rol aldıkları film sayılarına göre ilk 20 oyucuyu görselleştir.  \n",
    "\n",
    "#### Not: Bu soru için kullanılacak data setimiz 936 satırlık data seti olacak."
   ]
  },
  {
   "cell_type": "code",
   "execution_count": 121,
   "id": "7007477f-5216-49fd-9319-edf2bc7ed521",
   "metadata": {},
   "outputs": [],
   "source": [
    "# separate movie genres by comma #split\n",
    "actors = df_new['Actors'].str.split(',')"
   ]
  },
  {
   "cell_type": "code",
   "execution_count": 122,
   "id": "01eb660d-f4f8-4fc5-9913-61cc3b327e6d",
   "metadata": {},
   "outputs": [],
   "source": [
    "# remove spaces around the name #strip\n",
    "actors = actors.apply(lambda x: [i.strip() for i in x])  "
   ]
  },
  {
   "cell_type": "code",
   "execution_count": 127,
   "id": "52fb05bf-3c25-4d95-9bfc-754c929d8c53",
   "metadata": {},
   "outputs": [
    {
     "data": {
      "text/plain": [
       "Title\n",
       "The Dark Knight         Christian Bale\n",
       "The Dark Knight           Heath Ledger\n",
       "The Dark Knight          Aaron Eckhart\n",
       "The Dark Knight          Michael Caine\n",
       "Inception            Leonardo DiCaprio\n",
       "                          ...         \n",
       "Silence                 Tadanobu Asano\n",
       "The Fountain              Hugh Jackman\n",
       "The Fountain              Rachel Weisz\n",
       "The Fountain       Sean Patrick Thomas\n",
       "The Fountain             Ellen Burstyn\n",
       "Name: Actors, Length: 1000, dtype: object"
      ]
     },
     "execution_count": 127,
     "metadata": {},
     "output_type": "execute_result"
    }
   ],
   "source": [
    "# explode method puts each actors on separate rows #explode\n",
    "actors = actors.explode()\n",
    "actors\n"
   ]
  },
  {
   "cell_type": "code",
   "execution_count": 124,
   "id": "2eafb991-8bcb-4b94-836e-8123fcc97cbf",
   "metadata": {},
   "outputs": [
    {
     "data": {
      "text/plain": [
       "Leonardo DiCaprio       8\n",
       "Brad Pitt               8\n",
       "Robert Downey Jr.       8\n",
       "Christian Bale          7\n",
       "Jake Gyllenhaal         7\n",
       "Rachel McAdams          7\n",
       "Ryan Gosling            7\n",
       "Jeremy Renner           6\n",
       "Tom Hanks               6\n",
       "Bradley Cooper          6\n",
       "Hugh Jackman            6\n",
       "Mark Ruffalo            5\n",
       "Joseph Gordon-Levitt    5\n",
       "Scarlett Johansson      5\n",
       "Steve Carell            5\n",
       "Amy Adams               5\n",
       "Michael Caine           5\n",
       "Domhnall Gleeson        5\n",
       "Ian McKellen            5\n",
       "Emma Watson             5\n",
       "Name: Actors, dtype: int64"
      ]
     },
     "execution_count": 124,
     "metadata": {},
     "output_type": "execute_result"
    }
   ],
   "source": [
    "# Top 20 actors according to the number of movies they cast\n",
    "actors.value_counts().head(20)"
   ]
  },
  {
   "cell_type": "code",
   "execution_count": 128,
   "id": "1906d4f2-dea2-43e1-b797-3ed286629573",
   "metadata": {},
   "outputs": [
    {
     "data": {
      "text/plain": [
       "Index(['Leonardo DiCaprio', 'Brad Pitt', 'Robert Downey Jr.', 'Christian Bale',\n",
       "       'Jake Gyllenhaal', 'Rachel McAdams', 'Ryan Gosling', 'Jeremy Renner',\n",
       "       'Tom Hanks', 'Bradley Cooper', 'Hugh Jackman', 'Mark Ruffalo',\n",
       "       'Joseph Gordon-Levitt', 'Scarlett Johansson', 'Steve Carell',\n",
       "       'Amy Adams', 'Michael Caine', 'Domhnall Gleeson', 'Ian McKellen',\n",
       "       'Emma Watson'],\n",
       "      dtype='object')"
      ]
     },
     "execution_count": 128,
     "metadata": {},
     "output_type": "execute_result"
    }
   ],
   "source": [
    "actors.value_counts().head(20).index"
   ]
  },
  {
   "cell_type": "code",
   "execution_count": 130,
   "id": "bf0a5764-1341-4586-9663-575837e5a927",
   "metadata": {},
   "outputs": [
    {
     "data": {
      "text/plain": [
       "array([8, 8, 8, 7, 7, 7, 7, 6, 6, 6, 6, 5, 5, 5, 5, 5, 5, 5, 5, 5])"
      ]
     },
     "execution_count": 130,
     "metadata": {},
     "output_type": "execute_result"
    }
   ],
   "source": [
    "actors.value_counts().head(20).values"
   ]
  },
  {
   "cell_type": "code",
   "execution_count": 132,
   "id": "01805ae9-d017-4d52-bf62-a826baf4a414",
   "metadata": {},
   "outputs": [
    {
     "data": {
      "image/png": "[encoded data removed]",
      "text/plain": [
       "<Figure size 1300x700 with 1 Axes>"
      ]
     },
     "metadata": {},
     "output_type": "display_data"
    }
   ],
   "source": [
    "plt.figure(facecolor = \"yellow\",figsize = (13, 7))\n",
    "ax= sns.barplot(y = actors.value_counts().head(20).index, x = actors.value_counts().head(20).values)\n",
    "\n",
    "ax.set(xlabel='Number of Movies Casted',ylabel='Actors', title=\"Top 20 Actors by Number of Movies\")\n",
    "ax.set_facecolor(\"xkcd:light green\")\n",
    "ax.bar_label(ax.containers[0])\n",
    "\n",
    "plt.show()\n",
    "\n",
    "#Insight4: Actors such as Leonardo DiCaprio, Brad Pitt, and Robert Downey Jr. \n",
    "#have appeared in 8 movies that are ranked in the top 250 category. \n",
    "#These actors have consistently been involved in high-ranking films.\n",
    "#However, without conducting a specific analysis of the ratings based on actors, \n",
    "#it is difficult to make a definitive claim about producers' preferences \n",
    "#for working with high-ranking actors. \n",
    "#However, based on the data provided, \n",
    "#it can be inferred that these actors, \n",
    "#with an average rating of more than 7, have more opportunities to be cast in movies. \n",
    "#This suggests that their performances are well-received by audiences, \n",
    "#potentially making them attractive choices for filmmakers.\n",
    "\n",
    "\n",
    "\n",
    "\n",
    "\n",
    "\n",
    "\n"
   ]
  },
  {
   "cell_type": "markdown",
   "id": "0030684b",
   "metadata": {
    "tags": []
   },
   "source": [
    "#### c. Plotly kütüphanesi kullanarak, Popüler 250 Filmin rating puanlarına göre hasılatını buble chart ile gösterin ."
   ]
  },
  {
   "cell_type": "code",
   "execution_count": 133,
   "id": "32c39658-7fcb-4992-9080-5b92f9be3e85",
   "metadata": {},
   "outputs": [
    {
     "data": {
      "application/vnd.plotly.v1+json": {
       "config": {
        "plotlyServerURL": "https://plot.ly"
       },
       "data": [
        {
         "hovertemplate": "<b>%{hovertext}</b><br><br>Rating=%{x}<br>Revenue_Millions=%{marker.size}<extra></extra>",
         "hovertext": [
          55,
          81,
          37,
          250,
          97,
          125,
          992,
          134,
          100,
          477,
          65,
          145,
          431,
          456,
          500,
          689,
          78,
          7,
          766,
          743,
          231,
          195,
          714,
          242,
          83,
          144,
          17,
          112,
          115,
          146,
          93,
          193,
          773,
          91,
          77,
          642,
          199,
          68,
          428,
          84,
          75,
          198,
          1,
          51,
          609,
          19,
          300,
          335,
          137,
          239,
          139,
          490,
          262,
          163,
          103,
          20,
          641,
          469,
          686,
          236,
          274,
          333,
          174,
          366,
          165,
          141,
          130,
          185,
          670,
          34,
          272,
          160,
          13,
          519,
          247,
          253,
          448,
          695,
          904,
          82,
          22,
          201,
          898,
          171,
          172,
          36,
          599,
          753,
          204,
          657,
          511,
          510,
          143,
          426,
          486,
          217,
          256,
          271,
          312,
          233,
          224,
          337,
          339,
          360,
          471,
          363,
          206,
          385,
          408,
          189,
          411,
          449,
          564,
          261,
          794,
          574,
          89,
          88,
          692,
          951,
          860,
          815,
          848,
          591,
          12,
          786,
          960,
          760,
          404,
          443,
          735,
          364,
          358,
          350,
          347,
          220,
          685,
          419,
          66,
          475,
          106,
          278,
          114,
          14,
          110,
          958,
          508,
          311,
          890,
          659,
          663,
          871,
          325,
          816,
          246,
          980,
          378,
          384,
          818,
          381,
          855,
          282,
          241,
          38,
          258,
          744,
          177,
          154,
          687,
          673,
          461,
          149,
          712,
          148,
          728,
          612,
          579,
          438,
          585,
          11,
          32,
          255,
          268,
          315,
          882,
          886,
          126,
          614,
          302,
          916,
          919,
          858,
          291,
          644,
          637,
          761,
          474,
          682,
          850,
          60,
          69,
          736,
          442,
          175,
          73,
          837,
          207,
          208,
          568,
          42,
          159,
          466,
          444,
          434,
          983,
          542,
          975,
          407,
          328,
          342,
          798,
          499,
          852,
          382,
          709,
          833,
          334,
          314,
          651,
          476,
          158,
          95,
          234,
          248,
          179,
          147,
          90,
          120,
          96,
          67,
          58,
          783,
          927,
          136,
          138,
          348,
          797,
          504,
          56,
          775
         ],
         "legendgroup": "",
         "marker": {
          "color": "#636efa",
          "size": [
           533.32,
           292.57,
           187.99,
           13.18,
           4.68,
           448.13,
           1.2,
           13.09,
           132.37,
           11.28,
           53.08,
           162.8,
           6.52,
           0.61,
           292.98,
           414.98,
           120.52,
           151.06,
           10.57,
           20.17,
           37.62,
           13.65,
           6.86,
           356.45,
           116.87,
           14.68,
           67.12,
           56.67,
           380.96,
           2.01,
           169.71,
           44.99,
           217.39,
           60.96,
           623.28,
           3.08,
           91.12,
           153.63,
           227.14,
           167.74,
           341.26,
           18.35,
           333.13,
           936.63,
           3.49,
           51.69,
           40.22,
           26.9,
           74.27,
           59.07,
           127.97,
           206.44,
           106.95,
           233.91,
           228.43,
           100.5,
           162.59,
           115.65,
           138.8,
           17.74,
           3.23,
           27.3,
           25.56,
           141.32,
           167.01,
           257.7,
           183.64,
           3.4,
           57.37,
           363.02,
           303,
           23.62,
           532.17,
           258.36,
           35.29,
           161.03,
           5.2,
           124.98,
           177,
           5.88,
           47.7,
           100.19,
           2.28,
           32.28,
           48.02,
           408.08,
           5.01,
           7.76,
           318.3,
           25.36,
           9.03,
           274.08,
           70.24,
           127.49,
           45.51,
           259.75,
           277.31,
           304.36,
           2.2,
           50.86,
           102.52,
           132.09,
           124.87,
           15.29,
           130.13,
           228.76,
           146.41,
           257.76,
           200.81,
           35.05,
           145,
           222.49,
           189.41,
           42.34,
           0.29,
           59.89,
           54.12,
           760.51,
           1.4,
           6.74,
           35.71,
           21,
           0.09,
           10.1,
           169.27,
           107.1,
           22.49,
           93.57,
           251.5,
           75.28,
           0.69,
           75.59,
           35.89,
           56.82,
           38.35,
           48.04,
           69.95,
           294.98,
           128.25,
           136.02,
           26.86,
           33.05,
           210.59,
           248.75,
           25.44,
           40.98,
           32.39,
           255.95,
           34.96,
           17.11,
           20.3,
           3.36,
           96.92,
           88.5,
           148.78,
           3.19,
           109.71,
           72.31,
           18.33,
           3.33,
           215.4,
           209.02,
           85.71,
           232.6,
           176.74,
           171.03,
           208.54,
           46.88,
           0.15,
           15.7,
           92.17,
           121.46,
           0.92,
           107.5,
           39.83,
           1.48,
           424.65,
           19,
           75.61,
           234.02,
           10.64,
           137.39,
           27.1,
           292,
           83.3,
           34.3,
           364,
           3.9,
           125.07,
           0.79,
           2.21,
           36.58,
           2.13,
           0.86,
           54.7,
           31.66,
           301.96,
           1.74,
           95,
           125.07,
           0.01,
           73.82,
           38.32,
           400.74,
           3.73,
           0.13,
           0.51,
           2.14,
           143.49,
           27.85,
           31.49,
           186.83,
           9.7,
           209.36,
           24.34,
           79.24,
           8.81,
           95.72,
           0.04,
           66.47,
           368.05,
           73.34,
           16.17,
           52.42,
           47.11,
           11.23,
           182.2,
           255.11,
           52.88,
           15.79,
           84.24,
           458.99,
           195,
           5.66,
           102.46,
           14.26,
           86.2,
           486.29,
           36.25,
           31.86,
           56.23,
           28.48,
           47.54,
           21.38,
           144.81,
           150.12,
           5.48,
           2.7,
           7.08,
           10.14
          ],
          "sizemode": "area",
          "sizeref": 2.341575,
          "symbol": "circle"
         },
         "mode": "markers",
         "name": "",
         "orientation": "v",
         "showlegend": false,
         "type": "scatter",
         "x": [
          9,
          8.8,
          8.6,
          8.6,
          8.6,
          8.5,
          8.5,
          8.5,
          8.5,
          8.5,
          8.5,
          8.4,
          8.4,
          8.3,
          8.3,
          8.3,
          8.3,
          8.3,
          8.2,
          8.2,
          8.2,
          8.2,
          8.2,
          8.2,
          8.2,
          8.2,
          8.2,
          8.1,
          8.1,
          8.1,
          8.1,
          8.1,
          8.1,
          8.1,
          8.1,
          8.1,
          8.1,
          8.1,
          8.1,
          8.1,
          8.1,
          8.1,
          8.1,
          8.1,
          8.1,
          8.1,
          8.1,
          8.1,
          8.1,
          8.1,
          8.1,
          8,
          8,
          8,
          8,
          8,
          8,
          8,
          8,
          8,
          8,
          8,
          8,
          8,
          8,
          8,
          8,
          8,
          8,
          8,
          7.9,
          7.9,
          7.9,
          7.9,
          7.9,
          7.9,
          7.9,
          7.9,
          7.9,
          7.9,
          7.9,
          7.9,
          7.9,
          7.9,
          7.9,
          7.9,
          7.9,
          7.9,
          7.9,
          7.9,
          7.8,
          7.8,
          7.8,
          7.8,
          7.8,
          7.8,
          7.8,
          7.8,
          7.8,
          7.8,
          7.8,
          7.8,
          7.8,
          7.8,
          7.8,
          7.8,
          7.8,
          7.8,
          7.8,
          7.8,
          7.8,
          7.8,
          7.8,
          7.8,
          7.8,
          7.8,
          7.8,
          7.8,
          7.8,
          7.8,
          7.8,
          7.8,
          7.8,
          7.8,
          7.8,
          7.8,
          7.8,
          7.8,
          7.7,
          7.7,
          7.7,
          7.7,
          7.7,
          7.7,
          7.7,
          7.7,
          7.7,
          7.7,
          7.7,
          7.7,
          7.7,
          7.7,
          7.7,
          7.7,
          7.7,
          7.7,
          7.7,
          7.7,
          7.7,
          7.7,
          7.7,
          7.7,
          7.7,
          7.6,
          7.6,
          7.6,
          7.6,
          7.6,
          7.6,
          7.6,
          7.6,
          7.6,
          7.6,
          7.6,
          7.6,
          7.6,
          7.6,
          7.6,
          7.6,
          7.6,
          7.6,
          7.6,
          7.6,
          7.6,
          7.6,
          7.6,
          7.6,
          7.6,
          7.6,
          7.5,
          7.5,
          7.5,
          7.5,
          7.5,
          7.5,
          7.5,
          7.5,
          7.5,
          7.5,
          7.5,
          7.5,
          7.5,
          7.5,
          7.5,
          7.5,
          7.5,
          7.5,
          7.5,
          7.5,
          7.5,
          7.5,
          7.5,
          7.5,
          7.5,
          7.5,
          7.5,
          7.5,
          7.5,
          7.5,
          7.5,
          7.5,
          7.5,
          7.4,
          7.4,
          7.4,
          7.4,
          7.4,
          7.4,
          7.4,
          7.4,
          7.4,
          7.4,
          7.4,
          7.4,
          7.4,
          7.4,
          7.4,
          7.4,
          7.4,
          7.4,
          7.4,
          7.4,
          7.4,
          7.4,
          7.4,
          7.4,
          7.4,
          7.4,
          7.4,
          7.4,
          7.4,
          7.3,
          7.3,
          7.3,
          7.3,
          7.3,
          7.3,
          7.3,
          7.3,
          7.3
         ],
         "xaxis": "x",
         "y": [
          533.32,
          292.57,
          187.99,
          13.18,
          4.68,
          448.13,
          1.2,
          13.09,
          132.37,
          11.28,
          53.08,
          162.8,
          6.52,
          0.61,
          292.98,
          414.98,
          120.52,
          151.06,
          10.57,
          20.17,
          37.62,
          13.65,
          6.86,
          356.45,
          116.87,
          14.68,
          67.12,
          56.67,
          380.96,
          2.01,
          169.71,
          44.99,
          217.39,
          60.96,
          623.28,
          3.08,
          91.12,
          153.63,
          227.14,
          167.74,
          341.26,
          18.35,
          333.13,
          936.63,
          3.49,
          51.69,
          40.22,
          26.9,
          74.27,
          59.07,
          127.97,
          206.44,
          106.95,
          233.91,
          228.43,
          100.5,
          162.59,
          115.65,
          138.8,
          17.74,
          3.23,
          27.3,
          25.56,
          141.32,
          167.01,
          257.7,
          183.64,
          3.4,
          57.37,
          363.02,
          303,
          23.62,
          532.17,
          258.36,
          35.29,
          161.03,
          5.2,
          124.98,
          177,
          5.88,
          47.7,
          100.19,
          2.28,
          32.28,
          48.02,
          408.08,
          5.01,
          7.76,
          318.3,
          25.36,
          9.03,
          274.08,
          70.24,
          127.49,
          45.51,
          259.75,
          277.31,
          304.36,
          2.2,
          50.86,
          102.52,
          132.09,
          124.87,
          15.29,
          130.13,
          228.76,
          146.41,
          257.76,
          200.81,
          35.05,
          145,
          222.49,
          189.41,
          42.34,
          0.29,
          59.89,
          54.12,
          760.51,
          1.4,
          6.74,
          35.71,
          21,
          0.09,
          10.1,
          169.27,
          107.1,
          22.49,
          93.57,
          251.5,
          75.28,
          0.69,
          75.59,
          35.89,
          56.82,
          38.35,
          48.04,
          69.95,
          294.98,
          128.25,
          136.02,
          26.86,
          33.05,
          210.59,
          248.75,
          25.44,
          40.98,
          32.39,
          255.95,
          34.96,
          17.11,
          20.3,
          3.36,
          96.92,
          88.5,
          148.78,
          3.19,
          109.71,
          72.31,
          18.33,
          3.33,
          215.4,
          209.02,
          85.71,
          232.6,
          176.74,
          171.03,
          208.54,
          46.88,
          0.15,
          15.7,
          92.17,
          121.46,
          0.92,
          107.5,
          39.83,
          1.48,
          424.65,
          19,
          75.61,
          234.02,
          10.64,
          137.39,
          27.1,
          292,
          83.3,
          34.3,
          364,
          3.9,
          125.07,
          0.79,
          2.21,
          36.58,
          2.13,
          0.86,
          54.7,
          31.66,
          301.96,
          1.74,
          95,
          125.07,
          0.01,
          73.82,
          38.32,
          400.74,
          3.73,
          0.13,
          0.51,
          2.14,
          143.49,
          27.85,
          31.49,
          186.83,
          9.7,
          209.36,
          24.34,
          79.24,
          8.81,
          95.72,
          0.04,
          66.47,
          368.05,
          73.34,
          16.17,
          52.42,
          47.11,
          11.23,
          182.2,
          255.11,
          52.88,
          15.79,
          84.24,
          458.99,
          195,
          5.66,
          102.46,
          14.26,
          86.2,
          486.29,
          36.25,
          31.86,
          56.23,
          28.48,
          47.54,
          21.38,
          144.81,
          150.12,
          5.48,
          2.7,
          7.08,
          10.14
         ],
         "yaxis": "y"
        }
       ],
       "layout": {
        "height": 600,
        "legend": {
         "itemsizing": "constant",
         "tracegroupgap": 0
        },
        "template": {
         "data": {
          "bar": [
           {
            "error_x": {
             "color": "#2a3f5f"
            },
            "error_y": {
             "color": "#2a3f5f"
            },
            "marker": {
             "line": {
              "color": "#E5ECF6",
              "width": 0.5
             },
             "pattern": {
              "fillmode": "overlay",
              "size": 10,
              "solidity": 0.2
             }
            },
            "type": "bar"
           }
          ],
          "barpolar": [
           {
            "marker": {
             "line": {
              "color": "#E5ECF6",
              "width": 0.5
             },
             "pattern": {
              "fillmode": "overlay",
              "size": 10,
              "solidity": 0.2
             }
            },
            "type": "barpolar"
           }
          ],
          "carpet": [
           {
            "aaxis": {
             "endlinecolor": "#2a3f5f",
             "gridcolor": "white",
             "linecolor": "white",
             "minorgridcolor": "white",
             "startlinecolor": "#2a3f5f"
            },
            "baxis": {
             "endlinecolor": "#2a3f5f",
             "gridcolor": "white",
             "linecolor": "white",
             "minorgridcolor": "white",
             "startlinecolor": "#2a3f5f"
            },
            "type": "carpet"
           }
          ],
          "choropleth": [
           {
            "colorbar": {
             "outlinewidth": 0,
             "ticks": ""
            },
            "type": "choropleth"
           }
          ],
          "contour": [
           {
            "colorbar": {
             "outlinewidth": 0,
             "ticks": ""
            },
            "colorscale": [
             [
              0,
              "#0d0887"
             ],
             [
              0.1111111111111111,
              "#46039f"
             ],
             [
              0.2222222222222222,
              "#7201a8"
             ],
             [
              0.3333333333333333,
              "#9c179e"
             ],
             [
              0.4444444444444444,
              "#bd3786"
             ],
             [
              0.5555555555555556,
              "#d8576b"
             ],
             [
              0.6666666666666666,
              "#ed7953"
             ],
             [
              0.7777777777777778,
              "#fb9f3a"
             ],
             [
              0.8888888888888888,
              "#fdca26"
             ],
             [
              1,
              "#f0f921"
             ]
            ],
            "type": "contour"
           }
          ],
          "contourcarpet": [
           {
            "colorbar": {
             "outlinewidth": 0,
             "ticks": ""
            },
            "type": "contourcarpet"
           }
          ],
          "heatmap": [
           {
            "colorbar": {
             "outlinewidth": 0,
             "ticks": ""
            },
            "colorscale": [
             [
              0,
              "#0d0887"
             ],
             [
              0.1111111111111111,
              "#46039f"
             ],
             [
              0.2222222222222222,
              "#7201a8"
             ],
             [
              0.3333333333333333,
              "#9c179e"
             ],
             [
              0.4444444444444444,
              "#bd3786"
             ],
             [
              0.5555555555555556,
              "#d8576b"
             ],
             [
              0.6666666666666666,
              "#ed7953"
             ],
             [
              0.7777777777777778,
              "#fb9f3a"
             ],
             [
              0.8888888888888888,
              "#fdca26"
             ],
             [
              1,
              "#f0f921"
             ]
            ],
            "type": "heatmap"
           }
          ],
          "heatmapgl": [
           {
            "colorbar": {
             "outlinewidth": 0,
             "ticks": ""
            },
            "colorscale": [
             [
              0,
              "#0d0887"
             ],
             [
              0.1111111111111111,
              "#46039f"
             ],
             [
              0.2222222222222222,
              "#7201a8"
             ],
             [
              0.3333333333333333,
              "#9c179e"
             ],
             [
              0.4444444444444444,
              "#bd3786"
             ],
             [
              0.5555555555555556,
              "#d8576b"
             ],
             [
              0.6666666666666666,
              "#ed7953"
             ],
             [
              0.7777777777777778,
              "#fb9f3a"
             ],
             [
              0.8888888888888888,
              "#fdca26"
             ],
             [
              1,
              "#f0f921"
             ]
            ],
            "type": "heatmapgl"
           }
          ],
          "histogram": [
           {
            "marker": {
             "pattern": {
              "fillmode": "overlay",
              "size": 10,
              "solidity": 0.2
             }
            },
            "type": "histogram"
           }
          ],
          "histogram2d": [
           {
            "colorbar": {
             "outlinewidth": 0,
             "ticks": ""
            },
            "colorscale": [
             [
              0,
              "#0d0887"
             ],
             [
              0.1111111111111111,
              "#46039f"
             ],
             [
              0.2222222222222222,
              "#7201a8"
             ],
             [
              0.3333333333333333,
              "#9c179e"
             ],
             [
              0.4444444444444444,
              "#bd3786"
             ],
             [
              0.5555555555555556,
              "#d8576b"
             ],
             [
              0.6666666666666666,
              "#ed7953"
             ],
             [
              0.7777777777777778,
              "#fb9f3a"
             ],
             [
              0.8888888888888888,
              "#fdca26"
             ],
             [
              1,
              "#f0f921"
             ]
            ],
            "type": "histogram2d"
           }
          ],
          "histogram2dcontour": [
           {
            "colorbar": {
             "outlinewidth": 0,
             "ticks": ""
            },
            "colorscale": [
             [
              0,
              "#0d0887"
             ],
             [
              0.1111111111111111,
              "#46039f"
             ],
             [
              0.2222222222222222,
              "#7201a8"
             ],
             [
              0.3333333333333333,
              "#9c179e"
             ],
             [
              0.4444444444444444,
              "#bd3786"
             ],
             [
              0.5555555555555556,
              "#d8576b"
             ],
             [
              0.6666666666666666,
              "#ed7953"
             ],
             [
              0.7777777777777778,
              "#fb9f3a"
             ],
             [
              0.8888888888888888,
              "#fdca26"
             ],
             [
              1,
              "#f0f921"
             ]
            ],
            "type": "histogram2dcontour"
           }
          ],
          "mesh3d": [
           {
            "colorbar": {
             "outlinewidth": 0,
             "ticks": ""
            },
            "type": "mesh3d"
           }
          ],
          "parcoords": [
           {
            "line": {
             "colorbar": {
              "outlinewidth": 0,
              "ticks": ""
             }
            },
            "type": "parcoords"
           }
          ],
          "pie": [
           {
            "automargin": true,
            "type": "pie"
           }
          ],
          "scatter": [
           {
            "fillpattern": {
             "fillmode": "overlay",
             "size": 10,
             "solidity": 0.2
            },
            "type": "scatter"
           }
          ],
          "scatter3d": [
           {
            "line": {
             "colorbar": {
              "outlinewidth": 0,
              "ticks": ""
             }
            },
            "marker": {
             "colorbar": {
              "outlinewidth": 0,
              "ticks": ""
             }
            },
            "type": "scatter3d"
           }
          ],
          "scattercarpet": [
           {
            "marker": {
             "colorbar": {
              "outlinewidth": 0,
              "ticks": ""
             }
            },
            "type": "scattercarpet"
           }
          ],
          "scattergeo": [
           {
            "marker": {
             "colorbar": {
              "outlinewidth": 0,
              "ticks": ""
             }
            },
            "type": "scattergeo"
           }
          ],
          "scattergl": [
           {
            "marker": {
             "colorbar": {
              "outlinewidth": 0,
              "ticks": ""
             }
            },
            "type": "scattergl"
           }
          ],
          "scattermapbox": [
           {
            "marker": {
             "colorbar": {
              "outlinewidth": 0,
              "ticks": ""
             }
            },
            "type": "scattermapbox"
           }
          ],
          "scatterpolar": [
           {
            "marker": {
             "colorbar": {
              "outlinewidth": 0,
              "ticks": ""
             }
            },
            "type": "scatterpolar"
           }
          ],
          "scatterpolargl": [
           {
            "marker": {
             "colorbar": {
              "outlinewidth": 0,
              "ticks": ""
             }
            },
            "type": "scatterpolargl"
           }
          ],
          "scatterternary": [
           {
            "marker": {
             "colorbar": {
              "outlinewidth": 0,
              "ticks": ""
             }
            },
            "type": "scatterternary"
           }
          ],
          "surface": [
           {
            "colorbar": {
             "outlinewidth": 0,
             "ticks": ""
            },
            "colorscale": [
             [
              0,
              "#0d0887"
             ],
             [
              0.1111111111111111,
              "#46039f"
             ],
             [
              0.2222222222222222,
              "#7201a8"
             ],
             [
              0.3333333333333333,
              "#9c179e"
             ],
             [
              0.4444444444444444,
              "#bd3786"
             ],
             [
              0.5555555555555556,
              "#d8576b"
             ],
             [
              0.6666666666666666,
              "#ed7953"
             ],
             [
              0.7777777777777778,
              "#fb9f3a"
             ],
             [
              0.8888888888888888,
              "#fdca26"
             ],
             [
              1,
              "#f0f921"
             ]
            ],
            "type": "surface"
           }
          ],
          "table": [
           {
            "cells": {
             "fill": {
              "color": "#EBF0F8"
             },
             "line": {
              "color": "white"
             }
            },
            "header": {
             "fill": {
              "color": "#C8D4E3"
             },
             "line": {
              "color": "white"
             }
            },
            "type": "table"
           }
          ]
         },
         "layout": {
          "annotationdefaults": {
           "arrowcolor": "#2a3f5f",
           "arrowhead": 0,
           "arrowwidth": 1
          },
          "autotypenumbers": "strict",
          "coloraxis": {
           "colorbar": {
            "outlinewidth": 0,
            "ticks": ""
           }
          },
          "colorscale": {
           "diverging": [
            [
             0,
             "#8e0152"
            ],
            [
             0.1,
             "#c51b7d"
            ],
            [
             0.2,
             "#de77ae"
            ],
            [
             0.3,
             "#f1b6da"
            ],
            [
             0.4,
             "#fde0ef"
            ],
            [
             0.5,
             "#f7f7f7"
            ],
            [
             0.6,
             "#e6f5d0"
            ],
            [
             0.7,
             "#b8e186"
            ],
            [
             0.8,
             "#7fbc41"
            ],
            [
             0.9,
             "#4d9221"
            ],
            [
             1,
             "#276419"
            ]
           ],
           "sequential": [
            [
             0,
             "#0d0887"
            ],
            [
             0.1111111111111111,
             "#46039f"
            ],
            [
             0.2222222222222222,
             "#7201a8"
            ],
            [
             0.3333333333333333,
             "#9c179e"
            ],
            [
             0.4444444444444444,
             "#bd3786"
            ],
            [
             0.5555555555555556,
             "#d8576b"
            ],
            [
             0.6666666666666666,
             "#ed7953"
            ],
            [
             0.7777777777777778,
             "#fb9f3a"
            ],
            [
             0.8888888888888888,
             "#fdca26"
            ],
            [
             1,
             "#f0f921"
            ]
           ],
           "sequentialminus": [
            [
             0,
             "#0d0887"
            ],
            [
             0.1111111111111111,
             "#46039f"
            ],
            [
             0.2222222222222222,
             "#7201a8"
            ],
            [
             0.3333333333333333,
             "#9c179e"
            ],
            [
             0.4444444444444444,
             "#bd3786"
            ],
            [
             0.5555555555555556,
             "#d8576b"
            ],
            [
             0.6666666666666666,
             "#ed7953"
            ],
            [
             0.7777777777777778,
             "#fb9f3a"
            ],
            [
             0.8888888888888888,
             "#fdca26"
            ],
            [
             1,
             "#f0f921"
            ]
           ]
          },
          "colorway": [
           "#636efa",
           "#EF553B",
           "#00cc96",
           "#ab63fa",
           "#FFA15A",
           "#19d3f3",
           "#FF6692",
           "#B6E880",
           "#FF97FF",
           "#FECB52"
          ],
          "font": {
           "color": "#2a3f5f"
          },
          "geo": {
           "bgcolor": "white",
           "lakecolor": "white",
           "landcolor": "#E5ECF6",
           "showlakes": true,
           "showland": true,
           "subunitcolor": "white"
          },
          "hoverlabel": {
           "align": "left"
          },
          "hovermode": "closest",
          "mapbox": {
           "style": "light"
          },
          "paper_bgcolor": "white",
          "plot_bgcolor": "#E5ECF6",
          "polar": {
           "angularaxis": {
            "gridcolor": "white",
            "linecolor": "white",
            "ticks": ""
           },
           "bgcolor": "#E5ECF6",
           "radialaxis": {
            "gridcolor": "white",
            "linecolor": "white",
            "ticks": ""
           }
          },
          "scene": {
           "xaxis": {
            "backgroundcolor": "#E5ECF6",
            "gridcolor": "white",
            "gridwidth": 2,
            "linecolor": "white",
            "showbackground": true,
            "ticks": "",
            "zerolinecolor": "white"
           },
           "yaxis": {
            "backgroundcolor": "#E5ECF6",
            "gridcolor": "white",
            "gridwidth": 2,
            "linecolor": "white",
            "showbackground": true,
            "ticks": "",
            "zerolinecolor": "white"
           },
           "zaxis": {
            "backgroundcolor": "#E5ECF6",
            "gridcolor": "white",
            "gridwidth": 2,
            "linecolor": "white",
            "showbackground": true,
            "ticks": "",
            "zerolinecolor": "white"
           }
          },
          "shapedefaults": {
           "line": {
            "color": "#2a3f5f"
           }
          },
          "ternary": {
           "aaxis": {
            "gridcolor": "white",
            "linecolor": "white",
            "ticks": ""
           },
           "baxis": {
            "gridcolor": "white",
            "linecolor": "white",
            "ticks": ""
           },
           "bgcolor": "#E5ECF6",
           "caxis": {
            "gridcolor": "white",
            "linecolor": "white",
            "ticks": ""
           }
          },
          "title": {
           "x": 0.05
          },
          "xaxis": {
           "automargin": true,
           "gridcolor": "white",
           "linecolor": "white",
           "ticks": "",
           "title": {
            "standoff": 15
           },
           "zerolinecolor": "white",
           "zerolinewidth": 2
          },
          "yaxis": {
           "automargin": true,
           "gridcolor": "white",
           "linecolor": "white",
           "ticks": "",
           "title": {
            "standoff": 15
           },
           "zerolinecolor": "white",
           "zerolinewidth": 2
          }
         }
        },
        "title": {
         "text": "Revenue of 250 Popular Movies by Rating Scores"
        },
        "width": 1100,
        "xaxis": {
         "anchor": "y",
         "autorange": true,
         "domain": [
          0,
          1
         ],
         "range": [
          7.19047145315743,
          9.121031938684393
         ],
         "title": {
          "text": "Rating"
         },
         "type": "linear"
        },
        "yaxis": {
         "anchor": "x",
         "autorange": true,
         "domain": [
          0,
          1
         ],
         "range": [
          -62.57238504183814,
          1032.6193531903293
         ],
         "title": {
          "text": "Revenue_Millions"
         },
         "type": "linear"
        }
       }
      },
      "image/png": "[encoded data removed]",
      "text/html": [
       "<div>                            <div id=\"933d3add-1f1b-4120-a48a-0da6e8f26bbc\" class=\"plotly-graph-div\" style=\"height:600px; width:1100px;\"></div>            <script type=\"text/javascript\">                require([\"plotly\"], function(Plotly) {                    window.PLOTLYENV=window.PLOTLYENV || {};                                    if (document.getElementById(\"933d3add-1f1b-4120-a48a-0da6e8f26bbc\")) {                    Plotly.newPlot(                        \"933d3add-1f1b-4120-a48a-0da6e8f26bbc\",                        [{\"hovertemplate\":\"<b>%{hovertext}</b><br><br>Rating=%{x}<br>Revenue_Millions=%{marker.size}<extra></extra>\",\"hovertext\":[55.0,81.0,37.0,250.0,97.0,125.0,992.0,134.0,100.0,477.0,65.0,145.0,431.0,456.0,500.0,689.0,78.0,7.0,766.0,743.0,231.0,195.0,714.0,242.0,83.0,144.0,17.0,112.0,115.0,146.0,93.0,193.0,773.0,91.0,77.0,642.0,199.0,68.0,428.0,84.0,75.0,198.0,1.0,51.0,609.0,19.0,300.0,335.0,137.0,239.0,139.0,490.0,262.0,163.0,103.0,20.0,641.0,469.0,686.0,236.0,274.0,333.0,174.0,366.0,165.0,141.0,130.0,185.0,670.0,34.0,272.0,160.0,13.0,519.0,247.0,253.0,448.0,695.0,904.0,82.0,22.0,201.0,898.0,171.0,172.0,36.0,599.0,753.0,204.0,657.0,511.0,510.0,143.0,426.0,486.0,217.0,256.0,271.0,312.0,233.0,224.0,337.0,339.0,360.0,471.0,363.0,206.0,385.0,408.0,189.0,411.0,449.0,564.0,261.0,794.0,574.0,89.0,88.0,692.0,951.0,860.0,815.0,848.0,591.0,12.0,786.0,960.0,760.0,404.0,443.0,735.0,364.0,358.0,350.0,347.0,220.0,685.0,419.0,66.0,475.0,106.0,278.0,114.0,14.0,110.0,958.0,508.0,311.0,890.0,659.0,663.0,871.0,325.0,816.0,246.0,980.0,378.0,384.0,818.0,381.0,855.0,282.0,241.0,38.0,258.0,744.0,177.0,154.0,687.0,673.0,461.0,149.0,712.0,148.0,728.0,612.0,579.0,438.0,585.0,11.0,32.0,255.0,268.0,315.0,882.0,886.0,126.0,614.0,302.0,916.0,919.0,858.0,291.0,644.0,637.0,761.0,474.0,682.0,850.0,60.0,69.0,736.0,442.0,175.0,73.0,837.0,207.0,208.0,568.0,42.0,159.0,466.0,444.0,434.0,983.0,542.0,975.0,407.0,328.0,342.0,798.0,499.0,852.0,382.0,709.0,833.0,334.0,314.0,651.0,476.0,158.0,95.0,234.0,248.0,179.0,147.0,90.0,120.0,96.0,67.0,58.0,783.0,927.0,136.0,138.0,348.0,797.0,504.0,56.0,775.0],\"legendgroup\":\"\",\"marker\":{\"color\":\"#636efa\",\"size\":[533.32,292.57,187.99,13.18,4.68,448.13,1.2,13.09,132.37,11.28,53.08,162.8,6.52,0.61,292.98,414.98,120.52,151.06,10.57,20.17,37.62,13.65,6.86,356.45,116.87,14.68,67.12,56.67,380.96,2.01,169.71,44.99,217.39,60.96,623.28,3.08,91.12,153.63,227.14,167.74,341.26,18.35,333.13,936.63,3.49,51.69,40.22,26.9,74.27,59.07,127.97,206.44,106.95,233.91,228.43,100.5,162.59,115.65,138.8,17.74,3.23,27.3,25.56,141.32,167.01,257.7,183.64,3.4,57.37,363.02,303.0,23.62,532.17,258.36,35.29,161.03,5.2,124.98,177.0,5.88,47.7,100.19,2.28,32.28,48.02,408.08,5.01,7.76,318.3,25.36,9.03,274.08,70.24,127.49,45.51,259.75,277.31,304.36,2.2,50.86,102.52,132.09,124.87,15.29,130.13,228.76,146.41,257.76,200.81,35.05,145.0,222.49,189.41,42.34,0.29,59.89,54.12,760.51,1.4,6.74,35.71,21.0,0.09,10.1,169.27,107.1,22.49,93.57,251.5,75.28,0.69,75.59,35.89,56.82,38.35,48.04,69.95,294.98,128.25,136.02,26.86,33.05,210.59,248.75,25.44,40.98,32.39,255.95,34.96,17.11,20.3,3.36,96.92,88.5,148.78,3.19,109.71,72.31,18.33,3.33,215.4,209.02,85.71,232.6,176.74,171.03,208.54,46.88,0.15,15.7,92.17,121.46,0.92,107.5,39.83,1.48,424.65,19.0,75.61,234.02,10.64,137.39,27.1,292.0,83.3,34.3,364.0,3.9,125.07,0.79,2.21,36.58,2.13,0.86,54.7,31.66,301.96,1.74,95.0,125.07,0.01,73.82,38.32,400.74,3.73,0.13,0.51,2.14,143.49,27.85,31.49,186.83,9.7,209.36,24.34,79.24,8.81,95.72,0.04,66.47,368.05,73.34,16.17,52.42,47.11,11.23,182.2,255.11,52.88,15.79,84.24,458.99,195.0,5.66,102.46,14.26,86.2,486.29,36.25,31.86,56.23,28.48,47.54,21.38,144.81,150.12,5.48,2.7,7.08,10.14],\"sizemode\":\"area\",\"sizeref\":2.341575,\"symbol\":\"circle\"},\"mode\":\"markers\",\"name\":\"\",\"orientation\":\"v\",\"showlegend\":false,\"x\":[9.0,8.8,8.6,8.6,8.6,8.5,8.5,8.5,8.5,8.5,8.5,8.4,8.4,8.3,8.3,8.3,8.3,8.3,8.2,8.2,8.2,8.2,8.2,8.2,8.2,8.2,8.2,8.1,8.1,8.1,8.1,8.1,8.1,8.1,8.1,8.1,8.1,8.1,8.1,8.1,8.1,8.1,8.1,8.1,8.1,8.1,8.1,8.1,8.1,8.1,8.1,8.0,8.0,8.0,8.0,8.0,8.0,8.0,8.0,8.0,8.0,8.0,8.0,8.0,8.0,8.0,8.0,8.0,8.0,8.0,7.9,7.9,7.9,7.9,7.9,7.9,7.9,7.9,7.9,7.9,7.9,7.9,7.9,7.9,7.9,7.9,7.9,7.9,7.9,7.9,7.8,7.8,7.8,7.8,7.8,7.8,7.8,7.8,7.8,7.8,7.8,7.8,7.8,7.8,7.8,7.8,7.8,7.8,7.8,7.8,7.8,7.8,7.8,7.8,7.8,7.8,7.8,7.8,7.8,7.8,7.8,7.8,7.8,7.8,7.8,7.8,7.8,7.8,7.7,7.7,7.7,7.7,7.7,7.7,7.7,7.7,7.7,7.7,7.7,7.7,7.7,7.7,7.7,7.7,7.7,7.7,7.7,7.7,7.7,7.7,7.7,7.7,7.7,7.6,7.6,7.6,7.6,7.6,7.6,7.6,7.6,7.6,7.6,7.6,7.6,7.6,7.6,7.6,7.6,7.6,7.6,7.6,7.6,7.6,7.6,7.6,7.6,7.6,7.6,7.5,7.5,7.5,7.5,7.5,7.5,7.5,7.5,7.5,7.5,7.5,7.5,7.5,7.5,7.5,7.5,7.5,7.5,7.5,7.5,7.5,7.5,7.5,7.5,7.5,7.5,7.5,7.5,7.5,7.5,7.5,7.5,7.5,7.4,7.4,7.4,7.4,7.4,7.4,7.4,7.4,7.4,7.4,7.4,7.4,7.4,7.4,7.4,7.4,7.4,7.4,7.4,7.4,7.4,7.4,7.4,7.4,7.4,7.4,7.4,7.4,7.4,7.3,7.3,7.3,7.3,7.3,7.3,7.3,7.3,7.3],\"xaxis\":\"x\",\"y\":[533.32,292.57,187.99,13.18,4.68,448.13,1.2,13.09,132.37,11.28,53.08,162.8,6.52,0.61,292.98,414.98,120.52,151.06,10.57,20.17,37.62,13.65,6.86,356.45,116.87,14.68,67.12,56.67,380.96,2.01,169.71,44.99,217.39,60.96,623.28,3.08,91.12,153.63,227.14,167.74,341.26,18.35,333.13,936.63,3.49,51.69,40.22,26.9,74.27,59.07,127.97,206.44,106.95,233.91,228.43,100.5,162.59,115.65,138.8,17.74,3.23,27.3,25.56,141.32,167.01,257.7,183.64,3.4,57.37,363.02,303.0,23.62,532.17,258.36,35.29,161.03,5.2,124.98,177.0,5.88,47.7,100.19,2.28,32.28,48.02,408.08,5.01,7.76,318.3,25.36,9.03,274.08,70.24,127.49,45.51,259.75,277.31,304.36,2.2,50.86,102.52,132.09,124.87,15.29,130.13,228.76,146.41,257.76,200.81,35.05,145.0,222.49,189.41,42.34,0.29,59.89,54.12,760.51,1.4,6.74,35.71,21.0,0.09,10.1,169.27,107.1,22.49,93.57,251.5,75.28,0.69,75.59,35.89,56.82,38.35,48.04,69.95,294.98,128.25,136.02,26.86,33.05,210.59,248.75,25.44,40.98,32.39,255.95,34.96,17.11,20.3,3.36,96.92,88.5,148.78,3.19,109.71,72.31,18.33,3.33,215.4,209.02,85.71,232.6,176.74,171.03,208.54,46.88,0.15,15.7,92.17,121.46,0.92,107.5,39.83,1.48,424.65,19.0,75.61,234.02,10.64,137.39,27.1,292.0,83.3,34.3,364.0,3.9,125.07,0.79,2.21,36.58,2.13,0.86,54.7,31.66,301.96,1.74,95.0,125.07,0.01,73.82,38.32,400.74,3.73,0.13,0.51,2.14,143.49,27.85,31.49,186.83,9.7,209.36,24.34,79.24,8.81,95.72,0.04,66.47,368.05,73.34,16.17,52.42,47.11,11.23,182.2,255.11,52.88,15.79,84.24,458.99,195.0,5.66,102.46,14.26,86.2,486.29,36.25,31.86,56.23,28.48,47.54,21.38,144.81,150.12,5.48,2.7,7.08,10.14],\"yaxis\":\"y\",\"type\":\"scatter\"}],                        {\"template\":{\"data\":{\"histogram2dcontour\":[{\"type\":\"histogram2dcontour\",\"colorbar\":{\"outlinewidth\":0,\"ticks\":\"\"},\"colorscale\":[[0.0,\"#0d0887\"],[0.1111111111111111,\"#46039f\"],[0.2222222222222222,\"#7201a8\"],[0.3333333333333333,\"#9c179e\"],[0.4444444444444444,\"#bd3786\"],[0.5555555555555556,\"#d8576b\"],[0.6666666666666666,\"#ed7953\"],[0.7777777777777778,\"#fb9f3a\"],[0.8888888888888888,\"#fdca26\"],[1.0,\"#f0f921\"]]}],\"choropleth\":[{\"type\":\"choropleth\",\"colorbar\":{\"outlinewidth\":0,\"ticks\":\"\"}}],\"histogram2d\":[{\"type\":\"histogram2d\",\"colorbar\":{\"outlinewidth\":0,\"ticks\":\"\"},\"colorscale\":[[0.0,\"#0d0887\"],[0.1111111111111111,\"#46039f\"],[0.2222222222222222,\"#7201a8\"],[0.3333333333333333,\"#9c179e\"],[0.4444444444444444,\"#bd3786\"],[0.5555555555555556,\"#d8576b\"],[0.6666666666666666,\"#ed7953\"],[0.7777777777777778,\"#fb9f3a\"],[0.8888888888888888,\"#fdca26\"],[1.0,\"#f0f921\"]]}],\"heatmap\":[{\"type\":\"heatmap\",\"colorbar\":{\"outlinewidth\":0,\"ticks\":\"\"},\"colorscale\":[[0.0,\"#0d0887\"],[0.1111111111111111,\"#46039f\"],[0.2222222222222222,\"#7201a8\"],[0.3333333333333333,\"#9c179e\"],[0.4444444444444444,\"#bd3786\"],[0.5555555555555556,\"#d8576b\"],[0.6666666666666666,\"#ed7953\"],[0.7777777777777778,\"#fb9f3a\"],[0.8888888888888888,\"#fdca26\"],[1.0,\"#f0f921\"]]}],\"heatmapgl\":[{\"type\":\"heatmapgl\",\"colorbar\":{\"outlinewidth\":0,\"ticks\":\"\"},\"colorscale\":[[0.0,\"#0d0887\"],[0.1111111111111111,\"#46039f\"],[0.2222222222222222,\"#7201a8\"],[0.3333333333333333,\"#9c179e\"],[0.4444444444444444,\"#bd3786\"],[0.5555555555555556,\"#d8576b\"],[0.6666666666666666,\"#ed7953\"],[0.7777777777777778,\"#fb9f3a\"],[0.8888888888888888,\"#fdca26\"],[1.0,\"#f0f921\"]]}],\"contourcarpet\":[{\"type\":\"contourcarpet\",\"colorbar\":{\"outlinewidth\":0,\"ticks\":\"\"}}],\"contour\":[{\"type\":\"contour\",\"colorbar\":{\"outlinewidth\":0,\"ticks\":\"\"},\"colorscale\":[[0.0,\"#0d0887\"],[0.1111111111111111,\"#46039f\"],[0.2222222222222222,\"#7201a8\"],[0.3333333333333333,\"#9c179e\"],[0.4444444444444444,\"#bd3786\"],[0.5555555555555556,\"#d8576b\"],[0.6666666666666666,\"#ed7953\"],[0.7777777777777778,\"#fb9f3a\"],[0.8888888888888888,\"#fdca26\"],[1.0,\"#f0f921\"]]}],\"surface\":[{\"type\":\"surface\",\"colorbar\":{\"outlinewidth\":0,\"ticks\":\"\"},\"colorscale\":[[0.0,\"#0d0887\"],[0.1111111111111111,\"#46039f\"],[0.2222222222222222,\"#7201a8\"],[0.3333333333333333,\"#9c179e\"],[0.4444444444444444,\"#bd3786\"],[0.5555555555555556,\"#d8576b\"],[0.6666666666666666,\"#ed7953\"],[0.7777777777777778,\"#fb9f3a\"],[0.8888888888888888,\"#fdca26\"],[1.0,\"#f0f921\"]]}],\"mesh3d\":[{\"type\":\"mesh3d\",\"colorbar\":{\"outlinewidth\":0,\"ticks\":\"\"}}],\"scatter\":[{\"fillpattern\":{\"fillmode\":\"overlay\",\"size\":10,\"solidity\":0.2},\"type\":\"scatter\"}],\"parcoords\":[{\"type\":\"parcoords\",\"line\":{\"colorbar\":{\"outlinewidth\":0,\"ticks\":\"\"}}}],\"scatterpolargl\":[{\"type\":\"scatterpolargl\",\"marker\":{\"colorbar\":{\"outlinewidth\":0,\"ticks\":\"\"}}}],\"bar\":[{\"error_x\":{\"color\":\"#2a3f5f\"},\"error_y\":{\"color\":\"#2a3f5f\"},\"marker\":{\"line\":{\"color\":\"#E5ECF6\",\"width\":0.5},\"pattern\":{\"fillmode\":\"overlay\",\"size\":10,\"solidity\":0.2}},\"type\":\"bar\"}],\"scattergeo\":[{\"type\":\"scattergeo\",\"marker\":{\"colorbar\":{\"outlinewidth\":0,\"ticks\":\"\"}}}],\"scatterpolar\":[{\"type\":\"scatterpolar\",\"marker\":{\"colorbar\":{\"outlinewidth\":0,\"ticks\":\"\"}}}],\"histogram\":[{\"marker\":{\"pattern\":{\"fillmode\":\"overlay\",\"size\":10,\"solidity\":0.2}},\"type\":\"histogram\"}],\"scattergl\":[{\"type\":\"scattergl\",\"marker\":{\"colorbar\":{\"outlinewidth\":0,\"ticks\":\"\"}}}],\"scatter3d\":[{\"type\":\"scatter3d\",\"line\":{\"colorbar\":{\"outlinewidth\":0,\"ticks\":\"\"}},\"marker\":{\"colorbar\":{\"outlinewidth\":0,\"ticks\":\"\"}}}],\"scattermapbox\":[{\"type\":\"scattermapbox\",\"marker\":{\"colorbar\":{\"outlinewidth\":0,\"ticks\":\"\"}}}],\"scatterternary\":[{\"type\":\"scatterternary\",\"marker\":{\"colorbar\":{\"outlinewidth\":0,\"ticks\":\"\"}}}],\"scattercarpet\":[{\"type\":\"scattercarpet\",\"marker\":{\"colorbar\":{\"outlinewidth\":0,\"ticks\":\"\"}}}],\"carpet\":[{\"aaxis\":{\"endlinecolor\":\"#2a3f5f\",\"gridcolor\":\"white\",\"linecolor\":\"white\",\"minorgridcolor\":\"white\",\"startlinecolor\":\"#2a3f5f\"},\"baxis\":{\"endlinecolor\":\"#2a3f5f\",\"gridcolor\":\"white\",\"linecolor\":\"white\",\"minorgridcolor\":\"white\",\"startlinecolor\":\"#2a3f5f\"},\"type\":\"carpet\"}],\"table\":[{\"cells\":{\"fill\":{\"color\":\"#EBF0F8\"},\"line\":{\"color\":\"white\"}},\"header\":{\"fill\":{\"color\":\"#C8D4E3\"},\"line\":{\"color\":\"white\"}},\"type\":\"table\"}],\"barpolar\":[{\"marker\":{\"line\":{\"color\":\"#E5ECF6\",\"width\":0.5},\"pattern\":{\"fillmode\":\"overlay\",\"size\":10,\"solidity\":0.2}},\"type\":\"barpolar\"}],\"pie\":[{\"automargin\":true,\"type\":\"pie\"}]},\"layout\":{\"autotypenumbers\":\"strict\",\"colorway\":[\"#636efa\",\"#EF553B\",\"#00cc96\",\"#ab63fa\",\"#FFA15A\",\"#19d3f3\",\"#FF6692\",\"#B6E880\",\"#FF97FF\",\"#FECB52\"],\"font\":{\"color\":\"#2a3f5f\"},\"hovermode\":\"closest\",\"hoverlabel\":{\"align\":\"left\"},\"paper_bgcolor\":\"white\",\"plot_bgcolor\":\"#E5ECF6\",\"polar\":{\"bgcolor\":\"#E5ECF6\",\"angularaxis\":{\"gridcolor\":\"white\",\"linecolor\":\"white\",\"ticks\":\"\"},\"radialaxis\":{\"gridcolor\":\"white\",\"linecolor\":\"white\",\"ticks\":\"\"}},\"ternary\":{\"bgcolor\":\"#E5ECF6\",\"aaxis\":{\"gridcolor\":\"white\",\"linecolor\":\"white\",\"ticks\":\"\"},\"baxis\":{\"gridcolor\":\"white\",\"linecolor\":\"white\",\"ticks\":\"\"},\"caxis\":{\"gridcolor\":\"white\",\"linecolor\":\"white\",\"ticks\":\"\"}},\"coloraxis\":{\"colorbar\":{\"outlinewidth\":0,\"ticks\":\"\"}},\"colorscale\":{\"sequential\":[[0.0,\"#0d0887\"],[0.1111111111111111,\"#46039f\"],[0.2222222222222222,\"#7201a8\"],[0.3333333333333333,\"#9c179e\"],[0.4444444444444444,\"#bd3786\"],[0.5555555555555556,\"#d8576b\"],[0.6666666666666666,\"#ed7953\"],[0.7777777777777778,\"#fb9f3a\"],[0.8888888888888888,\"#fdca26\"],[1.0,\"#f0f921\"]],\"sequentialminus\":[[0.0,\"#0d0887\"],[0.1111111111111111,\"#46039f\"],[0.2222222222222222,\"#7201a8\"],[0.3333333333333333,\"#9c179e\"],[0.4444444444444444,\"#bd3786\"],[0.5555555555555556,\"#d8576b\"],[0.6666666666666666,\"#ed7953\"],[0.7777777777777778,\"#fb9f3a\"],[0.8888888888888888,\"#fdca26\"],[1.0,\"#f0f921\"]],\"diverging\":[[0,\"#8e0152\"],[0.1,\"#c51b7d\"],[0.2,\"#de77ae\"],[0.3,\"#f1b6da\"],[0.4,\"#fde0ef\"],[0.5,\"#f7f7f7\"],[0.6,\"#e6f5d0\"],[0.7,\"#b8e186\"],[0.8,\"#7fbc41\"],[0.9,\"#4d9221\"],[1,\"#276419\"]]},\"xaxis\":{\"gridcolor\":\"white\",\"linecolor\":\"white\",\"ticks\":\"\",\"title\":{\"standoff\":15},\"zerolinecolor\":\"white\",\"automargin\":true,\"zerolinewidth\":2},\"yaxis\":{\"gridcolor\":\"white\",\"linecolor\":\"white\",\"ticks\":\"\",\"title\":{\"standoff\":15},\"zerolinecolor\":\"white\",\"automargin\":true,\"zerolinewidth\":2},\"scene\":{\"xaxis\":{\"backgroundcolor\":\"#E5ECF6\",\"gridcolor\":\"white\",\"linecolor\":\"white\",\"showbackground\":true,\"ticks\":\"\",\"zerolinecolor\":\"white\",\"gridwidth\":2},\"yaxis\":{\"backgroundcolor\":\"#E5ECF6\",\"gridcolor\":\"white\",\"linecolor\":\"white\",\"showbackground\":true,\"ticks\":\"\",\"zerolinecolor\":\"white\",\"gridwidth\":2},\"zaxis\":{\"backgroundcolor\":\"#E5ECF6\",\"gridcolor\":\"white\",\"linecolor\":\"white\",\"showbackground\":true,\"ticks\":\"\",\"zerolinecolor\":\"white\",\"gridwidth\":2}},\"shapedefaults\":{\"line\":{\"color\":\"#2a3f5f\"}},\"annotationdefaults\":{\"arrowcolor\":\"#2a3f5f\",\"arrowhead\":0,\"arrowwidth\":1},\"geo\":{\"bgcolor\":\"white\",\"landcolor\":\"#E5ECF6\",\"subunitcolor\":\"white\",\"showland\":true,\"showlakes\":true,\"lakecolor\":\"white\"},\"title\":{\"x\":0.05},\"mapbox\":{\"style\":\"light\"}}},\"xaxis\":{\"anchor\":\"y\",\"domain\":[0.0,1.0],\"title\":{\"text\":\"Rating\"}},\"yaxis\":{\"anchor\":\"x\",\"domain\":[0.0,1.0],\"title\":{\"text\":\"Revenue_Millions\"}},\"legend\":{\"tracegroupgap\":0,\"itemsizing\":\"constant\"},\"title\":{\"text\":\"Revenue of 250 Popular Movies by Rating Scores\"},\"width\":1100,\"height\":600},                        {\"responsive\": true}                    ).then(function(){\n",
       "                            \n",
       "var gd = document.getElementById('933d3add-1f1b-4120-a48a-0da6e8f26bbc');\n",
       "var x = new MutationObserver(function (mutations, observer) {{\n",
       "        var display = window.getComputedStyle(gd).display;\n",
       "        if (!display || display === 'none') {{\n",
       "            console.log([gd, 'removed!']);\n",
       "            Plotly.purge(gd);\n",
       "            observer.disconnect();\n",
       "        }}\n",
       "}});\n",
       "\n",
       "// Listen for the removal of the full notebook cells\n",
       "var notebookContainer = gd.closest('#notebook-container');\n",
       "if (notebookContainer) {{\n",
       "    x.observe(notebookContainer, {childList: true});\n",
       "}}\n",
       "\n",
       "// Listen for the clearing of the current output cell\n",
       "var outputEl = gd.closest('.output');\n",
       "if (outputEl) {{\n",
       "    x.observe(outputEl, {childList: true});\n",
       "}}\n",
       "\n",
       "                        })                };                });            </script>        </div>"
      ]
     },
     "metadata": {},
     "output_type": "display_data"
    }
   ],
   "source": [
    "#the required columns are Rating, Revenue_Millions, Rank\n",
    "bubble_data = df_new[['Rating', 'Revenue_Millions', 'Rank']]\n",
    "\n",
    "fig = px.scatter(bubble_data, x='Rating', y='Revenue_Millions', size='Revenue_Millions', \n",
    "                 hover_name='Rank', title='Revenue of 250 Popular Movies by Rating Scores')\n",
    "fig.update_layout(width=1100,height=600)\n",
    "\n",
    "fig.show()\n",
    "\n",
    "\n",
    "#Insight5: Based on the provided data and the graphic, \n",
    "#it is evident that the majority of movie revenues fall within the range of $100-400 million. \n",
    "#Similarly, the ratings of the movies are concentrated between 7.4 and 8.1. \n",
    "#It is challenging to argue for a strong correlation \n",
    "#between the movie rating and revenue based solely on this data. \n",
    "#However, it can be clearly stated that movies with the highest earnings \n",
    "#tend to have ratings between 7.8 and 8.1. \n",
    "#This suggests that there may be a positive relationship between higher ratings and higher revenue, \n",
    "#although other factors could also contribute to a movie's financial success.\n"
   ]
  },
  {
   "cell_type": "markdown",
   "id": "c67cef1b",
   "metadata": {},
   "source": [
    "## 10. Conclusion (Sonuçları sunma)"
   ]
  },
  {
   "cell_type": "markdown",
   "id": "a48bc271",
   "metadata": {},
   "source": [
    "# Insight1:\n",
    "#Except 2008 and 2015, it can be argued that the number of  movies that rank in top250 \n",
    "#gradually increased between 2006 and 2016. there is a clear jump between 2015 and 2016.\n",
    "#After 2015 when the number of top250 movies decreased, \n",
    "#the film sector sector seems to find the way of making high ranking movies. \n",
    "\n",
    "# Insight2: \n",
    "#Based on the analysis of the top 10 movie genres, \n",
    "#it can be inferred that Drama genres exhibit the highest level of attraction among viewers.\n",
    "#Because it has the highest number of movies.\n",
    "#Following behind Drama genres is the Adventure genre. \n",
    "#However, the number of movies categorized under Drama is more than double \n",
    "#the number of movies in the Adventure genre. \n",
    "#Interestingly, my personal favorite genre, Crime, \n",
    "#is ranked at the 6th position in terms of the number of movies produced within this genre.\n",
    "#musical and western type of movies are the least preferred categories for the producers\n",
    "\n",
    "# Insight3: \n",
    "#Based on the analysis, there is a relatively strong and positive correlation \n",
    "#observed between movie ratings and the number of votes they receive. \n",
    "#However, it is important to note that correlation does not provide information\n",
    "#about the direction of causality.\n",
    "#Nevertheless, based on the results, it can be inferred that highly ranked movies \n",
    "#tend to receive more votes, \n",
    "#indicating that they are likely watched by a larger audience.\n",
    "#relatively high correlation between the ranking and the votes supports this argument\n",
    "\n",
    "# Insight4:\n",
    "#Actors such as Leonardo DiCaprio, Brad Pitt, and Robert Downey Jr. \n",
    "#have appeared in 8 movies that are ranked in the top 250 category. \n",
    "#These actors have consistently been involved in high-ranking films.\n",
    "#However, without conducting a specific analysis of the ratings based on actors, \n",
    "#it is difficult to make a definitive claim about producers' preferences \n",
    "#for working with high-ranking actors. \n",
    "#However, based on the data provided, \n",
    "#it can be inferred that these actors, \n",
    "#with an average rating of more than 7, have more opportunities to be cast in movies. \n",
    "#This suggests that their performances are well-received by audiences, \n",
    "#potentially making them attractive choices for filmmakers.\n",
    "\n",
    "\n",
    "# Insight5: \n",
    "#Based on the provided data and the graphic, \n",
    "#it is evident that the majority of movie revenues fall within the range of $100-400 million. \n",
    "#Similarly, the ratings of the movies are concentrated between 7.4 and 8.1. \n",
    "#It is challenging to argue for a strong correlation \n",
    "#between the movie rating and revenue based solely on this data. \n",
    "#However, it can be clearly stated that movies with the highest earnings \n",
    "#tend to have ratings between 7.8 and 8.1. \n",
    "#This suggests that there may be a positive relationship between higher ratings and higher revenue, \n",
    "#although other factors could also contribute to a movie's financial success.\n",
    "#there are also movies which have relatively low ratings but are financially profitable.\n",
    "#the most proftable movies' rating is 8.1\n"
   ]
  },
  {
   "cell_type": "markdown",
   "id": "df4cd133",
   "metadata": {},
   "source": [
    "# T E B R İ K L E R"
   ]
  },
  {
   "cell_type": "markdown",
   "id": "8a14e8b5",
   "metadata": {},
   "source": [
    "___\n",
    "\n",
    "<p style=\"text-align: center;\"><img src=\"https://techproeducation.com/wp-content/uploads/2022/01/Calisma-Yuzeyi-1-kopya-5-1-768x126.png\" class=\"img-fluid\" alt=\"TECHPRO\"></p>\n",
    "\n",
    "___"
   ]
  }
 ],
 "metadata": {
  "kernelspec": {
   "display_name": "Python 3 (ipykernel)",
   "language": "python",
   "name": "python3"
  },
  "language_info": {
   "codemirror_mode": {
    "name": "ipython",
    "version": 3
   },
   "file_extension": ".py",
   "mimetype": "text/x-python",
   "name": "python",
   "nbconvert_exporter": "python",
   "pygments_lexer": "ipython3",
   "version": "3.9.13"
  }
 },
 "nbformat": 4,
 "nbformat_minor": 5
}
